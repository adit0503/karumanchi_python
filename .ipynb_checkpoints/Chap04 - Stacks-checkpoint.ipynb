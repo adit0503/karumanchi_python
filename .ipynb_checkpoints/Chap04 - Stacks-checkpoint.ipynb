{
 "cells": [
  {
   "cell_type": "markdown",
   "metadata": {},
   "source": [
    "#### python list inbuilt methods for stack:\n",
    "<ul>\n",
    "<li>push = stack.append(x)\n",
    "<li>pop = stack.pop()\n",
    "<li>peek = stack[-1]\n",
    "</ul>    "
   ]
  },
  {
   "cell_type": "markdown",
   "metadata": {},
   "source": [
    "### 1. Check balancing of expressions using stacks"
   ]
  },
  {
   "cell_type": "code",
   "execution_count": null,
   "metadata": {},
   "outputs": [],
   "source": [
    " #O(n)\n",
    "    \n",
    "def balanceExpression(S):\n",
    "    temp = {\n",
    "        ']':'[', \n",
    "        ')':'(', \n",
    "        '}':'{'\n",
    "    }\n",
    "    stack = []\n",
    "    for s in S:\n",
    "        if s in temp:\n",
    "            if stack:\n",
    "                if stack.pop() != temp[s]:\n",
    "                    return False\n",
    "            else:\n",
    "                return False\n",
    "        else:\n",
    "            stack.append(s)\n",
    "    if stack:\n",
    "        return False\n",
    "    return True"
   ]
  },
  {
   "cell_type": "code",
   "execution_count": null,
   "metadata": {},
   "outputs": [],
   "source": [
    "balanceExpression('[{()}]')"
   ]
  },
  {
   "cell_type": "markdown",
   "metadata": {},
   "source": [
    "### 2. Infix to Postfix conversion A+B  -->   AB+"
   ]
  },
  {
   "cell_type": "code",
   "execution_count": null,
   "metadata": {},
   "outputs": [],
   "source": [
    "def toPostfix(S):\n",
    "    prec = {\n",
    "        '*':3,\n",
    "        '/':3,\n",
    "        '+':2,\n",
    "        '-':2,\n",
    "        '(':1,\n",
    "    }\n",
    "    stack = []\n",
    "    res = ''\n",
    "    for s in S:\n",
    "        if s != ' ':\n",
    "            if s.isnumeric():\n",
    "                res += s\n",
    "            elif s =='(':\n",
    "                stack.append(s)\n",
    "            elif s == ')':\n",
    "                t = stack.pop()\n",
    "                while(t != '('):\n",
    "                    res += t\n",
    "                    t = stack.pop()\n",
    "            else:\n",
    "                while(stack and prec[stack[-1]]>=prec[s]):\n",
    "                    res += stack.pop()\n",
    "                stack.append(s)\n",
    "        \n",
    "    while stack:\n",
    "        res += stack.pop()\n",
    "            \n",
    "    return res"
   ]
  },
  {
   "cell_type": "code",
   "execution_count": null,
   "metadata": {},
   "outputs": [],
   "source": [
    "toPostfix('2*3-(6+5)+8')"
   ]
  },
  {
   "cell_type": "markdown",
   "metadata": {},
   "source": [
    "### 3. Postfix Evaluation"
   ]
  },
  {
   "cell_type": "code",
   "execution_count": null,
   "metadata": {},
   "outputs": [],
   "source": [
    "def postfixEval(S):\n",
    "    if len(S) < 3:\n",
    "        return int(S)\n",
    "    \n",
    "    def operation(b,a,op):\n",
    "        if op == '*':\n",
    "            return a*b\n",
    "        elif op == '/':\n",
    "            return a/b\n",
    "        elif op == '+':\n",
    "            return a+b\n",
    "        elif op == '-':\n",
    "            return a-b\n",
    "        \n",
    "        \n",
    "    stack = [] \n",
    "    for s in S:\n",
    "        if s != ' ':\n",
    "            if s.isnumeric():\n",
    "                stack.append(s)\n",
    "            else:\n",
    "                res = operation(float(stack.pop()),float(stack.pop()),s)\n",
    "                stack.append(res)\n",
    "    return stack[-1] if len(stack) == 1 else int(S)"
   ]
  },
  {
   "cell_type": "code",
   "execution_count": null,
   "metadata": {},
   "outputs": [],
   "source": [
    "postfixEval('23*65+-8+')"
   ]
  },
  {
   "cell_type": "markdown",
   "metadata": {},
   "source": [
    "### <span style=\"color:red\">4. Infix Evaluation (2 stacks)<span>"
   ]
  },
  {
   "cell_type": "code",
   "execution_count": null,
   "metadata": {},
   "outputs": [],
   "source": [
    "def infixEval(S):\n",
    "    \n",
    "    def isOperand(s):\n",
    "        return s.isnumeric()\n",
    "    \n",
    "    def isOperator:\n",
    "        op = ['*','/','+','-']\n",
    "        return True if s in op else False\n",
    "    \n",
    "    def operation(b,a,op):\n",
    "        if op == '*':\n",
    "            return a*b\n",
    "        elif op == '/':\n",
    "            return a/b\n",
    "        elif op == '+':\n",
    "            return a+b\n",
    "        elif op == '-':\n",
    "            return a-b\n",
    "    \n",
    "    operator = []\n",
    "    operand = []\n",
    "    \n",
    "    prec = {\n",
    "        '*':3,\n",
    "        '/':3,\n",
    "        '+':2,\n",
    "        '-':2,\n",
    "        '(':1,\n",
    "    }\n",
    "        \n",
    "    for s in S:\n",
    "        if s != ' ':\n",
    "            if isOperand(s):\n",
    "                operand.append(s)\n",
    "            if isOperator(s):\n",
    "                if not operator:\n",
    "                    operator.append(s)\n",
    "                else:\n",
    "                    if prec[s] >= prec[operator[-1]]:\n",
    "                        operator.append(s)\n",
    "            if s == '(':\n",
    "                operator.append(s)\n",
    "            if s == ')':\n",
    "                t = operator.pop()\n",
    "                while(t!='('):\n",
    "                    res = operation(float(operand.pop()),float(operand.pop()),t)\n",
    "                    operand.append(res)\n",
    "                    t = operator.pop()                    "
   ]
  },
  {
   "cell_type": "code",
   "execution_count": null,
   "metadata": {},
   "outputs": [],
   "source": []
  },
  {
   "cell_type": "markdown",
   "metadata": {},
   "source": [
    "### 5. Design a stack that has getmin() fuction in O(1)"
   ]
  },
  {
   "cell_type": "code",
   "execution_count": null,
   "metadata": {},
   "outputs": [],
   "source": [
    "#O(1)\n",
    "\n",
    "class MinStack1:\n",
    "    def __init__(self):\n",
    "        self.stack = []\n",
    "        self.minstack = []\n",
    "        \n",
    "    def push(self, val):\n",
    "        self.stack.append(val)\n",
    "        if not self.minstack or val <= self.getmin():\n",
    "            self.minstack.append(val)\n",
    "        else:\n",
    "            self.minstack.append(self.minstack[-1])\n",
    "            \n",
    "    def pop(self):\n",
    "        self.minstack.pop()\n",
    "        return self.stack.pop()\n",
    "    \n",
    "    def getmin(self):\n",
    "        return self.minstack[-1]"
   ]
  },
  {
   "cell_type": "code",
   "execution_count": null,
   "metadata": {},
   "outputs": [],
   "source": [
    "arr = [2,4,3,1,6,7,8,5,4,3,2,8,7,6,5,9,2,3,1]\n",
    "ms1 = MinStack1()\n",
    "for a in arr:\n",
    "    ms1.push(a)\n",
    "print(ms1.stack,ms1.minstack)"
   ]
  },
  {
   "cell_type": "code",
   "execution_count": null,
   "metadata": {},
   "outputs": [],
   "source": [
    "#O(1)\n",
    "\n",
    "class MinStack2:\n",
    "    def __init__(self):\n",
    "        self.stack = []\n",
    "        self.minstack = []\n",
    "        \n",
    "    def push(self, val):\n",
    "        self.stack.append(val)\n",
    "        if not self.minstack or val <= self.getmin():\n",
    "            self.minstack.append(val)\n",
    "            \n",
    "    def pop(self):\n",
    "        if self.stack[-1] == self.getmin():\n",
    "            self.minstack.pop()\n",
    "        return self.stack.pop()\n",
    "    \n",
    "    def getmin(self):\n",
    "        return self.minstack[-1]"
   ]
  },
  {
   "cell_type": "code",
   "execution_count": null,
   "metadata": {},
   "outputs": [],
   "source": [
    "arr = [2,4,3,1,6,7,8,5,4,3,2,8,7,6,5,9,2,3,1]\n",
    "ms2 = MinStack2()\n",
    "for a in arr:\n",
    "    ms2.push(a)\n",
    "print(ms2.stack,ms2.minstack)\n",
    "# for _ in range(len(arr)):\n",
    "#     print(ms2.stack,ms2.minstack)\n",
    "#     ms2.pop()"
   ]
  },
  {
   "cell_type": "markdown",
   "metadata": {},
   "source": [
    "### 8. Given string with middle as X, check palindrome"
   ]
  },
  {
   "cell_type": "code",
   "execution_count": null,
   "metadata": {},
   "outputs": [],
   "source": [
    "#O(n) - using stacks\n",
    "\n",
    "def isPalindrome(S):\n",
    "    stack = []\n",
    "    l = 0\n",
    "    \n",
    "    while(S[l] != 'X'):\n",
    "        stack.append(S[l])\n",
    "        l += 1\n",
    "    l += 1\n",
    "    while(l < len(S)):\n",
    "        if S[l] != stack.pop():\n",
    "            return False\n",
    "        l += 1\n",
    "        \n",
    "    return True"
   ]
  },
  {
   "cell_type": "code",
   "execution_count": null,
   "metadata": {},
   "outputs": [],
   "source": [
    "isPalindrome('qwertyaaXaaytrewq')"
   ]
  },
  {
   "cell_type": "code",
   "execution_count": null,
   "metadata": {},
   "outputs": [],
   "source": [
    "def isPalindrome2(S):\n",
    "    stack = []\n",
    "    m = len(S)//2\n",
    "    i = 0\n",
    "    while(i<m):\n",
    "        stack.append(S[i])\n",
    "        i += 1\n",
    "        \n",
    "    if len(S)%2 != 0:\n",
    "        m += 1\n",
    "    \n",
    "    while(m < len(S)):\n",
    "        if S[m] != stack.pop():\n",
    "            return False\n",
    "        m += 1\n",
    "    return True"
   ]
  },
  {
   "cell_type": "code",
   "execution_count": null,
   "metadata": {},
   "outputs": [],
   "source": [
    "isPalindrome2('asdfdsa')"
   ]
  },
  {
   "cell_type": "markdown",
   "metadata": {},
   "source": [
    "### 11. Reverse the elements of a stack using only stack operations (push/pop)"
   ]
  },
  {
   "cell_type": "code",
   "execution_count": null,
   "metadata": {},
   "outputs": [],
   "source": [
    "def reverseStack(stack):\n",
    "    newstack = []\n",
    "    while(stack):\n",
    "        newstack.append(stack.pop())\n",
    "    return newstack"
   ]
  },
  {
   "cell_type": "code",
   "execution_count": null,
   "metadata": {},
   "outputs": [],
   "source": [
    "reverseStack([1,2,3,4,5])"
   ]
  },
  {
   "cell_type": "markdown",
   "metadata": {},
   "source": [
    "### [18. Validate Stack Sequence eg pushed[1,2,3,4,5,6] -> popped[3,2,5,6,4,1]](https://leetcode.com/problems/validate-stack-sequences/solution/)"
   ]
  },
  {
   "cell_type": "code",
   "execution_count": null,
   "metadata": {},
   "outputs": [],
   "source": [
    "def validateStackSequences(pushed,popped):\n",
    "    stack = []\n",
    "    j = 0\n",
    "    \n",
    "    for x in pushed:\n",
    "        stack.append(x)\n",
    "        while(stack and stack[-1]==popped[j] and j<len(popped)):\n",
    "            stack.pop()\n",
    "            j += 1\n",
    "    \n",
    "    return j == len(popped)"
   ]
  },
  {
   "cell_type": "code",
   "execution_count": null,
   "metadata": {},
   "outputs": [],
   "source": [
    "validateStackSequences([1,2,3,4,5,6],[3,2,5,6,4,1])"
   ]
  },
  {
   "cell_type": "markdown",
   "metadata": {},
   "source": [
    "### 20. Check whether a given string of push/pop operations is admissible on a stack "
   ]
  },
  {
   "cell_type": "code",
   "execution_count": null,
   "metadata": {},
   "outputs": [],
   "source": [
    "def admissibleStackOp(S):\n",
    "    countS = 0\n",
    "    countX = 0\n",
    "    for s in S:\n",
    "        if countX > countS:\n",
    "            return False\n",
    "        if s == 'S':\n",
    "            countS += 1\n",
    "        if s == 'X':\n",
    "            countX += 1\n",
    "    return True"
   ]
  },
  {
   "cell_type": "code",
   "execution_count": null,
   "metadata": {},
   "outputs": [],
   "source": [
    "admissibleStackOp2('SSXSSSSXXXXX')"
   ]
  },
  {
   "cell_type": "code",
   "execution_count": null,
   "metadata": {},
   "outputs": [],
   "source": [
    "def admissibleStackOp2(S):\n",
    "    stack = []\n",
    "    for s in S:\n",
    "        if s == 'S':\n",
    "            stack.append('*')\n",
    "        if s == 'X':\n",
    "            if not stack:\n",
    "                return False\n",
    "            else:\n",
    "                stack.pop()\n",
    "    return True"
   ]
  },
  {
   "cell_type": "code",
   "execution_count": null,
   "metadata": {},
   "outputs": [],
   "source": [
    "admissibleStackOp2('SXXSSS')"
   ]
  },
  {
   "cell_type": "markdown",
   "metadata": {},
   "source": [
    "### [22. Finding spans i.e. in stock markets](https://leetcode.com/problems/online-stock-span/)"
   ]
  },
  {
   "cell_type": "code",
   "execution_count": null,
   "metadata": {},
   "outputs": [],
   "source": [
    "#O(n2)\n",
    "\n",
    "def findingSpans(A):\n",
    "    \n",
    "    S = []\n",
    "    for i in range(len(A)):\n",
    "        j = i\n",
    "        while(j > -1 and A[j]<=A[i]):\n",
    "            j -= 1\n",
    "        S.append(i-j)\n",
    "    return S"
   ]
  },
  {
   "cell_type": "code",
   "execution_count": null,
   "metadata": {},
   "outputs": [],
   "source": [
    "findingSpans([6,3,4,5,2])"
   ]
  },
  {
   "cell_type": "code",
   "execution_count": 1,
   "metadata": {},
   "outputs": [],
   "source": [
    "#O(n) - using stack to store index of previous highest value\n",
    "\n",
    "def findingSpans2(A):\n",
    "    stack = []\n",
    "    P = [0 for _ in range(len(A))]\n",
    "    for i in range(len(A)):\n",
    "        while stack and A[i] > A[stack[-1]]:\n",
    "            stack.pop()\n",
    "            \n",
    "        if not stack:\n",
    "            p = -1\n",
    "        else:\n",
    "            p = stack[-1]\n",
    "            \n",
    "        stack.append(i)\n",
    "        P[i] = i-p\n",
    "        \n",
    "    return P"
   ]
  },
  {
   "cell_type": "code",
   "execution_count": 2,
   "metadata": {},
   "outputs": [
    {
     "data": {
      "text/plain": [
       "[1, 1, 2, 3, 1]"
      ]
     },
     "execution_count": 2,
     "metadata": {},
     "output_type": "execute_result"
    }
   ],
   "source": [
    "findingSpans2([6,3,4,5,2])"
   ]
  },
  {
   "cell_type": "markdown",
   "metadata": {},
   "source": [
    "### [24. Largest rectangle under histogram](https://leetcode.com/problems/largest-rectangle-in-histogram/)"
   ]
  },
  {
   "cell_type": "code",
   "execution_count": null,
   "metadata": {},
   "outputs": [],
   "source": [
    "#O(n2)\n",
    "\n",
    "def largestRect(arr):\n",
    "    area = 0\n",
    "    for i,a in enumerate(arr):\n",
    "        l=r=i\n",
    "        while(l>-1 and arr[l]>=a):\n",
    "            l -= 1\n",
    "        while(r<len(arr) and arr[r]>=a):\n",
    "            r += 1\n",
    "        ar = (r-l-1)*a\n",
    "        if ar > area:\n",
    "            area  = ar\n",
    "    return area"
   ]
  },
  {
   "cell_type": "code",
   "execution_count": null,
   "metadata": {},
   "outputs": [],
   "source": [
    "largestRect([3,2,5,6,1,4,4,1,1,1,1,1,1])"
   ]
  },
  {
   "cell_type": "code",
   "execution_count": null,
   "metadata": {},
   "outputs": [],
   "source": [
    "def largestRect2(height):\n",
    "    stack = []\n",
    "    i = 0\n",
    "    area = 0\n",
    "    while(i<len(height)):\n",
    "        if not stack or height[i] > height[stack[-1]]:\n",
    "            stack.append(i)\n",
    "        else:\n",
    "            curr = stack.pop()\n",
    "            width = i if not stack else i-stack[-1]-1\n",
    "            area = max(area,width*height[curr])\n",
    "            i -= 1\n",
    "        i += 1\n",
    "        \n",
    "    while(stack):\n",
    "        curr = stack.pop()\n",
    "        width = i if not stack else i-stack[-1]-1\n",
    "        area = max(area,width*height[curr])\n",
    "        \n",
    "    return area"
   ]
  },
  {
   "cell_type": "code",
   "execution_count": null,
   "metadata": {},
   "outputs": [],
   "source": [
    "largestRect2([3,2,5,6,1,4,4])"
   ]
  },
  {
   "cell_type": "code",
   "execution_count": null,
   "metadata": {},
   "outputs": [],
   "source": [
    "def largestRect3(height):\n",
    "    height.append(0)\n",
    "    stack = [-1]\n",
    "    area = 0\n",
    "    for i in range(len(height)):\n",
    "        while(height[i] < height[stack[-1]]):\n",
    "            h = height[stack.pop()]\n",
    "            w = i - stack[-1] - 1\n",
    "            area = max(area,h*w)        \n",
    "        stack.append(i)\n",
    "    return area"
   ]
  },
  {
   "cell_type": "code",
   "execution_count": null,
   "metadata": {},
   "outputs": [],
   "source": [
    "largestRect3([3,2,5,6,1,4,4])"
   ]
  },
  {
   "cell_type": "markdown",
   "metadata": {},
   "source": [
    "### [27. Recursively remove adjacent duplicate character from a string](https://leetcode.com/problems/remove-all-adjacent-duplicates-in-string/)"
   ]
  },
  {
   "cell_type": "code",
   "execution_count": null,
   "metadata": {},
   "outputs": [],
   "source": [
    "#O(n)\n",
    "\n",
    "def removeDuplicates(S):\n",
    "    stack = []\n",
    "    flag = True\n",
    "    for s in S:\n",
    "        while(stack and s == stack[-1]):\n",
    "            stack.pop()\n",
    "            flag = False\n",
    "        if flag:\n",
    "            stack.append(s)\n",
    "        flag = True\n",
    "    return ''.join(stack)\n",
    "#     return stack"
   ]
  },
  {
   "cell_type": "code",
   "execution_count": null,
   "metadata": {},
   "outputs": [],
   "source": [
    "removeDuplicates('mississippi')"
   ]
  },
  {
   "cell_type": "markdown",
   "metadata": {},
   "source": [
    "### [28. Given an array of elements, replace every element with the nearest greater element on the right of that element](https://leetcode.com/problems/next-greater-element-i/)"
   ]
  },
  {
   "cell_type": "code",
   "execution_count": 34,
   "metadata": {},
   "outputs": [],
   "source": [
    "#O(n2)\n",
    "\n",
    "def nextNearestGreater(arr):\n",
    "    temp = {}\n",
    "    for i in range(len(arr)):\n",
    "        j = i+1\n",
    "        while(j<len(arr) and arr[j] <= arr[i]):\n",
    "            j += 1\n",
    "        if j < len(arr):\n",
    "            temp[arr[i]] = arr[j]\n",
    "    return [temp.get(a,-1) for a in arr]"
   ]
  },
  {
   "cell_type": "code",
   "execution_count": 35,
   "metadata": {},
   "outputs": [
    {
     "data": {
      "text/plain": [
       "[6, -1, 4, 4, 5, -1]"
      ]
     },
     "execution_count": 35,
     "metadata": {},
     "output_type": "execute_result"
    }
   ],
   "source": [
    "nextNearestGreater([2,6,3,1,4,5])"
   ]
  },
  {
   "cell_type": "code",
   "execution_count": 36,
   "metadata": {},
   "outputs": [],
   "source": [
    "#O(n)\n",
    "\n",
    "def nextNearestGreater2(arr):\n",
    "    stack = []\n",
    "    temp = {}\n",
    "    for a in arr:\n",
    "        if not stack or a < stack[-1]:\n",
    "            temp[a] = -1\n",
    "        else:\n",
    "            while(stack and a > stack[-1]):\n",
    "                temp[stack.pop()] = a\n",
    "                \n",
    "        stack.append(a)\n",
    "    return [temp.get(a,-1) for a in arr]\n",
    "    "
   ]
  },
  {
   "cell_type": "code",
   "execution_count": 37,
   "metadata": {},
   "outputs": [
    {
     "data": {
      "text/plain": [
       "[6, -1, 4, 4, 5, -1]"
      ]
     },
     "execution_count": 37,
     "metadata": {},
     "output_type": "execute_result"
    }
   ],
   "source": [
    "nextNearestGreater2([2,6,3,1,4,5])"
   ]
  }
 ],
 "metadata": {
  "kernelspec": {
   "display_name": "Python 3",
   "language": "python",
   "name": "python3"
  },
  "language_info": {
   "codemirror_mode": {
    "name": "ipython",
    "version": 3
   },
   "file_extension": ".py",
   "mimetype": "text/x-python",
   "name": "python",
   "nbconvert_exporter": "python",
   "pygments_lexer": "ipython3",
   "version": "3.6.9"
  }
 },
 "nbformat": 4,
 "nbformat_minor": 4
}
