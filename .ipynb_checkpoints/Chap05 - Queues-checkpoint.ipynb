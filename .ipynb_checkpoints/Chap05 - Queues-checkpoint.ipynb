{
 "cells": [
  {
   "cell_type": "markdown",
   "metadata": {},
   "source": [
    "#### python list inbuilt methods for queue:\n",
    "<ul>\n",
    "<li>enqueue = queue.append(x)\n",
    "<li>dequeue = queue.pop(0)\n",
    "<li>front = queue[0]\n",
    "</ul>    "
   ]
  },
  {
   "cell_type": "markdown",
   "metadata": {},
   "source": [
    "### 1. Reverse a queue using only enqueue/dequeue operations"
   ]
  },
  {
   "cell_type": "code",
   "execution_count": null,
   "metadata": {},
   "outputs": [],
   "source": [
    "#O(n) - using a stack\n",
    "\n",
    "def reverseQueue(queue):\n",
    "    stack = []\n",
    "    while(queue):\n",
    "        stack.append(queue.pop(0))\n",
    "    while(stack):\n",
    "        queue.append(stack.pop())"
   ]
  },
  {
   "cell_type": "code",
   "execution_count": null,
   "metadata": {},
   "outputs": [],
   "source": [
    "q = [1,2,3,4,5]\n",
    "reverseQueue(q)\n",
    "q"
   ]
  },
  {
   "cell_type": "markdown",
   "metadata": {},
   "source": [
    "### 2,3"
   ]
  },
  {
   "cell_type": "markdown",
   "metadata": {},
   "source": [
    "### [4. Maximum sum in sliding window](https://leetcode.com/problems/sliding-window-maximum/)"
   ]
  },
  {
   "cell_type": "code",
   "execution_count": null,
   "metadata": {},
   "outputs": [],
   "source": [
    "#O()\n",
    "def maxSlidingWindow(arr,w):\n",
    "    B = []\n",
    "    while(len(arr)>=w):\n",
    "        B.append(max(arr[:w]))\n",
    "        arr.pop(0)\n",
    "    return B"
   ]
  },
  {
   "cell_type": "code",
   "execution_count": null,
   "metadata": {},
   "outputs": [],
   "source": [
    "maxSlidingWindow([1,2,3,1,4,5,2,3,6],3)"
   ]
  },
  {
   "cell_type": "code",
   "execution_count": null,
   "metadata": {},
   "outputs": [],
   "source": [
    "import collections\n",
    "def maxSlidingWindow2(nums,k):\n",
    "        d = collections.deque()\n",
    "        out = []\n",
    "        \n",
    "        for i, n in enumerate(nums):\n",
    "            while d and n > nums[d[-1]]:\n",
    "                d.pop()\n",
    "                \n",
    "            d.append(i)\n",
    "            \n",
    "            if d[0] == i - k:\n",
    "                d.popleft()\n",
    "            \n",
    "            if i >= k - 1:\n",
    "                out.append(nums[d[0]])\n",
    "        return out"
   ]
  },
  {
   "cell_type": "code",
   "execution_count": null,
   "metadata": {},
   "outputs": [],
   "source": [
    "maxSlidingWindow2([1,2,3,1,4,5,2,3,6],3)"
   ]
  },
  {
   "cell_type": "markdown",
   "metadata": {},
   "source": [
    "### 9. Check if each successive pair in a array is consecutive or not"
   ]
  },
  {
   "cell_type": "code",
   "execution_count": null,
   "metadata": {},
   "outputs": [],
   "source": [
    "def checkSuccessive(arr):\n",
    "    i,j = 0,1\n",
    "    while(j<len(arr)):\n",
    "        if abs(arr[j]-arr[i]) != 1:\n",
    "            return False\n",
    "        i += 2\n",
    "        j = i + 1\n",
    "    return True"
   ]
  },
  {
   "cell_type": "code",
   "execution_count": null,
   "metadata": {},
   "outputs": [],
   "source": [
    "checkSuccessive([4,5,-2,-3,11,13,5,6,20])"
   ]
  },
  {
   "cell_type": "markdown",
   "metadata": {},
   "source": [
    "### 10. Given a queue, interleaving first half with second half"
   ]
  },
  {
   "cell_type": "code",
   "execution_count": null,
   "metadata": {},
   "outputs": [],
   "source": [
    "#O(n) - using extra queues\n",
    "\n",
    "def queueInterleaving(queue):\n",
    "    tempQueue = []\n",
    "    l = len(queue)\n",
    "    m = l // 2 if l%2==0 else l//2+1\n",
    "    while(m > 0):\n",
    "        tempQueue.append(queue.pop(0))\n",
    "        m -= 1\n",
    "\n",
    "    ans = []\n",
    "    while(queue):\n",
    "        ans.append(tempQueue.pop(0))\n",
    "        ans.append(queue.pop(0))\n",
    "        \n",
    "    if queue:\n",
    "        ans.append(tempQueue.pop(0))\n",
    "    \n",
    "    return ans"
   ]
  },
  {
   "cell_type": "code",
   "execution_count": null,
   "metadata": {},
   "outputs": [],
   "source": [
    "queueInterleaving([1,2,3,4,5,6,7,8,9,10])"
   ]
  },
  {
   "cell_type": "markdown",
   "metadata": {},
   "source": [
    "### 11. Reverse the order of first k elements"
   ]
  },
  {
   "cell_type": "code",
   "execution_count": null,
   "metadata": {},
   "outputs": [],
   "source": [
    "#O(n) = using 2 stacks\n",
    "\n",
    "def reverseFirstKElements(queue,k):\n",
    "    stack = []\n",
    "    stack2 = []\n",
    "    while(k>0):\n",
    "        stack.append(queue.pop(0))\n",
    "        k -= 1\n",
    "    while(queue):\n",
    "        stack2.append(queue.pop(0))\n",
    "        \n",
    "    while(stack):\n",
    "        queue.append(stack.pop())\n",
    "        \n",
    "    while(stack2):\n",
    "        stack.append(stack2.pop())\n",
    "    while(stack):\n",
    "        queue.append(stack.pop())\n",
    "    \n",
    "    return queue"
   ]
  },
  {
   "cell_type": "code",
   "execution_count": null,
   "metadata": {},
   "outputs": [],
   "source": [
    "reverseFirstKElements([1,2,3,4,5,6,7,8,9],6)"
   ]
  },
  {
   "cell_type": "code",
   "execution_count": null,
   "metadata": {},
   "outputs": [],
   "source": [
    "#O(n) - using one stack\n",
    "\n",
    "def reverseFirstKElements2(queue,k):\n",
    "    stack = []\n",
    "    while(k>0):\n",
    "        stack.append(queue.pop(0))\n",
    "        k -= 1\n",
    "        \n",
    "    l = len(queue)\n",
    "    while(stack):\n",
    "        queue.append(stack.pop())\n",
    "    while(l>0):\n",
    "        queue.append(queue.pop(0))\n",
    "        l -= 1\n",
    "    \n",
    "    return queue"
   ]
  },
  {
   "cell_type": "code",
   "execution_count": null,
   "metadata": {},
   "outputs": [],
   "source": [
    "reverseFirstKElements2([1,2,3,4,5,6,7,8,9],8)"
   ]
  },
  {
   "cell_type": "markdown",
   "metadata": {},
   "source": [
    "### 13. Palndrome using dequeue"
   ]
  },
  {
   "cell_type": "code",
   "execution_count": 8,
   "metadata": {},
   "outputs": [],
   "source": [
    "#O(n)\n",
    "\n",
    "import collections\n",
    "def palindromeDeque(S):\n",
    "    d = collections.deque(S)\n",
    "    while(d):\n",
    "        if d[0] == d[-1]:\n",
    "            d.popleft()\n",
    "            if not d:\n",
    "                return True\n",
    "            d.pop()\n",
    "        else:\n",
    "            return False\n",
    "    return True"
   ]
  },
  {
   "cell_type": "code",
   "execution_count": 17,
   "metadata": {},
   "outputs": [
    {
     "data": {
      "text/plain": [
       "True"
      ]
     },
     "execution_count": 17,
     "metadata": {},
     "output_type": "execute_result"
    }
   ],
   "source": [
    "palindromeDeque('madam')"
   ]
  }
 ],
 "metadata": {
  "kernelspec": {
   "display_name": "Python 3",
   "language": "python",
   "name": "python3"
  },
  "language_info": {
   "codemirror_mode": {
    "name": "ipython",
    "version": 3
   },
   "file_extension": ".py",
   "mimetype": "text/x-python",
   "name": "python",
   "nbconvert_exporter": "python",
   "pygments_lexer": "ipython3",
   "version": "3.6.9"
  }
 },
 "nbformat": 4,
 "nbformat_minor": 4
}
