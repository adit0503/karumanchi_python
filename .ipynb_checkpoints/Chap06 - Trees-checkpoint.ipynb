{
 "cells": [
  {
   "cell_type": "code",
   "execution_count": 1,
   "metadata": {},
   "outputs": [],
   "source": [
    "import turtle as t"
   ]
  },
  {
   "cell_type": "code",
   "execution_count": 2,
   "metadata": {},
   "outputs": [],
   "source": [
    "class TreeNode:\n",
    "    def __init__(self, val=0, left=None, right=None):\n",
    "        self.val = val\n",
    "        self.left = left\n",
    "        self.right = right\n",
    "        self.next = None\n",
    "\n",
    "def arrayToTree(S):\n",
    "    if S == '[]':\n",
    "        return None\n",
    "    \n",
    "    nodes = []\n",
    "    for s in S.strip('[]').split(','):\n",
    "        if s == 'null':\n",
    "            nodes.append(None)\n",
    "        else:\n",
    "            nodes.append(TreeNode(int(s)))\n",
    "    \n",
    "    stack = nodes[::-1]\n",
    "    root = stack.pop()\n",
    "    \n",
    "    for node in nodes:\n",
    "        if node:\n",
    "            if stack:\n",
    "                node.left = stack.pop()\n",
    "            if stack:\n",
    "                node.right = stack.pop()        \n",
    "    return root\n",
    "    \n",
    "def printTreeRow(queue):\n",
    "    return [q.val for q in queue]\n",
    "\n",
    "def printNode(node):\n",
    "    if not node:\n",
    "        return \"None\"\n",
    "    \n",
    "    return str(node.val)"
   ]
  },
  {
   "cell_type": "code",
   "execution_count": 3,
   "metadata": {},
   "outputs": [],
   "source": [
    "def drawTree(root):\n",
    "    \n",
    "    def height(root):\n",
    "        return 1 + max(height(root.left), height(root.right)) if root else -1\n",
    "    \n",
    "    def jumpto(x, y):\n",
    "        t.penup()\n",
    "        t.goto(x, y)\n",
    "        t.pendown()\n",
    "        \n",
    "    def draw(node, x, y, dx):\n",
    "        if node:\n",
    "            t.goto(x, y)\n",
    "            jumpto(x, y-20)\n",
    "            t.write(node.val, align='center', font=('Arial', 12, 'normal'))\n",
    "            draw(node.left, x-dx, y-60, dx/2)\n",
    "            jumpto(x, y-20)\n",
    "            draw(node.right, x+dx, y-60, dx/2) \n",
    "        \n",
    "\n",
    "    t.clear()\n",
    "    h = height(root)\n",
    "    jumpto(0, 30*h)\n",
    "    draw(root, 0, 30*h, 40*h)\n",
    "    \n",
    "    t.hideturtle()\n",
    "    t.mainloop()\n",
    "    t.exitonclick()"
   ]
  },
  {
   "cell_type": "code",
   "execution_count": null,
   "metadata": {},
   "outputs": [],
   "source": [
    "root = arrayToTree('[1,2,3,4,5,6,7,8,9,10,11,12,13,14,15,16,17,18,19]')\n",
    "drawTree(root)"
   ]
  },
  {
   "cell_type": "markdown",
   "metadata": {},
   "source": [
    "# Binary Trees\n",
    "\n",
    "1.  Find Maximum Node Value\n",
    "2.  Find Maximum Node Value at each Level*\n",
    "3.  Find a given value\n",
    "5.  Insert Node\n",
    "6.  Find Size\n",
    "8.  Reverse Level Order \n",
    "10. Find Maximum height/depth*\n",
    "13. Delete Node\n",
    "14. Find Number of Leaf nodes\n",
    "15. Find Number of Full nodes\n",
    "16. Find Number of Half nodes\n",
    "17. Check if two trees are Identical*\n",
    "18. Find Diameter/Longest Path*\n",
    "19. Find Maximum level-sum Level*\n",
    "20. Print all Root-To-Leaf Paths*\n",
    "21. Total Sum of all Root-To-Leaf Path Numbers*\n",
    "22. Mamximum P"
   ]
  },
  {
   "cell_type": "markdown",
   "metadata": {},
   "source": [
    "### [PreOrder Traversal](https://leetcode.com/problems/binary-tree-preorder-traversal/)"
   ]
  },
  {
   "cell_type": "code",
   "execution_count": null,
   "metadata": {},
   "outputs": [],
   "source": [
    "#O(n) - using recursion\n",
    "\n",
    "def preOrder(node,ans):\n",
    "    if not node:\n",
    "        return\n",
    "    else:\n",
    "        ans.append(node.val)\n",
    "        preOrder(node.left,ans)\n",
    "        preOrder(node.right,ans)"
   ]
  },
  {
   "cell_type": "code",
   "execution_count": null,
   "metadata": {},
   "outputs": [],
   "source": [
    "root = arrayToTree('[1,2,3,4,5,6,7,8,9]')\n",
    "res = []\n",
    "preOrder(root,res)\n",
    "res"
   ]
  },
  {
   "cell_type": "code",
   "execution_count": null,
   "metadata": {},
   "outputs": [],
   "source": [
    "#O(n) - using stack\n",
    "\n",
    "def preOrder2(root):\n",
    "    ans = []\n",
    "    if not root:\n",
    "        return ans\n",
    "    \n",
    "    stack = [] # will contain both left and right children\n",
    "    stack.append(root)\n",
    "    while(stack):\n",
    "        node = stack.pop()\n",
    "        if node:\n",
    "            ans.append(node.val)\n",
    "            stack.append(node.right)\n",
    "            stack.append(node.left)\n",
    "    return ans"
   ]
  },
  {
   "cell_type": "code",
   "execution_count": null,
   "metadata": {},
   "outputs": [],
   "source": [
    "root = arrayToTree('[1,2,3,4,5,6,7]')\n",
    "preOrder2(root)"
   ]
  },
  {
   "cell_type": "markdown",
   "metadata": {},
   "source": [
    "### [InOrder Traversal](https://leetcode.com/problems/binary-tree-inorder-traversal/)"
   ]
  },
  {
   "cell_type": "code",
   "execution_count": null,
   "metadata": {},
   "outputs": [],
   "source": [
    "#O(n) - using recursion\n",
    "\n",
    "def inOrder(node,ans):\n",
    "    if not node:\n",
    "        return\n",
    "    else:\n",
    "        inOrder(node.left,ans)\n",
    "        ans.append(node.val)\n",
    "        inOrder(node.right,ans)"
   ]
  },
  {
   "cell_type": "code",
   "execution_count": null,
   "metadata": {},
   "outputs": [],
   "source": [
    "root = arrayToTree('[1,2,3,4,5,6,7,8,9]')\n",
    "res = []\n",
    "inOrder(root,res)\n",
    "res"
   ]
  },
  {
   "cell_type": "code",
   "execution_count": null,
   "metadata": {},
   "outputs": [],
   "source": [
    "#O(n) - using stacks\n",
    "\n",
    "def inOrder2(root):\n",
    "    ans = []\n",
    "    if not root:\n",
    "        return ans\n",
    "    \n",
    "    stack = [] # will only contain left children\n",
    "    node = root\n",
    "    while(stack or node):\n",
    "        if node:\n",
    "            stack.append(node)\n",
    "            node = node.left\n",
    "        else:\n",
    "            node = stack.pop()\n",
    "            ans.append(node.val)\n",
    "            node = node.right\n",
    "    return ans"
   ]
  },
  {
   "cell_type": "code",
   "execution_count": null,
   "metadata": {},
   "outputs": [],
   "source": [
    "root = arrayToTree('[1,2,null,3,4,null,5,6,null,7]')\n",
    "inOrder2(root)"
   ]
  },
  {
   "cell_type": "code",
   "execution_count": null,
   "metadata": {},
   "outputs": [],
   "source": [
    "drawTree(root)"
   ]
  },
  {
   "cell_type": "markdown",
   "metadata": {},
   "source": [
    "### [PostOrder Traversal](https://leetcode.com/problems/binary-tree-postorder-traversal/)"
   ]
  },
  {
   "cell_type": "code",
   "execution_count": null,
   "metadata": {},
   "outputs": [],
   "source": [
    "#O(n) - using recursion\n",
    "\n",
    "def postOrder(node,ans):\n",
    "    if not node:\n",
    "        return\n",
    "    else:\n",
    "        postOrder(node.left,ans)\n",
    "        postOrder(node.right,ans)\n",
    "        ans.append(node.val)"
   ]
  },
  {
   "cell_type": "code",
   "execution_count": null,
   "metadata": {},
   "outputs": [],
   "source": [
    "root = arrayToTree('[1,2,3,4,5,6,7]')\n",
    "res = []\n",
    "postOrder(root,res)\n",
    "res"
   ]
  },
  {
   "cell_type": "code",
   "execution_count": null,
   "metadata": {},
   "outputs": [],
   "source": [
    "#O(n) - using stack and visited_set\n",
    "\n",
    "def postOrder2(root):\n",
    "    ans = []\n",
    "    if not root:\n",
    "        return ans\n",
    "    \n",
    "    visited = set()\n",
    "    stack = [] # to keep track of visiting the node twice\n",
    "    node = root\n",
    "    while(stack or node):\n",
    "        if node:\n",
    "            stack.append(node)\n",
    "            node = node.left\n",
    "        else:\n",
    "            node = stack.pop()\n",
    "            if node.right and not node.right in visited:\n",
    "                stack.append(node)\n",
    "                node = node.right\n",
    "            else:\n",
    "                visited.add(node)\n",
    "                ans.append(node.val)\n",
    "                node = None\n",
    "    return ans"
   ]
  },
  {
   "cell_type": "code",
   "execution_count": null,
   "metadata": {},
   "outputs": [],
   "source": [
    "root = arrayToTree('[1,2,3,4,5,6,7]')\n",
    "postOrder2(root)"
   ]
  },
  {
   "cell_type": "markdown",
   "metadata": {},
   "source": [
    "### [LevelOrder Traversal](https://leetcode.com/problems/binary-tree-level-order-traversal/)"
   ]
  },
  {
   "cell_type": "code",
   "execution_count": null,
   "metadata": {},
   "outputs": [],
   "source": [
    "#O(n) - using queue and dict\n",
    "\n",
    "def levelOrder(root):\n",
    "    ans = []\n",
    "    if not root:\n",
    "        return ans\n",
    "    \n",
    "    queue = [(root,0)]\n",
    "    temp = {}\n",
    "    while(queue):\n",
    "        node,lvl = queue.pop(0)\n",
    "        temp[lvl] = temp.get(lvl,[])+[node.val]\n",
    "        if node.left:\n",
    "            queue.append((node.left,lvl+1))\n",
    "        if node.right:\n",
    "            queue.append((node.right,lvl+1))\n",
    "    for l in sorted(temp):\n",
    "        ans.append(temp[l])\n",
    "    return ans"
   ]
  },
  {
   "cell_type": "code",
   "execution_count": null,
   "metadata": {},
   "outputs": [],
   "source": [
    "root = arrayToTree('[1,2,3,4,5,6,7]')\n",
    "levelOrder(root)"
   ]
  },
  {
   "cell_type": "code",
   "execution_count": null,
   "metadata": {},
   "outputs": [],
   "source": [
    "#O(n) - using DFS\n",
    "\n",
    "def levelOrder2(node,lvl):\n",
    "    global temp\n",
    "    if not node:\n",
    "        return\n",
    "\n",
    "    temp[lvl] = temp.get(lvl,[]) + [node.val]\n",
    "\n",
    "    levelOrder2(node.left,lvl+1)\n",
    "    levelOrder2(node.right,lvl+1)    "
   ]
  },
  {
   "cell_type": "code",
   "execution_count": null,
   "metadata": {},
   "outputs": [],
   "source": [
    "root = arrayToTree('[1,2,3,4,5,6,7]')\n",
    "temp = {}\n",
    "levelOrder2(root,0)\n",
    "print(temp)"
   ]
  },
  {
   "cell_type": "markdown",
   "metadata": {},
   "source": [
    "### [VerticalOrder Traversal](https://leetcode.com/problems/vertical-order-traversal-of-a-binary-tree/)"
   ]
  },
  {
   "cell_type": "code",
   "execution_count": null,
   "metadata": {},
   "outputs": [],
   "source": [
    "#O(n2) - using BFS\n",
    "\n",
    "def verticalOrder(root):\n",
    "    ans = []\n",
    "    if not root:\n",
    "        return ans\n",
    "    \n",
    "    temp = {}\n",
    "    queue = [(root,0,0)]\n",
    "    \n",
    "    while(queue):\n",
    "        node,x,y = queue.pop(0)\n",
    "        \n",
    "        if x in temp:\n",
    "            if y in temp[x]:\n",
    "                temp[x][y].append(node.val)\n",
    "            else:\n",
    "                temp[x][y] = [node.val]\n",
    "        else:\n",
    "            temp[x] = {y:[node.val]}\n",
    "        \n",
    "        if node.left:\n",
    "            queue.append((node.left,x-1,y-1))\n",
    "        if node.right:\n",
    "            queue.append((node.right,x+1,y-1))\n",
    "            \n",
    "    for x in sorted(temp):\n",
    "        lvl = []\n",
    "        for y in sorted(temp[x],reverse=True):\n",
    "            lvl += sorted(temp[x][y])\n",
    "        ans.append(lvl)\n",
    "    return ans"
   ]
  },
  {
   "cell_type": "code",
   "execution_count": null,
   "metadata": {},
   "outputs": [],
   "source": [
    "root = arrayToTree('[0,5,1,9,null,2,null,null,null,null,3,4,8,6,null,null,null,7]')\n",
    "verticalOrder(root)"
   ]
  },
  {
   "cell_type": "markdown",
   "metadata": {},
   "source": [
    "### 1. Maximum element in a binary tree"
   ]
  },
  {
   "cell_type": "code",
   "execution_count": null,
   "metadata": {},
   "outputs": [],
   "source": [
    "#O(n) - using recursion\n",
    "\n",
    "def findMax(node):\n",
    "    if not node:\n",
    "        return -1\n",
    "    else:\n",
    "        return max(findMax(node.left),findMax(node.right),node.val)"
   ]
  },
  {
   "cell_type": "code",
   "execution_count": null,
   "metadata": {},
   "outputs": [],
   "source": [
    "root = arrayToTree('[1,2,3,4,5,6,7]')\n",
    "findMax(root)"
   ]
  },
  {
   "cell_type": "code",
   "execution_count": null,
   "metadata": {},
   "outputs": [],
   "source": [
    "def findMax2(root):\n",
    "    ans = -1\n",
    "    if not root:\n",
    "        return ans\n",
    "    \n",
    "    queue = [root]\n",
    "    ans = -1\n",
    "    while(queue):\n",
    "        node = queue.pop(0)\n",
    "        ans = max(ans,node.val)\n",
    "        if node.left:\n",
    "            queue.append(node.left)\n",
    "        if node.right:\n",
    "            queue.append(node.right)\n",
    "    \n",
    "    return ans"
   ]
  },
  {
   "cell_type": "code",
   "execution_count": null,
   "metadata": {},
   "outputs": [],
   "source": [
    "root = arrayToTree('[1,2,3,4,5,6,7]')\n",
    "findMax2(root)"
   ]
  },
  {
   "cell_type": "markdown",
   "metadata": {},
   "source": [
    "### [2. Find Largest Value in Each Tree Row](https://leetcode.com/problems/find-largest-value-in-each-tree-row/)"
   ]
  },
  {
   "cell_type": "code",
   "execution_count": null,
   "metadata": {},
   "outputs": [],
   "source": [
    "def largestValues(root):\n",
    "\n",
    "    def maxInRow(Q):\n",
    "        res = Q[0].val\n",
    "        for q in Q:\n",
    "            res = max(res,q.val)\n",
    "        return res\n",
    "\n",
    "    def newQueue(Q):\n",
    "        nextQ = []\n",
    "        while(Q):\n",
    "            node = Q.pop(0)\n",
    "            if node.left:\n",
    "                nextQ.append(node.left)\n",
    "            if node.right:\n",
    "                nextQ.append(node.right)\n",
    "        return nextQ\n",
    "\n",
    "    ans = []\n",
    "\n",
    "    if not root:\n",
    "        return ans\n",
    "\n",
    "    queue = [root]\n",
    "    ans = []\n",
    "    \n",
    "    while(queue):\n",
    "        ans.append(maxInRow(queue))\n",
    "        queue = newQueue(queue)\n",
    "\n",
    "    return ans"
   ]
  },
  {
   "cell_type": "code",
   "execution_count": null,
   "metadata": {},
   "outputs": [],
   "source": [
    "root = arrayToTree('[1,2,3,4,5,6,7]')\n",
    "largestValues(root)"
   ]
  },
  {
   "cell_type": "markdown",
   "metadata": {},
   "source": [
    "### 3. Search element in BT"
   ]
  },
  {
   "cell_type": "code",
   "execution_count": null,
   "metadata": {},
   "outputs": [],
   "source": [
    "#O(n) - using recursion\n",
    "\n",
    "def searchK(node,k):\n",
    "    if not node:\n",
    "        return False\n",
    "    \n",
    "    if node.val == k:\n",
    "        return True\n",
    "\n",
    "    return searchK(node.left,k) or searchK(node.right,k)"
   ]
  },
  {
   "cell_type": "code",
   "execution_count": null,
   "metadata": {},
   "outputs": [],
   "source": [
    "root = arrayToTree('[1,2,3,4,6,7,8,9]')\n",
    "searchK(root,9)"
   ]
  },
  {
   "cell_type": "code",
   "execution_count": null,
   "metadata": {},
   "outputs": [],
   "source": [
    "def searchK2(root,k):\n",
    "    if not root:\n",
    "        return False\n",
    "    \n",
    "    queue = [root]\n",
    "    while(queue):\n",
    "        node = queue.pop(0)\n",
    "        if node.val == k:\n",
    "            return True\n",
    "        \n",
    "        if node.left:\n",
    "            queue.append(node.left)\n",
    "        if node.right:\n",
    "            queue.append(node.right)\n",
    "    \n",
    "    return False"
   ]
  },
  {
   "cell_type": "code",
   "execution_count": null,
   "metadata": {},
   "outputs": [],
   "source": [
    "root = arrayToTree('[1,2,3,4,6,7,8,9]')\n",
    "searchK2(root,10)"
   ]
  },
  {
   "cell_type": "markdown",
   "metadata": {},
   "source": [
    "### 5. Insert into tree"
   ]
  },
  {
   "cell_type": "code",
   "execution_count": null,
   "metadata": {},
   "outputs": [],
   "source": [
    "def insertTreeNode(root,val):\n",
    "    if not root:\n",
    "        root = TreeNode(val)\n",
    "        return root\n",
    "    \n",
    "    queue = [root]\n",
    "    while(queue):\n",
    "        node = queue.pop(0)\n",
    "        if node.left:\n",
    "            queue.append(node.left)\n",
    "        else:\n",
    "            node.left = TreeNode(val)\n",
    "            break\n",
    "        \n",
    "        if node.right:\n",
    "            queue.append(node.right)\n",
    "        else:\n",
    "            node.right = TreeNode(val)\n",
    "            break\n",
    "    return "
   ]
  },
  {
   "cell_type": "code",
   "execution_count": null,
   "metadata": {},
   "outputs": [],
   "source": [
    "root = arrayToTree('[1,2,3,4,5,6,7,8,9]')\n",
    "insertTreeNode(root,10)"
   ]
  },
  {
   "cell_type": "markdown",
   "metadata": {},
   "source": [
    "### 6. Find size of binary tree"
   ]
  },
  {
   "cell_type": "code",
   "execution_count": null,
   "metadata": {},
   "outputs": [],
   "source": [
    "def findSize(node):\n",
    "    if not node:\n",
    "        return 0\n",
    "    return 1 + findSize(node.left) + findSize(node.right)"
   ]
  },
  {
   "cell_type": "code",
   "execution_count": null,
   "metadata": {},
   "outputs": [],
   "source": [
    "root = arrayToTree('[4,6,7,8,9,null,20]')\n",
    "findSize(root)"
   ]
  },
  {
   "cell_type": "code",
   "execution_count": null,
   "metadata": {},
   "outputs": [],
   "source": [
    "def findSize2(root):\n",
    "    ans = 0\n",
    "    if not root:\n",
    "        return ans\n",
    "    queue = [root]\n",
    "    while(queue):\n",
    "        node = queue.pop(0)\n",
    "        ans += 1\n",
    "        if node.left:\n",
    "            queue.append(node.left)\n",
    "        if node.right:\n",
    "            queue.append(node.right)\n",
    "    return ans"
   ]
  },
  {
   "cell_type": "code",
   "execution_count": null,
   "metadata": {},
   "outputs": [],
   "source": [
    "root = arrayToTree('[4,6,7,8,9,3,2,1,5]')\n",
    "findSize2(root)"
   ]
  },
  {
   "cell_type": "markdown",
   "metadata": {},
   "source": [
    "### 8. Level order in reverse"
   ]
  },
  {
   "cell_type": "code",
   "execution_count": null,
   "metadata": {},
   "outputs": [],
   "source": [
    "def reverseLevelOrder(root):\n",
    "    ans = []\n",
    "    if not root:\n",
    "        return ans\n",
    "    \n",
    "    stack = []\n",
    "    queue = [root]\n",
    "    while(queue):\n",
    "        node = queue.pop(0)\n",
    "        stack.append(node.val)\n",
    "        if node.right:\n",
    "            queue.append(node.right)\n",
    "        if node.left:\n",
    "            queue.append(node.left)\n",
    "\n",
    "    return stack[::-1]"
   ]
  },
  {
   "cell_type": "code",
   "execution_count": null,
   "metadata": {},
   "outputs": [],
   "source": [
    "root = arrayToTree('[1,2,3,4,5,6,7]')\n",
    "reverseLevelOrder(root)"
   ]
  },
  {
   "cell_type": "markdown",
   "metadata": {},
   "source": [
    "### [10. Find the max height/depth of Binary tree](https://leetcode.com/problems/maximum-depth-of-binary-tree/)"
   ]
  },
  {
   "cell_type": "code",
   "execution_count": null,
   "metadata": {},
   "outputs": [],
   "source": [
    "def findHeight(node):\n",
    "    if not node:\n",
    "        return 0\n",
    "    return 1 + max(findHeight(node.left),findHeight(node.right))"
   ]
  },
  {
   "cell_type": "code",
   "execution_count": null,
   "metadata": {},
   "outputs": [],
   "source": [
    "root = arrayToTree('[1,2,3,4,5,6,7,8]')\n",
    "findHeight(root)"
   ]
  },
  {
   "cell_type": "code",
   "execution_count": null,
   "metadata": {},
   "outputs": [],
   "source": [
    "def findHeight2(root):\n",
    "    ans = 0\n",
    "    if not root:\n",
    "        return ans\n",
    "    \n",
    "    queue = [(root,1)]\n",
    "    while(queue):\n",
    "        node,lvl = queue.pop(0)\n",
    "        ans = max(ans,lvl)\n",
    "        if node.left:\n",
    "            queue.append((node.left,lvl+1))\n",
    "        if node.right:\n",
    "            queue.append((node.right,lvl+1))\n",
    "    return ans"
   ]
  },
  {
   "cell_type": "code",
   "execution_count": null,
   "metadata": {},
   "outputs": [],
   "source": [
    "root = arrayToTree('[3,1]')\n",
    "findHeight2(root)"
   ]
  },
  {
   "cell_type": "code",
   "execution_count": null,
   "metadata": {},
   "outputs": [],
   "source": [
    "def findDeepestNode(root):\n",
    "    if not root:\n",
    "        return None\n",
    "    \n",
    "    queue = [root]\n",
    "    while(queue):\n",
    "        node = queue.pop(0)\n",
    "        if node.left:\n",
    "            queue.append(node.left)\n",
    "        if node.right:\n",
    "            queue.append(node.right)\n",
    "    return node.val"
   ]
  },
  {
   "cell_type": "code",
   "execution_count": null,
   "metadata": {},
   "outputs": [],
   "source": [
    "root = arrayToTree('[1,null,2,3]')\n",
    "findDeepestNode(root)"
   ]
  },
  {
   "cell_type": "markdown",
   "metadata": {},
   "source": [
    "### 13. Delete a node in Tree"
   ]
  },
  {
   "cell_type": "code",
   "execution_count": null,
   "metadata": {},
   "outputs": [],
   "source": [
    "def deleteNode(root,k):\n",
    "    \n",
    "    queue1 = [root]\n",
    "    while(queue1):\n",
    "        node = queue1.pop(0)\n",
    "        if node.val == k:\n",
    "            break\n",
    "        if node.left:\n",
    "            queue1.append(node.left)\n",
    "        if node.right:\n",
    "            queue1.append(node.right)\n",
    "    delete_node = node\n",
    "    \n",
    "    queue1 = [root]\n",
    "    while(queue1):\n",
    "        node = queue1.pop(0)\n",
    "        if node.left:\n",
    "            queue1.append(node.left)\n",
    "        if node.right:\n",
    "            queue1.append(node.right)\n",
    "    deepest_node = node\n",
    "    \n",
    "    delete_node.val,deepest_node.val = deepest_node.val, delete_node.val\n",
    "    \n",
    "    queue1 = [root]\n",
    "    while(queue1):\n",
    "        node = queue1.pop(0)\n",
    "        if node.left:\n",
    "            if node.left.val == k:\n",
    "                node.left = None\n",
    "                break\n",
    "            queue1.append(node.left)\n",
    "        if node.right:\n",
    "            if node.right.val == k:\n",
    "                node.right = None\n",
    "                break\n",
    "            queue1.append(node.right)"
   ]
  },
  {
   "cell_type": "code",
   "execution_count": null,
   "metadata": {},
   "outputs": [],
   "source": [
    "root = arrayToTree('[1,2,3,4,5,6,7,8,9,10,11,12,13,14,15,16]')\n",
    "deleteNode(root,2)"
   ]
  },
  {
   "cell_type": "markdown",
   "metadata": {},
   "source": [
    "### 14. Number of leaves in a tree"
   ]
  },
  {
   "cell_type": "code",
   "execution_count": null,
   "metadata": {},
   "outputs": [],
   "source": [
    "def findLeaves(node):\n",
    "    if not node:\n",
    "        return 0\n",
    "    if node.left == None and node.right==None:\n",
    "        return 1\n",
    "    return findLeaves(node.left) + findLeaves(node.right)"
   ]
  },
  {
   "cell_type": "code",
   "execution_count": null,
   "metadata": {},
   "outputs": [],
   "source": [
    "root = arrayToTree('[1,2]')\n",
    "findLeaves(root)"
   ]
  },
  {
   "cell_type": "code",
   "execution_count": null,
   "metadata": {},
   "outputs": [],
   "source": [
    "def findLeaves2(root):\n",
    "    if not root:\n",
    "        return None\n",
    "    \n",
    "    count = 0\n",
    "    queue = [root]\n",
    "    while(queue):\n",
    "        node = queue.pop(0)\n",
    "        if not node.left and not node.right:\n",
    "            count += 1\n",
    "        \n",
    "        if node.left:\n",
    "            queue.append(node.left)\n",
    "        if node.right:\n",
    "            queue.append(node.right)\n",
    "    return count"
   ]
  },
  {
   "cell_type": "code",
   "execution_count": null,
   "metadata": {},
   "outputs": [],
   "source": [
    "root = arrayToTree('[1,2,3,4,5,6,7,8,9,10,11,12,13]')\n",
    "findLeaves2(root)"
   ]
  },
  {
   "cell_type": "markdown",
   "metadata": {},
   "source": [
    "### 15. Number of Full nodes in tree"
   ]
  },
  {
   "cell_type": "code",
   "execution_count": null,
   "metadata": {},
   "outputs": [],
   "source": [
    "def findFullNodes(node):\n",
    "    if not root:\n",
    "        return None\n",
    "    \n",
    "    count = 0\n",
    "    queue = [root]\n",
    "    while(queue):\n",
    "        node = queue.pop(0)\n",
    "        if node.left and node.right:\n",
    "            count += 1\n",
    "        \n",
    "        if node.left:\n",
    "            queue.append(node.left)\n",
    "        if node.right:\n",
    "            queue.append(node.right)\n",
    "    return count"
   ]
  },
  {
   "cell_type": "code",
   "execution_count": null,
   "metadata": {},
   "outputs": [],
   "source": [
    "root = arrayToTree('[1,2,3,4,5,6,7,8,9,10,11,12,13]')\n",
    "findFullNodes(root)"
   ]
  },
  {
   "cell_type": "markdown",
   "metadata": {},
   "source": [
    "### 15. Number of Half nodes in tree"
   ]
  },
  {
   "cell_type": "code",
   "execution_count": null,
   "metadata": {},
   "outputs": [],
   "source": [
    "def findHalfNodes(node):\n",
    "    if not root:\n",
    "        return None\n",
    "    \n",
    "    count = 0\n",
    "    queue = [root]\n",
    "    while(queue):\n",
    "        node = queue.pop(0)\n",
    "        if (node.left==None) ^ (node.right==None):\n",
    "            count += 1\n",
    "        \n",
    "        if node.left:\n",
    "            queue.append(node.left)\n",
    "        if node.right:\n",
    "            queue.append(node.right)\n",
    "    return count"
   ]
  },
  {
   "cell_type": "code",
   "execution_count": null,
   "metadata": {},
   "outputs": [],
   "source": [
    "root = arrayToTree('[1,2,3,4,5,6,7,8,null,10,null,12,null]')\n",
    "findHalfNodes(root)"
   ]
  },
  {
   "cell_type": "markdown",
   "metadata": {},
   "source": [
    "### [17. Check if two trees are identical](https://leetcode.com/problems/same-tree/)"
   ]
  },
  {
   "cell_type": "code",
   "execution_count": null,
   "metadata": {},
   "outputs": [],
   "source": [
    "#O(n) - using recursion\n",
    "\n",
    "def isIdentical(node1,node2):\n",
    "    if (not node1) and (not node2):\n",
    "        return True\n",
    "    \n",
    "    if (not node1) or (not node2):\n",
    "        return False\n",
    "    \n",
    "    if node1.val != node2.val:\n",
    "        return False\n",
    "    \n",
    "    return isIdentical(node1.left,node2.left) and isIdentical(node1.right,node2.right)"
   ]
  },
  {
   "cell_type": "code",
   "execution_count": null,
   "metadata": {},
   "outputs": [],
   "source": [
    "root1 = arrayToTree('[1,2,3,4,5]')\n",
    "root2 = arrayToTree('[1,2,3,4,5,null]')\n",
    "isIdentical(root1,root2)"
   ]
  },
  {
   "cell_type": "markdown",
   "metadata": {},
   "source": [
    "### [18. Find diameter of binary tree - longest path between any two nodes](https://leetcode.com/problems/diameter-of-binary-tree/)"
   ]
  },
  {
   "cell_type": "code",
   "execution_count": 29,
   "metadata": {},
   "outputs": [],
   "source": [
    "def findDiameter(node):\n",
    "    global D\n",
    "    if not node:\n",
    "        return 0\n",
    "\n",
    "    leftD = findDiameter(node.left)\n",
    "    rightD = findDiameter(node.right)\n",
    "\n",
    "    D = max(D,leftD+rightD)\n",
    "    return 1 + max(leftD,rightD)"
   ]
  },
  {
   "cell_type": "code",
   "execution_count": 31,
   "metadata": {},
   "outputs": [
    {
     "data": {
      "text/plain": [
       "5"
      ]
     },
     "execution_count": 31,
     "metadata": {},
     "output_type": "execute_result"
    }
   ],
   "source": [
    "root = arrayToTree('[1,2,3,4,5,6,7,8,9]')\n",
    "D = 0\n",
    "findDiameter(root)\n",
    "D"
   ]
  },
  {
   "cell_type": "markdown",
   "metadata": {},
   "source": [
    "### [19. Find level that has maximum level-sum in a binary tree](https://leetcode.com/problems/maximum-level-sum-of-a-binary-tree/)"
   ]
  },
  {
   "cell_type": "code",
   "execution_count": null,
   "metadata": {},
   "outputs": [],
   "source": [
    "#O(n) - using BFS\n",
    "\n",
    "import sys\n",
    "def findMaxLevelSum(root):\n",
    "    if not root:\n",
    "        return 0\n",
    "    \n",
    "    temp = {}\n",
    "    queue = [(root,1)]\n",
    "    \n",
    "    while(queue):\n",
    "        node,lvl = queue.pop(0)\n",
    "        temp[lvl] = temp.get(lvl,0) + node.val\n",
    "        if node.left:\n",
    "            queue.append((node.left,lvl+1))\n",
    "        if node.right:\n",
    "            queue.append((node.right,lvl+1))\n",
    "            \n",
    "    maxSum = -sys.maxsize\n",
    "    maxLevel = 1\n",
    "    for k,v in temp.items():\n",
    "        if v > maxSum:\n",
    "            maxSum = v\n",
    "            maxLevel = k\n",
    "    return maxLevel"
   ]
  },
  {
   "cell_type": "code",
   "execution_count": null,
   "metadata": {},
   "outputs": [],
   "source": [
    "root = arrayToTree('[1,7,0,7,-8,null,null]')\n",
    "findMaxLevelSum(root)"
   ]
  },
  {
   "cell_type": "code",
   "execution_count": null,
   "metadata": {},
   "outputs": [],
   "source": [
    "#O(n) - using DFS\n",
    "\n",
    "def findMaxLevelSum2(root):\n",
    "    \n",
    "    def computeLevelSum(node,lvl,levelSum):\n",
    "        \n",
    "        if not node:\n",
    "            return 0\n",
    "        \n",
    "        if lvl > len(levelSum)-1:\n",
    "            levelSum.insert(lvl,node.val)\n",
    "        else:\n",
    "            levelSum[lvl] += node.val\n",
    "            \n",
    "        computeLevelSum(node.left,lvl+1,levelSum)\n",
    "        computeLevelSum(node.right,lvl+1,levelSum)\n",
    "    \n",
    "    levelSum = []\n",
    "    computeLevelSum(root,1,levelSum)\n",
    "    return levelSum.index(max(levelSum)) + 1"
   ]
  },
  {
   "cell_type": "code",
   "execution_count": null,
   "metadata": {},
   "outputs": [],
   "source": [
    "root = arrayToTree('[1,7,0,7,-8,null,null]')\n",
    "findMaxLevelSum2(root)"
   ]
  },
  {
   "cell_type": "markdown",
   "metadata": {},
   "source": [
    "### [20. Print all root-to-leaf paths](https://leetcode.com/problems/binary-tree-paths/)"
   ]
  },
  {
   "cell_type": "code",
   "execution_count": null,
   "metadata": {},
   "outputs": [],
   "source": [
    "#O(n) - using BFS\n",
    "\n",
    "def findAllPaths(root):\n",
    "    paths = []\n",
    "    if not root:\n",
    "        return paths\n",
    "    \n",
    "    queue = [(root,'')]\n",
    "    while(queue):\n",
    "        node,p = queue.pop(0)\n",
    "        if (not node.left) and (not node.right):\n",
    "            paths.append(p + str(node.val))\n",
    "        \n",
    "        if node.left:\n",
    "            queue.append((node.left, p + str(node.val) + '->'))\n",
    "        if node.right:\n",
    "            queue.append((node.right,  p + str(node.val) + '->'))\n",
    "            \n",
    "    return paths"
   ]
  },
  {
   "cell_type": "code",
   "execution_count": null,
   "metadata": {},
   "outputs": [],
   "source": [
    "root = arrayToTree('[1,2,3,4,5,6,7,8,9]')\n",
    "findAllPaths(root)"
   ]
  },
  {
   "cell_type": "code",
   "execution_count": null,
   "metadata": {},
   "outputs": [],
   "source": [
    "#O(n) - using DFS\n",
    "\n",
    "def findAllPaths2(root):\n",
    "    \n",
    "    def allPaths(node,path,paths):\n",
    "        if not node:\n",
    "            return ''\n",
    "        \n",
    "        \n",
    "        if (not node.left) and (not node.right):\n",
    "            path += str(node.val)\n",
    "            paths.append(path)\n",
    "            \n",
    "        path += str(node.val) + '->'\n",
    "        allPaths(node.left,path,paths)\n",
    "        allPaths(node.right,path,paths)\n",
    "        \n",
    "    paths = []\n",
    "    allPaths(root,'',paths)\n",
    "    return paths"
   ]
  },
  {
   "cell_type": "code",
   "execution_count": null,
   "metadata": {},
   "outputs": [],
   "source": [
    "root = arrayToTree('[1,2,3,4,5,6,7,8,9]')\n",
    "findAllPaths2(root)"
   ]
  },
  {
   "cell_type": "markdown",
   "metadata": {},
   "source": [
    "### [21. Total sum of all root-to-leaf numbers](https://leetcode.com/problems/sum-root-to-leaf-numbers/)"
   ]
  },
  {
   "cell_type": "code",
   "execution_count": null,
   "metadata": {},
   "outputs": [],
   "source": [
    "#O(n) - using BFS\n",
    "\n",
    "def sumPaths2(root):\n",
    "    res = []\n",
    "    if not root:\n",
    "        return sum(res)\n",
    "    \n",
    "    queue = [(root,0)]\n",
    "    while(queue):\n",
    "        node,N = queue.pop(0)\n",
    "        N = N*10 + node.val\n",
    "        if (not node.left) and (not node.right):\n",
    "            res.append(N)\n",
    "        if node.left:\n",
    "            queue.append((node.left,N))\n",
    "        if node.right:\n",
    "            queue.append((node.right,N))\n",
    "    \n",
    "    return sum(res)"
   ]
  },
  {
   "cell_type": "code",
   "execution_count": null,
   "metadata": {},
   "outputs": [],
   "source": [
    "root = arrayToTree('[1,2,3,4,5,6,7,8,9]')\n",
    "sumPaths2(root)"
   ]
  },
  {
   "cell_type": "code",
   "execution_count": null,
   "metadata": {},
   "outputs": [],
   "source": [
    "#O(n) - using DFS\n",
    "\n",
    "def sumPaths(root):\n",
    "    \n",
    "    def computeSum(node,pathSum,ans):\n",
    "        if not node:\n",
    "            return 0\n",
    "        \n",
    "        pathSum = pathSum*10 + node.val\n",
    "        \n",
    "        if (not node.left) and (not node.right):\n",
    "            ans.append(pathSum)\n",
    "            \n",
    "        computeSum(node.left,pathSum,ans)\n",
    "        computeSum(node.right,pathSum,ans)\n",
    "    \n",
    "    res = []\n",
    "    computeSum(root,0,res)\n",
    "    return sum(res)"
   ]
  },
  {
   "cell_type": "code",
   "execution_count": null,
   "metadata": {},
   "outputs": [],
   "source": [
    "root = arrayToTree('[1,2,3]')\n",
    "sumPaths(root)"
   ]
  },
  {
   "cell_type": "markdown",
   "metadata": {},
   "source": [
    "### [22. Maximum Path Sum](https://leetcode.com/problems/binary-tree-maximum-path-sum/)"
   ]
  },
  {
   "cell_type": "code",
   "execution_count": null,
   "metadata": {},
   "outputs": [],
   "source": [
    "import sys\n",
    "def maxPathSum(root):\n",
    "    \n",
    "    def pathSum(node,ans):\n",
    "        if not node:\n",
    "            return 0\n",
    "\n",
    "        leftSum = max(0,pathSum(node.left,ans))\n",
    "        rightSum = max(0,pathSum(node.right,ans))\n",
    "\n",
    "        ans[0] = max(ans[0], leftSum+rightSum+node.val)\n",
    "        return max(leftSum,rightSum)+node.val\n",
    "\n",
    "    res = [-sys.maxsize]\n",
    "    pathSum(root,res)\n",
    "    return res[0]"
   ]
  },
  {
   "cell_type": "code",
   "execution_count": null,
   "metadata": {},
   "outputs": [],
   "source": [
    "root = arrayToTree('[-2]')\n",
    "maxPathSum(root)"
   ]
  },
  {
   "cell_type": "markdown",
   "metadata": {},
   "source": [
    "### [23. Path Sum - check if tree has the given root-to-leaf sum](https://leetcode.com/problems/path-sum/)"
   ]
  },
  {
   "cell_type": "code",
   "execution_count": null,
   "metadata": {},
   "outputs": [],
   "source": [
    "def pathFinder(root,k):\n",
    "    \n",
    "    def pathSum(node,pSum,k,ans):\n",
    "        if not node:\n",
    "            return\n",
    "        \n",
    "        pSum += node.val\n",
    "        \n",
    "        if (not node.left) and (not node.right) and pSum == k:\n",
    "            ans[0] = True\n",
    "        \n",
    "        pathSum(node.left,pSum,k,ans)\n",
    "        pathSum(node.right,pSum,k,ans)\n",
    "        \n",
    "    res = [False]\n",
    "    pathSum(root,0,k,res)\n",
    "    return res[0]"
   ]
  },
  {
   "cell_type": "code",
   "execution_count": null,
   "metadata": {},
   "outputs": [],
   "source": [
    "root = arrayToTree('[1,2,3,4,5,6,7,8,9]')\n",
    "pathFinder(root,16)"
   ]
  },
  {
   "cell_type": "markdown",
   "metadata": {},
   "source": [
    "### 24. Sum of all elements in tree"
   ]
  },
  {
   "cell_type": "code",
   "execution_count": null,
   "metadata": {},
   "outputs": [],
   "source": [
    "#O(n) - using BFS\n",
    "\n",
    "def sumAll(root):\n",
    "    if not root:\n",
    "        return 0\n",
    "    \n",
    "    ans = 0\n",
    "    queue = [root]\n",
    "    while(queue):\n",
    "        node = queue.pop(0)\n",
    "        ans += node.val\n",
    "        if node.left:\n",
    "            queue.append(node.left)\n",
    "        if node.right:\n",
    "            queue.append(node.right)\n",
    "    \n",
    "    return ans"
   ]
  },
  {
   "cell_type": "code",
   "execution_count": null,
   "metadata": {},
   "outputs": [],
   "source": [
    "root = arrayToTree('[1,2,3,4,5,6,7,8,9]')\n",
    "sumAll(root)"
   ]
  },
  {
   "cell_type": "code",
   "execution_count": null,
   "metadata": {},
   "outputs": [],
   "source": [
    "#O(n) - using DFS\n",
    "\n",
    "def sumAll2(root):\n",
    "    \n",
    "    def computeSum(node,ans):\n",
    "        if not node:\n",
    "            return 0\n",
    "        \n",
    "        ans[0] += node.val\n",
    "        \n",
    "        computeSum(node.left,ans)\n",
    "        computeSum(node.right,ans)\n",
    "    \n",
    "    res = [0]\n",
    "    computeSum(root,res)\n",
    "    return res[0]"
   ]
  },
  {
   "cell_type": "code",
   "execution_count": null,
   "metadata": {},
   "outputs": [],
   "source": [
    "root = arrayToTree('[1,2,3,4,5,6,7,8,9]')\n",
    "sumAll2(root)"
   ]
  },
  {
   "cell_type": "code",
   "execution_count": null,
   "metadata": {},
   "outputs": [],
   "source": [
    "#O(n) - using recursion\n",
    "\n",
    "def sumAll3(node):\n",
    "    if not node:\n",
    "        return 0\n",
    "    return node.val + sumAll3(node.left) + sumAll3(node.right)"
   ]
  },
  {
   "cell_type": "code",
   "execution_count": null,
   "metadata": {},
   "outputs": [],
   "source": [
    "root = arrayToTree('[1,2,3,4,5,6,7,8,9]')\n",
    "sumAll3(root)"
   ]
  },
  {
   "cell_type": "markdown",
   "metadata": {},
   "source": [
    "### [26.Invert a Binary Tree -  convert a tree to its mirror form](https://leetcode.com/problems/invert-binary-tree/)"
   ]
  },
  {
   "cell_type": "code",
   "execution_count": null,
   "metadata": {},
   "outputs": [],
   "source": [
    "#O(n) - using DFS\n",
    "\n",
    "def convertToMirror(node):\n",
    "    if not node:\n",
    "        return\n",
    "    \n",
    "    node.left, node.right = node.right, node.left\n",
    "    \n",
    "    convertToMirror(node.left)\n",
    "    convertToMirror(node.right)"
   ]
  },
  {
   "cell_type": "code",
   "execution_count": null,
   "metadata": {},
   "outputs": [],
   "source": [
    "root = arrayToTree('[1,2,3,4,5,6,7,8,9]')\n",
    "convertToMirror(root)"
   ]
  },
  {
   "cell_type": "code",
   "execution_count": null,
   "metadata": {},
   "outputs": [],
   "source": [
    "#O(n) - using BFS\n",
    "\n",
    "def convertToMirror2(root):\n",
    "    \n",
    "    queue = [root]\n",
    "        \n",
    "    while(queue):\n",
    "        node = queue.pop(0)\n",
    "        if node:\n",
    "            queue.append(node.left)\n",
    "            queue.append(node.right)\n",
    "            node.left,node.right = node.right,node.left\n",
    "\n",
    "    return root"
   ]
  },
  {
   "cell_type": "code",
   "execution_count": null,
   "metadata": {},
   "outputs": [],
   "source": [
    "root = arrayToTree('[1,2,3,4,5,6,7,8,9]')\n",
    "convertToMirror2(root)"
   ]
  },
  {
   "cell_type": "markdown",
   "metadata": {},
   "source": [
    "### [27. Symmetric Tree - Check if two trees are mirrors of each other](https://leetcode.com/problems/symmetric-tree/)"
   ]
  },
  {
   "cell_type": "code",
   "execution_count": 20,
   "metadata": {},
   "outputs": [],
   "source": [
    "#O(n) - using recursion\n",
    "\n",
    "def isSymmetric(root):\n",
    "    \n",
    "    def checkMirror(root1,root2):\n",
    "        if (not root1) and (not root2):\n",
    "            return True\n",
    "        \n",
    "        elif (not root1) or (not root2):\n",
    "            return False\n",
    "        \n",
    "        elif root1.val != root2.val:\n",
    "            return False\n",
    "        \n",
    "        else:\n",
    "            return checkMirror(root1.left,root2.right) and checkMirror(root1.right,root2.left)\n",
    "        \n",
    "    return checkMirror(root,root)"
   ]
  },
  {
   "cell_type": "code",
   "execution_count": 22,
   "metadata": {},
   "outputs": [
    {
     "data": {
      "text/plain": [
       "True"
      ]
     },
     "execution_count": 22,
     "metadata": {},
     "output_type": "execute_result"
    }
   ],
   "source": [
    "root = arrayToTree('[1,2,2,3,4,4,3]')\n",
    "isSymmetric(root)"
   ]
  },
  {
   "cell_type": "code",
   "execution_count": 23,
   "metadata": {},
   "outputs": [],
   "source": [
    "#O(n) - using BFS queue, by comparing trees\n",
    "\n",
    "def isSymmetric2(root):\n",
    "    if not root:\n",
    "        return True\n",
    "    \n",
    "    queue = [(root,root)]\n",
    "    while(queue):\n",
    "        node1,node2 = queue.pop(0)\n",
    "        \n",
    "        if (not node1) and (not node2):\n",
    "            continue \n",
    "        if (not node1) or (not node2):\n",
    "            return False\n",
    "        if node1.val != node2.val:\n",
    "            return False\n",
    "        \n",
    "        queue.append((node1.left,node2.right))\n",
    "        queue.append((node1.right,node2.left))\n",
    "        \n",
    "    return True"
   ]
  },
  {
   "cell_type": "code",
   "execution_count": 26,
   "metadata": {},
   "outputs": [
    {
     "data": {
      "text/plain": [
       "True"
      ]
     },
     "execution_count": 26,
     "metadata": {},
     "output_type": "execute_result"
    }
   ],
   "source": [
    "root = arrayToTree('[1,2,2,3,4,4,3]')\n",
    "isSymmetric2(root)"
   ]
  },
  {
   "cell_type": "markdown",
   "metadata": {},
   "source": [
    "### [28. LCA - least common accestor of two nodes in tree](https://leetcode.com/problems/lowest-common-ancestor-of-a-binary-tree/)"
   ]
  },
  {
   "cell_type": "code",
   "execution_count": null,
   "metadata": {},
   "outputs": [],
   "source": [
    "#O(n) - using recursion\n",
    "\n",
    "def lca(node,p,q):\n",
    "    if not node:\n",
    "        return None\n",
    "\n",
    "    if (node.val == p) or (node.val == q):\n",
    "        return node\n",
    "\n",
    "    left = lca(node.left,p,q)\n",
    "    right = lca(node.right,p,q)\n",
    "\n",
    "    if left and right:\n",
    "        return node\n",
    "    else:\n",
    "        return left if left else right"
   ]
  },
  {
   "cell_type": "code",
   "execution_count": null,
   "metadata": {},
   "outputs": [],
   "source": [
    "root = arrayToTree('[3,5,1,6,2,0,8,null,null,7,4]')\n",
    "ans = lca(root,5,4)\n",
    "ans.val"
   ]
  },
  {
   "cell_type": "markdown",
   "metadata": {},
   "source": [
    "### [29. InOrder & PreOrder to Binary Tree](https://leetcode.com/problems/construct-binary-tree-from-preorder-and-inorder-traversal/)"
   ]
  },
  {
   "cell_type": "code",
   "execution_count": null,
   "metadata": {},
   "outputs": [],
   "source": [
    "#O(n) - using recursion\n",
    "\n",
    "def buildTree(preorder,inorder):\n",
    "    if not inorder:\n",
    "        return None\n",
    "    \n",
    "    elm = preorder[0]\n",
    "    node = TreeNode(elm)\n",
    "    nodePos = inorder.index(elm)\n",
    "    \n",
    "    node.left = buildTree(preorder[1:1+nodePos], inorder[:nodePos])\n",
    "    node.right = buildTree(preorder[nodePos+1:], inorder[nodePos+1:])\n",
    "    \n",
    "    return node"
   ]
  },
  {
   "cell_type": "code",
   "execution_count": null,
   "metadata": {},
   "outputs": [],
   "source": [
    "root = buildTree([1,2,4,8,9,5,3,6,7], [8,4,9,2,5,1,6,3,7])"
   ]
  },
  {
   "cell_type": "markdown",
   "metadata": {},
   "source": [
    "### 31. All ancestors of a node in a tree "
   ]
  },
  {
   "cell_type": "code",
   "execution_count": null,
   "metadata": {},
   "outputs": [],
   "source": [
    "#O(n) - using recursion\n",
    "\n",
    "def allAncestors(root,n):\n",
    "    global ans\n",
    "    if (not root.left) and (not root.right):\n",
    "        return 0\n",
    "    \n",
    "    if (root.left.val == n) or (root.right.val == n) or (allAncestors(root.left,n) or (allAncestors(root.right,n))):\n",
    "        ans.append(root.val)\n",
    "        return 1\n",
    "    \n",
    "    return 0"
   ]
  },
  {
   "cell_type": "code",
   "execution_count": null,
   "metadata": {},
   "outputs": [],
   "source": [
    "root = arrayToTree('[1,2,3,4,5,6,7,8,9]')\n",
    "ans = []\n",
    "allAncestors(root,7)\n",
    "ans"
   ]
  },
  {
   "cell_type": "markdown",
   "metadata": {},
   "source": [
    "### [32. ZigZag Tree Traversal](https://leetcode.com/problems/binary-tree-zigzag-level-order-traversal/)"
   ]
  },
  {
   "cell_type": "code",
   "execution_count": null,
   "metadata": {},
   "outputs": [],
   "source": [
    "#O(n) - using two stacks for left->right and right->left level traversals\n",
    "\n",
    "def zigzagTraversal(root):\n",
    "    if not root:\n",
    "        return None\n",
    "    \n",
    "    ans = []\n",
    "    queue = [root]\n",
    "    stack = []\n",
    "    flag = True\n",
    "    while(queue or stack):\n",
    "        if flag:\n",
    "            while(queue):\n",
    "                nodeq = queue.pop()\n",
    "                ans.append(nodeq.val)\n",
    "                if nodeq.left:\n",
    "                    stack.append(nodeq.left)\n",
    "                if nodeq.right:\n",
    "                    stack.append(nodeq.right)\n",
    "            flag = False\n",
    "        else:\n",
    "            while(stack):\n",
    "                nodes = stack.pop()\n",
    "                ans.append(nodes.val)\n",
    "                if nodes.right:\n",
    "                    queue.append(nodes.right)\n",
    "                if nodes.left:\n",
    "                    queue.append(nodes.left)\n",
    "            flag = True\n",
    "    return ans"
   ]
  },
  {
   "cell_type": "code",
   "execution_count": null,
   "metadata": {},
   "outputs": [],
   "source": [
    "root = arrayToTree('[1,2,3,4,5,6,7,8,9]')\n",
    "zigzagTraversal(root)"
   ]
  },
  {
   "cell_type": "markdown",
   "metadata": {},
   "source": [
    "### 33. Vertical Sum of Tree"
   ]
  },
  {
   "cell_type": "code",
   "execution_count": null,
   "metadata": {},
   "outputs": [],
   "source": [
    "def verticalSum(node,x):\n",
    "    global temp\n",
    "    if not node:\n",
    "        return \n",
    "    \n",
    "    temp[x] = temp.get(x,0) + node.val\n",
    "    \n",
    "    verticalSum(node.left,x-1)\n",
    "    verticalSum(node.right,x+1)"
   ]
  },
  {
   "cell_type": "code",
   "execution_count": null,
   "metadata": {},
   "outputs": [],
   "source": [
    "root = arrayToTree('[1,2,3,4,5,6,7,8,9]')\n",
    "temp = {}\n",
    "verticalSum(root,0)\n",
    "ans = [temp[t] for t in sorted(temp)]\n",
    "ans"
   ]
  },
  {
   "cell_type": "markdown",
   "metadata": {},
   "source": [
    "### 35. Construct a tree from a preorder string of internal (I) and leaf (L) nodes. 'ILILL'"
   ]
  },
  {
   "cell_type": "code",
   "execution_count": null,
   "metadata": {},
   "outputs": [],
   "source": [
    "def constructTree(S):\n",
    "    global i\n",
    "    if (not S) or (i>=len(S)):\n",
    "        return None\n",
    "    \n",
    "    node = TreeNode(S[i])\n",
    "    \n",
    "    if S[i] == \"L\":\n",
    "        return node\n",
    "    \n",
    "    i += 1\n",
    "    node.left = constructTree(S)\n",
    "    i += 1\n",
    "    node.right = constructTree(S)\n",
    "    \n",
    "    return node"
   ]
  },
  {
   "cell_type": "code",
   "execution_count": null,
   "metadata": {},
   "outputs": [],
   "source": [
    "i = 0\n",
    "root = constructTree('IILILLILL')"
   ]
  },
  {
   "cell_type": "markdown",
   "metadata": {},
   "source": [
    "### [36. Populate next right pointers to each node](https://leetcode.com/problems/populating-next-right-pointers-in-each-node/)"
   ]
  },
  {
   "cell_type": "code",
   "execution_count": 15,
   "metadata": {},
   "outputs": [],
   "source": [
    "#O(n) = using 2 pointrs previous node and current node\n",
    "\n",
    "def populateNextSibling(root):\n",
    "    if not root:\n",
    "        return \n",
    "    \n",
    "    prevNode = root\n",
    "    currNode = None\n",
    "    \n",
    "    while(prevNode.left):\n",
    "        currNode = prevNode\n",
    "        while(currNode):\n",
    "            if currNode.left:\n",
    "                currNode.left.next = currNode.right\n",
    "                \n",
    "            if currNode.next and currNode.right:\n",
    "                currNode.right.next = currNode.next.left\n",
    "                \n",
    "            currNode = currNode.next\n",
    "            \n",
    "        prevNode = prevNode.left"
   ]
  },
  {
   "cell_type": "code",
   "execution_count": 16,
   "metadata": {},
   "outputs": [],
   "source": [
    "root = arrayToTree('[1,2,3,4,5,6,7,8,9]')\n",
    "populateNextSibling(root)"
   ]
  },
  {
   "cell_type": "code",
   "execution_count": null,
   "metadata": {},
   "outputs": [],
   "source": [
    "#O(n) - using recurssion\n",
    "\n",
    "def populateNextSibling2(node):\n",
    "    if not node:\n",
    "        return\n",
    "    \n",
    "    if node.left:\n",
    "        node.left.next = node.right\n",
    "        \n",
    "    if node.right:\n",
    "        if node.next:\n",
    "            node.right.next = node.next.left\n",
    "            \n",
    "    populateNextSibling2(node.left)\n",
    "    populateNextSibling2(node.right)"
   ]
  },
  {
   "cell_type": "markdown",
   "metadata": {},
   "source": [
    "# Generic (N-ary) Trees"
   ]
  },
  {
   "cell_type": "code",
   "execution_count": null,
   "metadata": {},
   "outputs": [],
   "source": [
    "class NaryNode:\n",
    "    def __init__(self,val=0,children=[]):\n",
    "        self.val = "
   ]
  },
  {
   "cell_type": "code",
   "execution_count": null,
   "metadata": {},
   "outputs": [],
   "source": []
  }
 ],
 "metadata": {
  "kernelspec": {
   "display_name": "Python 3",
   "language": "python",
   "name": "python3"
  },
  "language_info": {
   "codemirror_mode": {
    "name": "ipython",
    "version": 3
   },
   "file_extension": ".py",
   "mimetype": "text/x-python",
   "name": "python",
   "nbconvert_exporter": "python",
   "pygments_lexer": "ipython3",
   "version": "3.6.9"
  }
 },
 "nbformat": 4,
 "nbformat_minor": 4
}
