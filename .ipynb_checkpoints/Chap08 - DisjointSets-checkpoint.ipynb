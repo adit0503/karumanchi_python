{
 "cells": [
  {
   "cell_type": "code",
   "execution_count": null,
   "metadata": {},
   "outputs": [],
   "source": [
    "class DisjointSet:\n",
    "    def __init__(self,n):\n",
    "        self.makeSet(n)\n",
    "        \n",
    "    def makeSet(self,n):\n",
    "        self.S = [x for x in range(n)]\n",
    "        \n",
    "    def find(self,x):\n",
    "        if self.S[x] == x:\n",
    "            return x\n",
    "        else\n",
    "        return find([x])\n",
    "    \n",
    "    def union(self,root1,root2):\n",
    "        self.S[root1] = root2"
   ]
  }
 ],
 "metadata": {
  "kernelspec": {
   "display_name": "Python 3",
   "language": "python",
   "name": "python3"
  },
  "language_info": {
   "codemirror_mode": {
    "name": "ipython",
    "version": 3
   },
   "file_extension": ".py",
   "mimetype": "text/x-python",
   "name": "python",
   "nbconvert_exporter": "python",
   "pygments_lexer": "ipython3",
   "version": "3.6.9"
  }
 },
 "nbformat": 4,
 "nbformat_minor": 4
}
