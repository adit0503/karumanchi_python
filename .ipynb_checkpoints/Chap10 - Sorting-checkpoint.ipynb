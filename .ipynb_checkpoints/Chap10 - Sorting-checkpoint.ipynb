{
 "cells": [
  {
   "cell_type": "code",
   "execution_count": 1,
   "metadata": {},
   "outputs": [],
   "source": [
    "import random\n",
    "def generateArray():\n",
    "    NUMS = []\n",
    "    for _ in range(10):\n",
    "        NUMS.append(random.randint(1,1000))\n",
    "    return NUMS"
   ]
  },
  {
   "cell_type": "markdown",
   "metadata": {},
   "source": [
    "## Bubble Sort"
   ]
  },
  {
   "cell_type": "code",
   "execution_count": 2,
   "metadata": {},
   "outputs": [],
   "source": [
    "#O(n2)\n",
    "\n",
    "def bubbleSort(nums):\n",
    "    for i in range(len(nums)):\n",
    "        for j in range(i+1,len(nums)):\n",
    "            if nums[i] > nums[j]:\n",
    "                nums[i],nums[j] = nums[j],nums[i]\n",
    "                \n",
    "    return nums"
   ]
  },
  {
   "cell_type": "code",
   "execution_count": 3,
   "metadata": {},
   "outputs": [
    {
     "name": "stdout",
     "output_type": "stream",
     "text": [
      "[584, 694, 343, 553, 35, 891, 809, 585, 213, 92]\n",
      "[35, 92, 213, 343, 553, 584, 585, 694, 809, 891]\n"
     ]
    }
   ],
   "source": [
    "arr = generateArray()\n",
    "print(arr)\n",
    "print(bubbleSort(arr))"
   ]
  },
  {
   "cell_type": "markdown",
   "metadata": {},
   "source": [
    "## Selection Sort"
   ]
  },
  {
   "cell_type": "code",
   "execution_count": 4,
   "metadata": {},
   "outputs": [],
   "source": [
    "#O(n2)\n",
    "\n",
    "def selectionSort(nums):\n",
    "    for i in range(len(nums)):\n",
    "        minIndex = i\n",
    "        for j in range(i+1,len(nums)):\n",
    "            if nums[minIndex] > nums[j]:\n",
    "                minIndex = j\n",
    "        if minIndex != i:\n",
    "            nums[i],nums[minIndex] = nums[minIndex],nums[i]\n",
    "    return nums"
   ]
  },
  {
   "cell_type": "code",
   "execution_count": 5,
   "metadata": {},
   "outputs": [
    {
     "name": "stdout",
     "output_type": "stream",
     "text": [
      "[259, 688, 175, 702, 819, 413, 452, 672, 124, 682]\n",
      "[124, 175, 259, 413, 452, 672, 682, 688, 702, 819]\n"
     ]
    }
   ],
   "source": [
    "arr = generateArray()\n",
    "print(arr)\n",
    "print(selectionSort(arr))"
   ]
  },
  {
   "cell_type": "markdown",
   "metadata": {},
   "source": [
    "## Insertion Sort"
   ]
  },
  {
   "cell_type": "code",
   "execution_count": 6,
   "metadata": {},
   "outputs": [],
   "source": [
    "#O(n2)\n",
    "\n",
    "def insertionSort(nums):\n",
    "    for i in range(len(nums)):\n",
    "        temp = nums[i]\n",
    "        j = i\n",
    "        while(j > 0 and nums[j-1]>temp):\n",
    "            nums[j] = nums[j-1]\n",
    "            j -= 1\n",
    "        nums[j] = temp\n",
    "    return nums"
   ]
  },
  {
   "cell_type": "code",
   "execution_count": 7,
   "metadata": {},
   "outputs": [
    {
     "name": "stdout",
     "output_type": "stream",
     "text": [
      "[786, 207, 762, 244, 578, 167, 903, 214, 436, 750]\n",
      "[167, 207, 214, 244, 436, 578, 750, 762, 786, 903]\n"
     ]
    }
   ],
   "source": [
    "arr = generateArray()\n",
    "print(arr)\n",
    "print(insertionSort(arr))"
   ]
  },
  {
   "cell_type": "markdown",
   "metadata": {},
   "source": [
    "## Shell Sort"
   ]
  },
  {
   "cell_type": "code",
   "execution_count": null,
   "metadata": {},
   "outputs": [],
   "source": []
  },
  {
   "cell_type": "code",
   "execution_count": null,
   "metadata": {},
   "outputs": [],
   "source": []
  }
 ],
 "metadata": {
  "kernelspec": {
   "display_name": "Python 3",
   "language": "python",
   "name": "python3"
  },
  "language_info": {
   "codemirror_mode": {
    "name": "ipython",
    "version": 3
   },
   "file_extension": ".py",
   "mimetype": "text/x-python",
   "name": "python",
   "nbconvert_exporter": "python",
   "pygments_lexer": "ipython3",
   "version": "3.6.9"
  }
 },
 "nbformat": 4,
 "nbformat_minor": 4
}
