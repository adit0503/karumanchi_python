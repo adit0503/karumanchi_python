{
 "cells": [
  {
   "cell_type": "code",
   "execution_count": 34,
   "metadata": {},
   "outputs": [],
   "source": [
    "class ListNode:\n",
    "    def __init__(self,val=0,next=None):\n",
    "        self.val = val\n",
    "        self.next = next\n",
    "        \n",
    "def arrayToList(nums):\n",
    "    dummyRoot = ListNode()\n",
    "    ptr = dummyRoot\n",
    "    for n in nums:\n",
    "        ptr.next = ListNode(n)\n",
    "        ptr = ptr.next\n",
    "\n",
    "    ptr = dummyRoot.next\n",
    "    return ptr\n",
    "\n",
    "def listToArray(node):\n",
    "    ans = []\n",
    "    while(node):\n",
    "        ans.append(node.val)\n",
    "        node = node.next\n",
    "    return ans\n",
    "\n",
    "def printNode(node):\n",
    "    return node.val"
   ]
  },
  {
   "cell_type": "code",
   "execution_count": null,
   "metadata": {},
   "outputs": [],
   "source": [
    "def listLength(head):\n",
    "    count = 0\n",
    "    while(head):\n",
    "        count += 1\n",
    "        head = head.next\n",
    "    return count"
   ]
  },
  {
   "cell_type": "code",
   "execution_count": null,
   "metadata": {},
   "outputs": [],
   "source": [
    "def insertAtPosition(head,p,val):\n",
    "    node = head\n",
    "    \n",
    "    if p == 1:\n",
    "        head = ListNode(val)\n",
    "        head.next = node\n",
    "        return head\n",
    "    \n",
    "    while(p>2):\n",
    "        node = node.next\n",
    "        p -= 1\n",
    "\n",
    "    x = ListNode(val,node.next)\n",
    "    node.next = x\n",
    "    return head"
   ]
  },
  {
   "cell_type": "code",
   "execution_count": null,
   "metadata": {},
   "outputs": [],
   "source": [
    "for i in range(1,7):\n",
    "    head = arrayToList([1,2,3,4,5])\n",
    "    res = insertAtPosition(head,i,'*')\n",
    "    print(listToArray(res))"
   ]
  },
  {
   "cell_type": "code",
   "execution_count": 51,
   "metadata": {},
   "outputs": [],
   "source": [
    "def deleteAtPosition(head,p):\n",
    "    if p == 1:\n",
    "        return head.next\n",
    "    \n",
    "    node = head\n",
    "    while(p>2):\n",
    "        p -= 1\n",
    "        node = node.next\n",
    "    node.next = node.next.next\n",
    "    return head\n",
    "\n",
    "def deleteFirst(head):\n",
    "    return head.next\n",
    "\n",
    "def deleteLast(head):\n",
    "    if not head.next:\n",
    "        return None\n",
    "    node = head\n",
    "    while(node.next.next):\n",
    "        node = node.next\n",
    "    node.next = None\n",
    "    return head\n",
    "\n",
    "def deleteLast2(head):\n",
    "    '''\n",
    "    Traverse the list and while traversing maintain the previous node address also. \n",
    "    By the time we reach the end of the list, \n",
    "    we will have two pointers, \n",
    "    one pointing to the tail node and \n",
    "    the other pointing to the node before the tail node.\n",
    "    '''\n",
    "    dummy = ListNode(0)\n",
    "    dummy.next = head\n",
    "    node = head\n",
    "    while(node.next):\n",
    "        dummy = node\n",
    "        node = node.next\n",
    "    dummy.next = None\n",
    "    return head\n",
    "\n",
    "def deleteMiddle(head,val):\n",
    "    if head.val == val:\n",
    "        return head.next\n",
    "    node = head\n",
    "    while(node.next.val != val):\n",
    "        node = node.next\n",
    "        \n",
    "    node.next = node.next.next\n",
    "    return head"
   ]
  },
  {
   "cell_type": "code",
   "execution_count": 52,
   "metadata": {},
   "outputs": [],
   "source": [
    "arr1 = [1,2,3,4,5]\n",
    "head1 = arrayToList(arr1)\n",
    "\n",
    "arr2 = [6,7,8,9,10]\n",
    "head2 = arrayToList(arr2)"
   ]
  },
  {
   "cell_type": "code",
   "execution_count": 53,
   "metadata": {},
   "outputs": [
    {
     "data": {
      "text/plain": [
       "[1, 2, 3, 4]"
      ]
     },
     "execution_count": 53,
     "metadata": {},
     "output_type": "execute_result"
    }
   ],
   "source": [
    "listToArray(deleteLast2(head1))"
   ]
  },
  {
   "cell_type": "code",
   "execution_count": 42,
   "metadata": {},
   "outputs": [
    {
     "name": "stdout",
     "output_type": "stream",
     "text": [
      "[2, 3, 4, 5]\n",
      "[6, 7, 8]\n",
      "[7, 8, 9, 10]\n",
      "[6, 8, 9, 10]\n",
      "[6, 7, 9, 10]\n",
      "[6, 7, 8, 10]\n",
      "[6, 7, 8, 9]\n"
     ]
    }
   ],
   "source": [
    "print(listToArray(deleteFirst(head1)))\n",
    "print(listToArray(deleteLast(head2)))\n",
    "\n",
    "for n in arr2:\n",
    "    head = arrayToList(arr2)\n",
    "    res = deleteMiddle(head,n)\n",
    "    print(listToArray(res))"
   ]
  },
  {
   "cell_type": "code",
   "execution_count": 32,
   "metadata": {},
   "outputs": [
    {
     "name": "stdout",
     "output_type": "stream",
     "text": [
      "[2, 3, 4, 5]\n",
      "[1, 3, 4, 5]\n",
      "[1, 2, 4, 5]\n",
      "[1, 2, 3, 5]\n",
      "[1, 2, 3, 4]\n"
     ]
    }
   ],
   "source": [
    "for i in range(1,6):\n",
    "    head = arrayToList(arr1)\n",
    "    res = deleteAtPosition(head,i)\n",
    "    print(listToArray(res))"
   ]
  },
  {
   "cell_type": "code",
   "execution_count": null,
   "metadata": {},
   "outputs": [],
   "source": []
  }
 ],
 "metadata": {
  "kernelspec": {
   "display_name": "Python 3",
   "language": "python",
   "name": "python3"
  },
  "language_info": {
   "codemirror_mode": {
    "name": "ipython",
    "version": 3
   },
   "file_extension": ".py",
   "mimetype": "text/x-python",
   "name": "python",
   "nbconvert_exporter": "python",
   "pygments_lexer": "ipython3",
   "version": "3.6.9"
  }
 },
 "nbformat": 4,
 "nbformat_minor": 4
}
