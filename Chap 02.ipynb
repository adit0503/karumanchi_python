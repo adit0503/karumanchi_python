{
 "cells": [
  {
   "cell_type": "code",
   "execution_count": null,
   "metadata": {},
   "outputs": [],
   "source": [
    "def factorial(n):\n",
    "    if n == 0:\n",
    "        return 1\n",
    "    else:\n",
    "        return n*factorial(n-1)"
   ]
  },
  {
   "cell_type": "code",
   "execution_count": null,
   "metadata": {},
   "outputs": [],
   "source": [
    "factorial(0)"
   ]
  },
  {
   "cell_type": "code",
   "execution_count": null,
   "metadata": {},
   "outputs": [],
   "source": [
    "def Print(n):\n",
    "    if n == 0:\n",
    "        return 0\n",
    "    else:\n",
    "        print(n)\n",
    "        return Print(n-1)"
   ]
  },
  {
   "cell_type": "code",
   "execution_count": null,
   "metadata": {},
   "outputs": [],
   "source": [
    "Print(5)"
   ]
  },
  {
   "cell_type": "code",
   "execution_count": null,
   "metadata": {},
   "outputs": [],
   "source": [
    "def fibo(n):\n",
    "    if n == 0:\n",
    "        return 0\n",
    "    elif n == 1:\n",
    "        return 1\n",
    "    else:\n",
    "        return fibo(n-1) + fibo(n-2)"
   ]
  },
  {
   "cell_type": "code",
   "execution_count": null,
   "metadata": {},
   "outputs": [],
   "source": [
    "fibo(10)"
   ]
  },
  {
   "cell_type": "markdown",
   "metadata": {},
   "source": [
    "### 1. Discuss the Tower of Hanoi puzzle"
   ]
  },
  {
   "cell_type": "code",
   "execution_count": 1,
   "metadata": {},
   "outputs": [],
   "source": [
    "def TOH(n, start=1, end=3):\n",
    "    if n:\n",
    "        TOH(n-1,start,6-start-end)\n",
    "        print(f\"{n} : {start} --> {end}\")\n",
    "        TOH(n-1,6-start-end,end)"
   ]
  },
  {
   "cell_type": "code",
   "execution_count": 4,
   "metadata": {},
   "outputs": [
    {
     "name": "stdout",
     "output_type": "stream",
     "text": [
      "1 : 1 --> 3\n",
      "2 : 1 --> 2\n",
      "1 : 3 --> 2\n",
      "3 : 1 --> 3\n",
      "1 : 2 --> 1\n",
      "2 : 2 --> 3\n",
      "1 : 1 --> 3\n"
     ]
    }
   ],
   "source": [
    "TOH(3)"
   ]
  },
  {
   "cell_type": "markdown",
   "metadata": {},
   "source": [
    "### 2. Given an array, check whether the array is in sorted order with recurssion"
   ]
  },
  {
   "cell_type": "code",
   "execution_count": null,
   "metadata": {},
   "outputs": [],
   "source": [
    "def checkSorted(arr):\n",
    "    if len(arr) == 1:\n",
    "        return True\n",
    "    else:\n",
    "        return arr[0] <= arr[1] and checkSorted(arr[1:])"
   ]
  },
  {
   "cell_type": "code",
   "execution_count": null,
   "metadata": {},
   "outputs": [],
   "source": [
    "checkSorted([1,2,3,4,5])"
   ]
  },
  {
   "cell_type": "code",
   "execution_count": null,
   "metadata": {},
   "outputs": [],
   "source": [
    "checkSorted([1,2,4,3,5])"
   ]
  },
  {
   "cell_type": "markdown",
   "metadata": {},
   "source": [
    "### 3. Generate all the binary strings with n bits."
   ]
  },
  {
   "cell_type": "code",
   "execution_count": null,
   "metadata": {},
   "outputs": [],
   "source": [
    "def bitStrings1(n):\n",
    "    if n == 0:\n",
    "        return []\n",
    "    if n == 1:\n",
    "        return ['0','1']\n",
    "    return [d + b for d in bitStrings1(1) for b in bitStrings1(n-1)]"
   ]
  },
  {
   "cell_type": "code",
   "execution_count": null,
   "metadata": {},
   "outputs": [],
   "source": [
    "bitStrings1(4)"
   ]
  },
  {
   "cell_type": "code",
   "execution_count": null,
   "metadata": {},
   "outputs": [],
   "source": [
    "def appendBits(x,S):\n",
    "    return [x + s for s in S]\n",
    "\n",
    "def bitStrings2(n):\n",
    "    if n == 0:\n",
    "        return []\n",
    "    if n == 1:\n",
    "        return ['0','1']\n",
    "    return (appendBits('0',bitStrings2(n-1)) + appendBits('1', bitStrings2(n-1)) )"
   ]
  },
  {
   "cell_type": "code",
   "execution_count": null,
   "metadata": {},
   "outputs": [],
   "source": [
    "bitStrings2(4)"
   ]
  },
  {
   "cell_type": "markdown",
   "metadata": {},
   "source": [
    "### 4. Generate all the strings of length n drawn from 0 to k-1"
   ]
  },
  {
   "cell_type": "code",
   "execution_count": null,
   "metadata": {},
   "outputs": [],
   "source": [
    "def possibleBits(k):\n",
    "    result = []\n",
    "    for i in range(k):\n",
    "        result.append(str(i))\n",
    "    return result\n",
    "\n",
    "def baseKStrings(n,k):\n",
    "    if n == 0:\n",
    "        return []\n",
    "    if n == 1:\n",
    "        return possibleBits(k)\n",
    "    return [d+b for d in baseKStrings(1,k) for b in baseKStrings(n-1,k)]"
   ]
  },
  {
   "cell_type": "code",
   "execution_count": null,
   "metadata": {},
   "outputs": [],
   "source": [
    "baseKStrings(2,4)"
   ]
  },
  {
   "cell_type": "markdown",
   "metadata": {},
   "source": [
    "### 5. Interleaving of two strings"
   ]
  },
  {
   "cell_type": "code",
   "execution_count": null,
   "metadata": {},
   "outputs": [],
   "source": [
    "def isInterleave(s1,s2,res,m,n,i,ans):\n",
    "    \n",
    "    if m==0 and n==0: \n",
    "        ans.append(''.join(res))\n",
    "\n",
    "    if m != 0:\n",
    "        res[i] = s1[0] \n",
    "        isInterleave(s1[1:], s2, res, m-1, n, i+1, ans) \n",
    "  \n",
    "    if n != 0: \n",
    "        res[i] = s2[0]\n",
    "        isInterleave(s1, s2[1:], res, m, n-1, i+1, ans) "
   ]
  },
  {
   "cell_type": "code",
   "execution_count": null,
   "metadata": {},
   "outputs": [],
   "source": [
    "s1 = 'ab'\n",
    "s2 = 'cd'\n",
    "res = ['' for _ in range(len(s1)+len(s2))]\n",
    "ans = []\n",
    "isInterleave(s1,s2,res,len(s1),len(s2),0,ans)\n",
    "ans"
   ]
  },
  {
   "cell_type": "markdown",
   "metadata": {},
   "source": [
    "### 6. Finding the length of connected cells of 1s in an matrix of 0s and 1s"
   ]
  },
  {
   "cell_type": "code",
   "execution_count": null,
   "metadata": {},
   "outputs": [],
   "source": [
    "def blockLength(A,r,c,n,m,size):\n",
    "    if r > n or c > m:\n",
    "        return\n",
    "    "
   ]
  },
  {
   "cell_type": "code",
   "execution_count": null,
   "metadata": {},
   "outputs": [],
   "source": []
  },
  {
   "cell_type": "code",
   "execution_count": null,
   "metadata": {},
   "outputs": [],
   "source": [
    "def PR(str1, str2, iStr, m, n, i): \n",
    "  \n",
    "    if m==0 and n==0: \n",
    "        print(iStr)\n",
    "\n",
    "    if m != 0:\n",
    "        iStr[i] = str1[0] \n",
    "        PR(str1[1:], str2, iStr, m-1, n, i+1) \n",
    "  \n",
    "    if n != 0: \n",
    "        iStr[i] = str2[0]\n",
    "        PR(str1, str2[1:], iStr, m, n-1, i+1) "
   ]
  },
  {
   "cell_type": "code",
   "execution_count": null,
   "metadata": {},
   "outputs": [],
   "source": [
    "PR('ab','cd',['', '', '', ''],2,2,0)"
   ]
  },
  {
   "cell_type": "code",
   "execution_count": null,
   "metadata": {},
   "outputs": [],
   "source": []
  }
 ],
 "metadata": {
  "kernelspec": {
   "display_name": "Python 3",
   "language": "python",
   "name": "python3"
  },
  "language_info": {
   "codemirror_mode": {
    "name": "ipython",
    "version": 3
   },
   "file_extension": ".py",
   "mimetype": "text/x-python",
   "name": "python",
   "nbconvert_exporter": "python",
   "pygments_lexer": "ipython3",
   "version": "3.6.9"
  }
 },
 "nbformat": 4,
 "nbformat_minor": 4
}
