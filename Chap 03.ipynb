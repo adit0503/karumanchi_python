{
 "cells": [
  {
   "cell_type": "markdown",
   "metadata": {},
   "source": [
    "## Single Linked List"
   ]
  },
  {
   "cell_type": "code",
   "execution_count": 1,
   "metadata": {},
   "outputs": [],
   "source": [
    "class ListNode:\n",
    "    def __init__(self,val=0,next=None):\n",
    "        self.val = val\n",
    "        self.next = next\n",
    "        \n",
    "def arrayToList(nums):\n",
    "    dummyRoot = ListNode()\n",
    "    ptr = dummyRoot\n",
    "    for n in nums:\n",
    "        ptr.next = ListNode(n)\n",
    "        ptr = ptr.next\n",
    "\n",
    "    ptr = dummyRoot.next\n",
    "    return ptr\n",
    "\n",
    "def listToArray(node):\n",
    "    ans = []\n",
    "    while(node):\n",
    "        ans.append(node.val)\n",
    "        node = node.next\n",
    "    return ans\n",
    "\n",
    "def printNode(node):\n",
    "    return node.val"
   ]
  },
  {
   "cell_type": "code",
   "execution_count": null,
   "metadata": {},
   "outputs": [],
   "source": [
    "def listLength(head):\n",
    "    count = 0\n",
    "    while(head):\n",
    "        count += 1\n",
    "        head = head.next\n",
    "    return count"
   ]
  },
  {
   "cell_type": "code",
   "execution_count": null,
   "metadata": {},
   "outputs": [],
   "source": [
    "def insertAtPosition(head,p,val):\n",
    "    node = head\n",
    "    \n",
    "    if p == 1:\n",
    "        head = ListNode(val)\n",
    "        head.next = node\n",
    "        return head\n",
    "    \n",
    "    while(p>2):\n",
    "        node = node.next\n",
    "        p -= 1\n",
    "\n",
    "    x = ListNode(val,node.next)\n",
    "    node.next = x\n",
    "    return head"
   ]
  },
  {
   "cell_type": "code",
   "execution_count": null,
   "metadata": {},
   "outputs": [],
   "source": [
    "for i in range(1,7):\n",
    "    head = arrayToList([1,2,3,4,5])\n",
    "    res = insertAtPosition(head,i,'*')\n",
    "    print(listToArray(res))"
   ]
  },
  {
   "cell_type": "code",
   "execution_count": null,
   "metadata": {},
   "outputs": [],
   "source": [
    "def deleteAtPosition(head,p):\n",
    "    if p == 1:\n",
    "        return head.next\n",
    "    \n",
    "    node = head\n",
    "    while(p>2):\n",
    "        p -= 1\n",
    "        node = node.next\n",
    "    node.next = node.next.next\n",
    "    return head\n",
    "\n",
    "def deleteFirst(head):\n",
    "    '''\n",
    "    Create a temporary node which will point to \n",
    "    the same node as that of head.\n",
    "    Now, move the head nodes pointer to\n",
    "    the next node and dispose of the temporary node.\n",
    "    '''\n",
    "    return head.next\n",
    "\n",
    "def deleteLast(head):\n",
    "    if not head.next:\n",
    "        return None\n",
    "    node = head\n",
    "    while(node.next.next):\n",
    "        node = node.next\n",
    "    node.next = None\n",
    "    return head\n",
    "\n",
    "def deleteLast2(head):\n",
    "    '''\n",
    "    Traverse the list and while traversing maintain the previous node address also. \n",
    "    By the time we reach the end of the list, \n",
    "    we will have two pointers, \n",
    "    one pointing to the tail node and \n",
    "    the other pointing to the node before the tail node.\n",
    "    Update previous nodes next pointer with NULL.\n",
    "    Dispose of the tail node .\n",
    "    '''\n",
    "    dummy = ListNode(0)\n",
    "    dummy.next = head\n",
    "    node = head\n",
    "    while(node.next):\n",
    "        dummy = node\n",
    "        node = node.next\n",
    "    dummy.next = None\n",
    "    return head\n",
    "\n",
    "def deleteMiddle(head,val):\n",
    "    '''\n",
    "    maintain the previous node while traversing the list. \n",
    "    Once we find the node to be deleted, \n",
    "    change the previous node's next pointer \n",
    "    to the next pointer of the node to be deleted.\n",
    "    Dispose if the current node to be deleted.\n",
    "    '''\n",
    "    if head.val == val:\n",
    "        return head.next\n",
    "    node = head\n",
    "    while(node.next.val != val):\n",
    "        node = node.next\n",
    "        \n",
    "    node.next = node.next.next\n",
    "    return head"
   ]
  },
  {
   "cell_type": "code",
   "execution_count": null,
   "metadata": {},
   "outputs": [],
   "source": [
    "arr1 = [1,2,3,4,5]\n",
    "head1 = arrayToList(arr1)\n",
    "\n",
    "arr2 = [6,7,8,9,10]\n",
    "head2 = arrayToList(arr2)"
   ]
  },
  {
   "cell_type": "code",
   "execution_count": null,
   "metadata": {},
   "outputs": [],
   "source": [
    "print(listToArray(deleteFirst(head2)))\n",
    "\n",
    "print(listToArray(deleteLast(head2)))\n",
    "\n",
    "print(listToArray(deleteLast2(head2)))"
   ]
  },
  {
   "cell_type": "code",
   "execution_count": null,
   "metadata": {},
   "outputs": [],
   "source": [
    "for n in arr2:\n",
    "    head = arrayToList(arr2)\n",
    "    res = deleteMiddle(head,n)\n",
    "    print(listToArray(res))"
   ]
  },
  {
   "cell_type": "code",
   "execution_count": null,
   "metadata": {},
   "outputs": [],
   "source": [
    "for i in range(1,6):\n",
    "    head = arrayToList(arr1)\n",
    "    res = deleteAtPosition(head,i)\n",
    "    print(listToArray(res))"
   ]
  },
  {
   "cell_type": "markdown",
   "metadata": {},
   "source": [
    "## Double Linked List"
   ]
  },
  {
   "cell_type": "code",
   "execution_count": 5,
   "metadata": {},
   "outputs": [],
   "source": [
    "class DoubleListNode:\n",
    "    def __init__(self, val=0,next=None,prev=None):\n",
    "        self.val = val\n",
    "        self.next = next\n",
    "        self.prev = prev\n",
    "        \n",
    "def arrayToDoubleList(arr):\n",
    "    dummyRoot = DoubleListNode()\n",
    "    ptr =  dummyRoot\n",
    "    \n",
    "    for a in arr:\n",
    "        ptr.next = DoubleListNode(a)\n",
    "        ptr.next.prev = ptr\n",
    "        ptr = ptr.next\n",
    "    \n",
    "    return dummyRoot\n",
    "\n",
    "def doubleListToArray(node):\n",
    "    ans = []\n",
    "    while(node):\n",
    "        ans.append(node.val)\n",
    "        node = node.next\n",
    "    return ans"
   ]
  },
  {
   "cell_type": "code",
   "execution_count": 6,
   "metadata": {},
   "outputs": [],
   "source": [
    "res = arrayToDoubleList([1,2,3,4,5])"
   ]
  },
  {
   "cell_type": "code",
   "execution_count": 7,
   "metadata": {},
   "outputs": [
    {
     "data": {
      "text/plain": [
       "[0, 1, 2, 3, 4, 5]"
      ]
     },
     "execution_count": 7,
     "metadata": {},
     "output_type": "execute_result"
    }
   ],
   "source": [
    "doubleListToArray(res)"
   ]
  },
  {
   "cell_type": "code",
   "execution_count": 8,
   "metadata": {},
   "outputs": [],
   "source": [
    "def reversePrint(head):\n",
    "    while(head.next):\n",
    "        head = head.next\n",
    "        \n",
    "    while(head.prev):\n",
    "        print(head.val)\n",
    "        head = head.prev"
   ]
  },
  {
   "cell_type": "code",
   "execution_count": 9,
   "metadata": {},
   "outputs": [
    {
     "name": "stdout",
     "output_type": "stream",
     "text": [
      "5\n",
      "4\n",
      "3\n",
      "2\n",
      "1\n"
     ]
    }
   ],
   "source": [
    "reversePrint(res)"
   ]
  },
  {
   "cell_type": "code",
   "execution_count": null,
   "metadata": {},
   "outputs": [],
   "source": []
  }
 ],
 "metadata": {
  "kernelspec": {
   "display_name": "Python 3",
   "language": "python",
   "name": "python3"
  },
  "language_info": {
   "codemirror_mode": {
    "name": "ipython",
    "version": 3
   },
   "file_extension": ".py",
   "mimetype": "text/x-python",
   "name": "python",
   "nbconvert_exporter": "python",
   "pygments_lexer": "ipython3",
   "version": "3.6.9"
  }
 },
 "nbformat": 4,
 "nbformat_minor": 4
}
