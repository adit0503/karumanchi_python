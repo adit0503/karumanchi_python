{
 "cells": [
  {
   "cell_type": "code",
   "execution_count": 1,
   "metadata": {},
   "outputs": [],
   "source": [
    "from heapq import heapify, heappush, heappop"
   ]
  },
  {
   "cell_type": "markdown",
   "metadata": {},
   "source": [
    "# Check Heap"
   ]
  },
  {
   "cell_type": "code",
   "execution_count": 3,
   "metadata": {},
   "outputs": [],
   "source": [
    "def checkMaxHeap(nums):\n",
    "    n = len(nums)\n",
    "    for i in range(n//2):\n",
    "        if 2*i+1 < n and nums[2*i+1] > nums[i]:\n",
    "            return False\n",
    "        if 2*i+2 < n and nums[2*i+2] > nums[i]:\n",
    "            return False\n",
    "    return True\n",
    "\n",
    "def checkMinHeap(nums):\n",
    "    n = len(nums)\n",
    "    for i in range(n//2):\n",
    "        if 2*i+1 < n and nums[2*i+1] < nums[i]:\n",
    "            return False\n",
    "        if 2*i+2 < n and nums[2*i+2] < nums[i]:\n",
    "            return False\n",
    "    return True"
   ]
  },
  {
   "cell_type": "code",
   "execution_count": null,
   "metadata": {},
   "outputs": [],
   "source": [
    "A = [11,15,12,16,17,14,13]\n",
    "B = [17,13,6,1,4,2,5]\n",
    "print(checkMinHeap(A),checkMinHeap(B))\n",
    "print(checkMaxHeap(A),checkMaxHeap(B))"
   ]
  },
  {
   "cell_type": "code",
   "execution_count": null,
   "metadata": {},
   "outputs": [],
   "source": [
    "NUMS = [3,2,7,6,5,9,8,1,0,4]"
   ]
  },
  {
   "cell_type": "markdown",
   "metadata": {},
   "source": [
    "# Max Heap"
   ]
  },
  {
   "cell_type": "code",
   "execution_count": 4,
   "metadata": {},
   "outputs": [],
   "source": [
    "class MaxHeap:\n",
    "    def __init__(self, arr):\n",
    "        self.heaplist = arr[:]\n",
    "        self.size = len(arr)\n",
    "        self.buildHeap()\n",
    "        \n",
    "    #O(logn)\n",
    "    def heapify(self,i):\n",
    "        node = i\n",
    "        leftChild = 2*i + 1\n",
    "        rightChild = 2*i + 2\n",
    "\n",
    "        if (leftChild < self.size) and (self.heaplist[node] < self.heaplist[leftChild]):\n",
    "            node = leftChild\n",
    "\n",
    "        if (rightChild < self.size) and (self.heaplist[node] < self.heaplist[rightChild]):\n",
    "            node = rightChild\n",
    "        \n",
    "        if node != i:\n",
    "            self.heaplist[node],self.heaplist[i] = self.heaplist[i],self.heaplist[node]\n",
    "            self.heapify(node)\n",
    "\n",
    "    #O(nlogn)\n",
    "    def buildHeap(self):\n",
    "        n = self.size\n",
    "        for i in range((n//2)-1,-1,-1):\n",
    "            self.heapify(i)\n",
    "    #O(nlogn)\n",
    "    def insert(self,x):\n",
    "        self.heaplist.append(x)\n",
    "        self.size += 1\n",
    "        self.buildHeap()\n",
    "        \n",
    "    #O(nlogn)\n",
    "    def deleteMax(self):\n",
    "        val = self.heaplist.pop(0)\n",
    "        self.size -= 1\n",
    "        self.buildHeap()\n",
    "        return val\n",
    "    \n",
    "    #O(1)\n",
    "    def maxElement(self):\n",
    "        return self.heaplist[0]"
   ]
  },
  {
   "cell_type": "code",
   "execution_count": null,
   "metadata": {},
   "outputs": [],
   "source": [
    "maxheap = MaxHeap(NUMS)\n",
    "print(maxheap.heaplist)\n",
    "maxheap.insert(10)\n",
    "print(maxheap.heaplist)\n",
    "print(maxheap.deleteMax())\n",
    "print(maxheap.heaplist)\n",
    "print(maxheap.maxElement())"
   ]
  },
  {
   "cell_type": "markdown",
   "metadata": {},
   "source": [
    "# Min Heap"
   ]
  },
  {
   "cell_type": "code",
   "execution_count": 5,
   "metadata": {},
   "outputs": [],
   "source": [
    "class MinHeap:\n",
    "    def __init__(self, arr):\n",
    "        self.heaplist = arr[:]\n",
    "        self.size = len(arr)\n",
    "        self.buildHeap()\n",
    "        \n",
    "    #O(logn)\n",
    "    def heapify(self,i):\n",
    "        node = i\n",
    "        leftChild = 2*i + 1\n",
    "        rightChild = 2*i + 2\n",
    "\n",
    "        if (leftChild < self.size) and (self.heaplist[node] > self.heaplist[leftChild]):\n",
    "            node = leftChild\n",
    "\n",
    "        if (rightChild < self.size) and (self.heaplist[node] > self.heaplist[rightChild]):\n",
    "            node = rightChild\n",
    "        \n",
    "        if node != i:\n",
    "            self.heaplist[node],self.heaplist[i] = self.heaplist[i],self.heaplist[node]\n",
    "            self.heapify(node)\n",
    "\n",
    "    #O(nlogn)\n",
    "    def buildHeap(self):\n",
    "        n = self.size\n",
    "        for i in range((n//2)-1,-1,-1):\n",
    "            self.heapify(i)\n",
    "            \n",
    "    #O(nlogn)\n",
    "    def insert(self,x):\n",
    "        self.heaplist.append(x)\n",
    "        self.size += 1\n",
    "        self.buildHeap()\n",
    "        \n",
    "    #O(nlogn)\n",
    "    def deleteMin(self):\n",
    "        val = self.heaplist.pop(0)\n",
    "        self.size -= 1\n",
    "        self.buildHeap()\n",
    "        return val\n",
    "    \n",
    "    #O(1)\n",
    "    def minElement(self):\n",
    "        return self.heaplist[0]"
   ]
  },
  {
   "cell_type": "code",
   "execution_count": null,
   "metadata": {},
   "outputs": [],
   "source": [
    "minheap = MinHeap(NUMS)\n",
    "print(minheap.heaplist)\n",
    "minheap.insert(-1)\n",
    "print(minheap.heaplist)\n",
    "print(minheap.deleteMin())\n",
    "print(minheap.heaplist)\n",
    "print(minheap.minElement())"
   ]
  },
  {
   "cell_type": "markdown",
   "metadata": {},
   "source": [
    "# Python in-built Heap(Min)"
   ]
  },
  {
   "cell_type": "code",
   "execution_count": null,
   "metadata": {},
   "outputs": [],
   "source": [
    "heap = []\n",
    "for n in NUMS:\n",
    "    heappush(heap,n)\n",
    "print(heap)\n",
    "print(heappop(heap))\n",
    "ARR = [3,2,7,6,5,9,8,1,0,4]\n",
    "heapify(ARR)\n",
    "print(ARR)"
   ]
  },
  {
   "cell_type": "markdown",
   "metadata": {},
   "source": [
    "# Heap + Tree Representation"
   ]
  },
  {
   "cell_type": "code",
   "execution_count": 6,
   "metadata": {},
   "outputs": [],
   "source": [
    "class TreeNode:\n",
    "    def __init__(self, val=0, left=None, right=None):\n",
    "        self.val = val\n",
    "        self.left = left\n",
    "        self.right = right\n",
    "\n",
    "def arrayToTree(S):\n",
    "    if S == '[]':\n",
    "        return None\n",
    "    \n",
    "    nodes = []\n",
    "    for s in S:\n",
    "        nodes.append(TreeNode(s))\n",
    "    \n",
    "    stack = nodes[::-1]\n",
    "    root = stack.pop()\n",
    "    \n",
    "    for node in nodes:\n",
    "        if node:\n",
    "            if stack:\n",
    "                node.left = stack.pop()\n",
    "            if stack:\n",
    "                node.right = stack.pop()        \n",
    "    return root"
   ]
  },
  {
   "cell_type": "code",
   "execution_count": 7,
   "metadata": {},
   "outputs": [],
   "source": [
    "import turtle as t\n",
    "def drawTree(root):\n",
    "    \n",
    "    def height(root):\n",
    "        return 1 + max(height(root.left), height(root.right)) if root else -1\n",
    "    \n",
    "    def jumpto(x, y):\n",
    "        t.penup()\n",
    "        t.goto(x, y)\n",
    "        t.pendown()\n",
    "        \n",
    "    def draw(node, x, y, dx):\n",
    "        if node:\n",
    "            t.goto(x, y)\n",
    "            jumpto(x, y-20)\n",
    "            t.write(node.val, align='center', font=('Arial', 12, 'normal'))\n",
    "            draw(node.left, x-dx, y-60, dx/2)\n",
    "            jumpto(x, y-20)\n",
    "            draw(node.right, x+dx, y-60, dx/2) \n",
    "        \n",
    "\n",
    "    t.clear()\n",
    "    h = height(root)\n",
    "    jumpto(0, 30*h)\n",
    "    draw(root, 0, 30*h, 40*h)\n",
    "    \n",
    "    t.hideturtle()\n",
    "    t.mainloop()\n",
    "    t.exitonclick()"
   ]
  },
  {
   "cell_type": "markdown",
   "metadata": {},
   "source": [
    "### 7. Maximum Element in a Min Heap"
   ]
  },
  {
   "cell_type": "code",
   "execution_count": 20,
   "metadata": {},
   "outputs": [],
   "source": [
    "#O(n)\n",
    "\n",
    "def findMaxinMinHeap(nums):\n",
    "    ans = nums[0]\n",
    "    n = len(nums)\n",
    "    i = 0\n",
    "    while(i < n//2):\n",
    "        leftChild = 2*i+1\n",
    "        rightChild = 2*i + 2\n",
    "        if leftChild < n and ans < nums[leftChild]:\n",
    "            ans = nums[leftChild]\n",
    "        if rightChild < n and ans < nums[rightChild]:\n",
    "            ans = nums[rightChild]\n",
    "        i += 1\n",
    "    return ans"
   ]
  },
  {
   "cell_type": "code",
   "execution_count": 22,
   "metadata": {},
   "outputs": [
    {
     "data": {
      "text/plain": [
       "15"
      ]
     },
     "execution_count": 22,
     "metadata": {},
     "output_type": "execute_result"
    }
   ],
   "source": [
    "nums = [3,6,15,4,1,8,9,7,1,0]\n",
    "heapify(nums)\n",
    "findMaxinMinHeap(nums)"
   ]
  },
  {
   "cell_type": "code",
   "execution_count": null,
   "metadata": {},
   "outputs": [],
   "source": []
  },
  {
   "cell_type": "code",
   "execution_count": null,
   "metadata": {},
   "outputs": [],
   "source": []
  }
 ],
 "metadata": {
  "kernelspec": {
   "display_name": "Python 3",
   "language": "python",
   "name": "python3"
  },
  "language_info": {
   "codemirror_mode": {
    "name": "ipython",
    "version": 3
   },
   "file_extension": ".py",
   "mimetype": "text/x-python",
   "name": "python",
   "nbconvert_exporter": "python",
   "pygments_lexer": "ipython3",
   "version": "3.6.9"
  }
 },
 "nbformat": 4,
 "nbformat_minor": 4
}
