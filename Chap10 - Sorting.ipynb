{
 "cells": [
  {
   "cell_type": "code",
   "execution_count": 1,
   "metadata": {},
   "outputs": [],
   "source": [
    "import random"
   ]
  },
  {
   "cell_type": "markdown",
   "metadata": {},
   "source": [
    "# Sorting Methods:\n",
    "### Comparison-based Sorting - O(n2)\n",
    "\n",
    "- [Bubble Sort](#1)\n",
    "- [Selection Sort](#2)\n",
    "- [Insertion Sort](#3)\n",
    "- [Shell Sort](#4)\n",
    "\n",
    "\n",
    "### Better Comparison-based Sorting - O(nlogn)\n",
    "<pre>\n",
    "Merge Sort\n",
    "Heap Sort\n",
    "Quick Sort\n",
    "Tree Sort\n",
    "</pre>\n",
    "\n",
    "### Linear Sorting - O(n)\n",
    "<pre>\n",
    "Counting Sort\n",
    "Bucket Sort\n",
    "Radix Sort\n",
    "</pre>"
   ]
  },
  {
   "cell_type": "code",
   "execution_count": null,
   "metadata": {},
   "outputs": [],
   "source": [
    "def generateArray():\n",
    "    NUMS = []\n",
    "    for _ in range(10):\n",
    "        NUMS.append(random.randint(0,100))\n",
    "    return NUMS"
   ]
  },
  {
   "cell_type": "markdown",
   "metadata": {},
   "source": [
    "<a id='1'></a>\n",
    "## Bubble Sort"
   ]
  },
  {
   "cell_type": "code",
   "execution_count": null,
   "metadata": {},
   "outputs": [],
   "source": [
    "#O(n2)\n",
    "\n",
    "def bubbleSort(nums):\n",
    "    for i in range(len(nums)):\n",
    "        for j in range(i+1,len(nums)):\n",
    "            if nums[i] > nums[j]:\n",
    "                nums[i],nums[j] = nums[j],nums[i]\n",
    "                \n",
    "    return nums"
   ]
  },
  {
   "cell_type": "code",
   "execution_count": null,
   "metadata": {},
   "outputs": [],
   "source": [
    "arr = generateArray()\n",
    "print(arr)\n",
    "print(bubbleSort(arr))"
   ]
  },
  {
   "cell_type": "markdown",
   "metadata": {},
   "source": [
    "## Selection Sort"
   ]
  },
  {
   "cell_type": "code",
   "execution_count": null,
   "metadata": {},
   "outputs": [],
   "source": [
    "#O(n2)\n",
    "\n",
    "def selectionSort(nums):\n",
    "    for i in range(len(nums)):\n",
    "        minIndex = i\n",
    "        for j in range(i+1,len(nums)):\n",
    "            if nums[minIndex] > nums[j]:\n",
    "                minIndex = j\n",
    "        if minIndex != i:\n",
    "            nums[i],nums[minIndex] = nums[minIndex],nums[i]\n",
    "    return nums"
   ]
  },
  {
   "cell_type": "code",
   "execution_count": null,
   "metadata": {},
   "outputs": [],
   "source": [
    "arr = generateArray()\n",
    "print(arr)\n",
    "print(selectionSort(arr))"
   ]
  },
  {
   "cell_type": "markdown",
   "metadata": {},
   "source": [
    "## Insertion Sort"
   ]
  },
  {
   "cell_type": "code",
   "execution_count": null,
   "metadata": {},
   "outputs": [],
   "source": [
    "#O(n2)\n",
    "\n",
    "def insertionSort(nums):\n",
    "    for i in range(len(nums)):\n",
    "        temp = nums[i]\n",
    "        j = i\n",
    "        while(j > 0 and nums[j-1]>temp):\n",
    "            nums[j] = nums[j-1]\n",
    "            j -= 1\n",
    "        nums[j] = temp\n",
    "    return nums"
   ]
  },
  {
   "cell_type": "code",
   "execution_count": null,
   "metadata": {},
   "outputs": [],
   "source": [
    "arr = generateArray()\n",
    "print(arr)\n",
    "print(insertionSort(arr))"
   ]
  },
  {
   "cell_type": "markdown",
   "metadata": {},
   "source": [
    "## Shell Sort"
   ]
  },
  {
   "cell_type": "code",
   "execution_count": null,
   "metadata": {},
   "outputs": [],
   "source": [
    "#O(n2)\n",
    "\n",
    "def hInsertionSort(nums,i,h):\n",
    "    for j in range(i+h,len(nums),h):\n",
    "        curr = nums[j]\n",
    "        pos = j\n",
    "        while((pos>=h) and (nums[pos-h]>curr)):\n",
    "            nums[pos] = nums[pos-h]\n",
    "            pos = pos-h\n",
    "        nums[pos] = curr\n",
    "\n",
    "def shellSort(nums):\n",
    "    h = len(nums)//2\n",
    "    while(h > 0):\n",
    "        for i in range(h):\n",
    "            hInsertionSort(nums,i,h)\n",
    "        h = h // 2\n",
    "    return nums"
   ]
  },
  {
   "cell_type": "code",
   "execution_count": null,
   "metadata": {},
   "outputs": [],
   "source": [
    "arr = generateArray()\n",
    "print(arr)\n",
    "print(shellSort(arr))"
   ]
  },
  {
   "cell_type": "markdown",
   "metadata": {},
   "source": [
    "## Merge Sort"
   ]
  },
  {
   "cell_type": "code",
   "execution_count": null,
   "metadata": {},
   "outputs": [],
   "source": [
    "#O(nlogn)\n",
    "\n",
    "def mergeSort(nums):\n",
    "    if len(nums) > 1:\n",
    "        mid = len(nums)//2\n",
    "        L = nums[:mid]\n",
    "        R = nums[mid:]\n",
    "        \n",
    "        mergeSort(L)\n",
    "        mergeSort(R)\n",
    "        \n",
    "        i = j = k = 0\n",
    "\n",
    "        while i < len(L) and j < len(R): \n",
    "            if L[i] < R[j]: \n",
    "                nums[k] = L[i] \n",
    "                i+=1\n",
    "            else: \n",
    "                nums[k] = R[j] \n",
    "                j+=1\n",
    "            k+=1\n",
    "\n",
    "        while i < len(L): \n",
    "            nums[k] = L[i] \n",
    "            i+=1\n",
    "            k+=1\n",
    "\n",
    "        while j < len(R): \n",
    "            nums[k] = R[j] \n",
    "            j+=1\n",
    "            k+=1\n",
    "    return nums"
   ]
  },
  {
   "cell_type": "code",
   "execution_count": null,
   "metadata": {},
   "outputs": [],
   "source": [
    "arr = generateArray()\n",
    "print(arr)\n",
    "print(mergeSort(arr))"
   ]
  },
  {
   "cell_type": "markdown",
   "metadata": {},
   "source": [
    "## Heap Sort"
   ]
  },
  {
   "cell_type": "markdown",
   "metadata": {},
   "source": [
    "## Quick Sort"
   ]
  },
  {
   "cell_type": "code",
   "execution_count": null,
   "metadata": {},
   "outputs": [],
   "source": [
    "#O(nlogn)\n",
    "\n",
    "def partition(arr,l,r):\n",
    "    pivot = arr[(l+r)//2]\n",
    "    while(l <= r):\n",
    "        while(arr[l] < pivot):\n",
    "            l += 1\n",
    "        \n",
    "        while(arr[r] > pivot):\n",
    "            r -= 1\n",
    "            \n",
    "        if(l <= r):\n",
    "            arr[l],arr[r] = arr[r],arr[l]\n",
    "            l += 1\n",
    "            r -= 1\n",
    "    return l\n",
    "\n",
    "def quick(nums,l,r):\n",
    "    index = partition(nums,l,r)\n",
    "    if(l < index-1):\n",
    "        quick(nums,l,index-1)\n",
    "    if(index < r):\n",
    "        quick(nums,index,r)\n",
    "        \n",
    "def quickSort(nums):\n",
    "    quick(nums,0,len(nums)-1)\n",
    "    return nums"
   ]
  },
  {
   "cell_type": "code",
   "execution_count": null,
   "metadata": {},
   "outputs": [],
   "source": [
    "arr = generateArray()\n",
    "print(arr)\n",
    "print(quickSort(arr))"
   ]
  },
  {
   "cell_type": "markdown",
   "metadata": {},
   "source": [
    "## Tree Sort"
   ]
  },
  {
   "cell_type": "markdown",
   "metadata": {},
   "source": [
    "## Counting Sort"
   ]
  },
  {
   "cell_type": "code",
   "execution_count": null,
   "metadata": {},
   "outputs": [],
   "source": [
    "#O(n)\n",
    "\n",
    "def countingSort(nums,k):\n",
    "    ans = [0 for _ in range(len(nums))]\n",
    "    temp = [0 for _ in range(k+1)]\n",
    "    \n",
    "    for n in nums:\n",
    "        temp[n] += 1\n",
    "        \n",
    "    for i in range(1,len(temp)):\n",
    "        temp[i] += temp[i-1]\n",
    "        \n",
    "    for n in nums[::-1]:\n",
    "        index = temp[n] - 1\n",
    "        ans[index] = n\n",
    "        temp[n] -= 1\n",
    "    return ans"
   ]
  },
  {
   "cell_type": "code",
   "execution_count": null,
   "metadata": {},
   "outputs": [],
   "source": [
    "arr = generateArray()\n",
    "print(arr)\n",
    "print(countingSort(arr,100))"
   ]
  },
  {
   "cell_type": "markdown",
   "metadata": {},
   "source": [
    "## Bucket Sort"
   ]
  },
  {
   "cell_type": "code",
   "execution_count": null,
   "metadata": {},
   "outputs": [],
   "source": [
    "#O(n)\n",
    "import math\n",
    "def hashing(n,hashCode):\n",
    "    return (n // (hashCode[0]*(hashCode[1]-1)))\n",
    "\n",
    "def bucketSort(nums):\n",
    "    hashCode = (max(nums),int(math.sqrt(len(nums))))\n",
    "    buckets = [[] for _ in range(hashCode[0])]\n",
    "    \n",
    "    for n in nums:\n",
    "        x = hashing(n,hashCode)\n",
    "        buckets[x].append(n)\n",
    "        \n",
    "    for bucket in buckets:\n",
    "        bucket.sort()\n",
    "        \n",
    "    i = 0\n",
    "    for bucket in buckets:\n",
    "        for n in bucket:\n",
    "            nums[i] = n\n",
    "            i += 1\n",
    "    \n",
    "    return nums"
   ]
  },
  {
   "cell_type": "code",
   "execution_count": null,
   "metadata": {},
   "outputs": [],
   "source": [
    "arr = generateArray()\n",
    "print(arr)\n",
    "print(bucketSort(arr))"
   ]
  },
  {
   "cell_type": "markdown",
   "metadata": {},
   "source": [
    "## Radix Sort"
   ]
  },
  {
   "cell_type": "code",
   "execution_count": null,
   "metadata": {},
   "outputs": [],
   "source": [
    "#O(n)\n",
    "\n",
    "def bucketsAnalysis(nums,digit):\n",
    "    l = len(nums)\n",
    "    buckets = [0 for _ in range(10)]\n",
    "    \n",
    "    for n in nums:\n",
    "        d = n//digit\n",
    "        buckets[d%10] += 1\n",
    "\n",
    "    for i in range(1,10):\n",
    "        buckets[i] += buckets[i-1]\n",
    "    \n",
    "    arr = [0 for _ in range(l)]\n",
    "    for n in nums[::-1]:\n",
    "        d = n//digit\n",
    "        buckets[d%10] -= 1\n",
    "        arr[buckets[d%10]] = n\n",
    "        \n",
    "    return arr\n",
    "    \n",
    "def radixSort(nums):\n",
    "    digit = 1\n",
    "    max_d = max(nums)\n",
    "    while(max_d//digit > 0):\n",
    "        nums = bucketsAnalysis(nums,digit)\n",
    "        digit *= 10\n",
    "    return nums"
   ]
  },
  {
   "cell_type": "code",
   "execution_count": null,
   "metadata": {},
   "outputs": [],
   "source": [
    "arr = generateArray()\n",
    "print(arr)\n",
    "print(radixSort(arr))"
   ]
  },
  {
   "cell_type": "markdown",
   "metadata": {},
   "source": [
    "# Problems:"
   ]
  },
  {
   "cell_type": "markdown",
   "metadata": {},
   "source": [
    "### [1. Check Repeated Elements](https://leetcode.com/problems/contains-duplicate/)"
   ]
  },
  {
   "cell_type": "code",
   "execution_count": null,
   "metadata": {},
   "outputs": [],
   "source": [
    "#O(n2)\n",
    "\n",
    "def checkRepetition(nums):\n",
    "    for i in range(len(nums)):\n",
    "        for j in range(i+1,len(nums)):\n",
    "            if nums[i] == nums[j]:\n",
    "                return True\n",
    "    return False"
   ]
  },
  {
   "cell_type": "code",
   "execution_count": null,
   "metadata": {},
   "outputs": [],
   "source": [
    "checkRepetition([1,1,1,3,3,4,3,2,4,2])"
   ]
  },
  {
   "cell_type": "code",
   "execution_count": null,
   "metadata": {},
   "outputs": [],
   "source": [
    "#O(nlogn)\n",
    "\n",
    "def checkRepetition2(nums):\n",
    "    nums.sort()\n",
    "    for i in range(1,len(nums)):\n",
    "        if nums[i-1] == nums[i]:\n",
    "            return True\n",
    "    return False"
   ]
  },
  {
   "cell_type": "code",
   "execution_count": null,
   "metadata": {},
   "outputs": [],
   "source": [
    "checkRepetition2([1,2,3,4,5])"
   ]
  },
  {
   "cell_type": "markdown",
   "metadata": {},
   "source": [
    "### 3. Find maximum occurance of number"
   ]
  },
  {
   "cell_type": "code",
   "execution_count": null,
   "metadata": {},
   "outputs": [],
   "source": [
    "#O(n) - using a counter dict\n",
    "\n",
    "def winsElection(nums):\n",
    "    temp = {}\n",
    "    for n in nums:\n",
    "        temp[n] = temp.get(n,0) + 1\n",
    "    \n",
    "    ans = nums[0]\n",
    "    maxVotes = 0\n",
    "    for k,v in temp.items():\n",
    "        if v > maxVotes:\n",
    "            maxVotes = v\n",
    "            ans = k\n",
    "    return ans"
   ]
  },
  {
   "cell_type": "code",
   "execution_count": null,
   "metadata": {},
   "outputs": [],
   "source": [
    "nums = []\n",
    "for _ in range(100):\n",
    "    nums.append(random.randint(0,10))\n",
    "print(winsElection(nums))"
   ]
  },
  {
   "cell_type": "code",
   "execution_count": null,
   "metadata": {},
   "outputs": [],
   "source": [
    "#O(nlogn) - using only constant space i.e sort+scan\n",
    "\n",
    "def winsElection2(nums):\n",
    "    nums.sort()\n",
    "    \n",
    "    i = 0\n",
    "    maxVotes = 0\n",
    "    while(i<len(nums)):\n",
    "        j = i\n",
    "        while(j<len(nums) and nums[j]==nums[i]):\n",
    "            j += 1\n",
    "        if j-i > maxVotes:\n",
    "            maxVotes = j-i\n",
    "            win = nums[i]\n",
    "        i = j\n",
    "    return win"
   ]
  },
  {
   "cell_type": "code",
   "execution_count": null,
   "metadata": {},
   "outputs": [],
   "source": [
    "nums = []\n",
    "for _ in range(100):\n",
    "    nums.append(random.randint(0,10))\n",
    "print(winsElection2(nums))"
   ]
  },
  {
   "cell_type": "markdown",
   "metadata": {},
   "source": [
    "### [9.  Two Array variation of Two Sum problem](https://leetcode.com/problems/two-sum/)"
   ]
  },
  {
   "cell_type": "code",
   "execution_count": null,
   "metadata": {},
   "outputs": [],
   "source": [
    "#O(n) - using dict\n",
    "\n",
    "def twoArraySum(nums1,nums2,k):\n",
    "    temp = {}\n",
    "    for a in nums1:\n",
    "        b = k-a\n",
    "        temp[b] = temp.get(b,[]) + [a]\n",
    "    print(temp)\n",
    "    ans = []\n",
    "    for b in nums2:\n",
    "        if b in temp:\n",
    "            ans.append((temp[b][0],b))\n",
    "    return ans"
   ]
  },
  {
   "cell_type": "code",
   "execution_count": null,
   "metadata": {},
   "outputs": [],
   "source": [
    "A = [2,3,5,7,12,15,23,32,42]\n",
    "B = [3,13,15,22,33]\n",
    "twoArraySum(A,B,15)"
   ]
  },
  {
   "cell_type": "markdown",
   "metadata": {},
   "source": [
    "### 15. Sort array of 0s and 1s"
   ]
  },
  {
   "cell_type": "code",
   "execution_count": null,
   "metadata": {},
   "outputs": [],
   "source": [
    "#O(n) - using swaps\n",
    "\n",
    "def sortColour(nums):\n",
    "    i = 0\n",
    "    j = len(nums)-1\n",
    "    while(i<j):\n",
    "        while(nums[i]!=1):\n",
    "            i += 1\n",
    "        while(nums[j]!=0):\n",
    "            j -= 1\n",
    "        if (i<j):\n",
    "            nums[i],nums[j] = nums[j],nums[i]\n",
    "    return nums"
   ]
  },
  {
   "cell_type": "code",
   "execution_count": null,
   "metadata": {},
   "outputs": [],
   "source": [
    "sortColour([0,1,0,1,1,0,1,1,0,0,0,1,1,0,1,0,1,0,0,1,1])"
   ]
  },
  {
   "cell_type": "code",
   "execution_count": 1,
   "metadata": {},
   "outputs": [],
   "source": [
    "#O(n) - efficient swaps\n",
    "\n",
    "def sortColour2(nums):\n",
    "    i = 0\n",
    "    j = len(nums)-1\n",
    "    while(i<j):\n",
    "        if nums[i]== 1:\n",
    "            nums[i],nums[j] = nums[j],nums[i]\n",
    "            j -= 1\n",
    "        else:\n",
    "            i += 1\n",
    "    return nums"
   ]
  },
  {
   "cell_type": "code",
   "execution_count": 2,
   "metadata": {},
   "outputs": [
    {
     "data": {
      "text/plain": [
       "[0, 0, 0, 0, 0, 0, 0, 0, 0, 0, 1, 1, 1, 1, 1, 1, 1, 1, 1, 1, 1]"
      ]
     },
     "execution_count": 2,
     "metadata": {},
     "output_type": "execute_result"
    }
   ],
   "source": [
    "sortColour2([0,1,0,1,1,0,1,1,0,0,0,1,1,0,1,0,1,0,0,1,1])"
   ]
  },
  {
   "cell_type": "markdown",
   "metadata": {},
   "source": [
    "### [16. Sort array of 0s, 1s & 2s](https://leetcode.com/problems/sort-colors/)"
   ]
  },
  {
   "cell_type": "code",
   "execution_count": null,
   "metadata": {},
   "outputs": [],
   "source": [
    "#O(n2) - using Insertion Sort\n",
    "def sortColor(nums):\n",
    "    i  = 0\n",
    "    while(i<len(nums)):\n",
    "        temp = nums[i]\n",
    "        j = i\n",
    "        while(j>0 and nums[j-1]>=temp):\n",
    "            nums[j] = nums[j-1]\n",
    "            j -= 1\n",
    "        i += 1\n",
    "    return nums"
   ]
  },
  {
   "cell_type": "code",
   "execution_count": null,
   "metadata": {},
   "outputs": [],
   "source": [
    "sortColor([0,1,1,0,2,1,2,0,0,0,1])"
   ]
  },
  {
   "cell_type": "code",
   "execution_count": null,
   "metadata": {},
   "outputs": [],
   "source": [
    "#O(n2) - using dict and count\n",
    "\n",
    "def sortColor2(nums):\n",
    "    temp = {}\n",
    "    for n in nums:\n",
    "        temp[n] = temp.get(n,0) + 1\n",
    "    i = 0\n",
    "    for t in range(3):\n",
    "        for _ in range(temp[t]):\n",
    "            nums[i] = t\n",
    "            i+=1\n",
    "    return nums"
   ]
  },
  {
   "cell_type": "code",
   "execution_count": null,
   "metadata": {},
   "outputs": [],
   "source": [
    "sortColor2([0,1,1,0,2,1,2,0,0,0,1])"
   ]
  },
  {
   "cell_type": "code",
   "execution_count": null,
   "metadata": {},
   "outputs": [],
   "source": [
    "#O(n) - using two pointers and doing swaps twice (quick sort)\n",
    "\n",
    "def sortColor3(nums):\n",
    "    i = 0\n",
    "    j = len(nums)-1\n",
    "\n",
    "    def swap(nums,i,j,k):\n",
    "        while(i<=j):\n",
    "            if nums[i]!=k:\n",
    "                nums[i],nums[j] = nums[j],nums[i]\n",
    "                j -= 1\n",
    "            else:\n",
    "                i += 1\n",
    "        return i\n",
    "\n",
    "    i = swap(nums,i,j,0)\n",
    "    swap(nums,i,j,1)\n",
    "    return nums"
   ]
  },
  {
   "cell_type": "code",
   "execution_count": null,
   "metadata": {},
   "outputs": [],
   "source": [
    "sortColor3([2,0,2,1,1,0])"
   ]
  },
  {
   "cell_type": "code",
   "execution_count": null,
   "metadata": {},
   "outputs": [],
   "source": [
    "#O(n) - counting sort using extra space\n",
    "\n",
    "def sortColor4(nums):\n",
    "    ans = [0 for _ in range(len(nums))]\n",
    "    temp = [0 for _ in range(3)]\n",
    "    \n",
    "    for n in nums:\n",
    "        temp[n] += 1\n",
    "        \n",
    "    for i in range(1,len(temp)):\n",
    "        temp[i] += temp[i-1]\n",
    "        \n",
    "    for n in nums[::-1]:\n",
    "        index = temp[n]\n",
    "        ans[index-1] = n\n",
    "        temp[n] -= 1\n",
    "    return ans"
   ]
  },
  {
   "cell_type": "code",
   "execution_count": null,
   "metadata": {},
   "outputs": [],
   "source": [
    "sortColor4([0,1,1,0,2,1,2,0,0,0,1])"
   ]
  }
 ],
 "metadata": {
  "kernelspec": {
   "display_name": "Python 3",
   "language": "python",
   "name": "python3"
  },
  "language_info": {
   "codemirror_mode": {
    "name": "ipython",
    "version": 3
   },
   "file_extension": ".py",
   "mimetype": "text/x-python",
   "name": "python",
   "nbconvert_exporter": "python",
   "pygments_lexer": "ipython3",
   "version": "3.6.9"
  }
 },
 "nbformat": 4,
 "nbformat_minor": 4
}
