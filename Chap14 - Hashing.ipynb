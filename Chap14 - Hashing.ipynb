{
 "cells": [
  {
   "cell_type": "markdown",
   "metadata": {},
   "source": [
    "### [2. Remove Duplicates from Unsorted Array](https://leetcode.com/problems/remove-duplicates-from-sorted-array/)"
   ]
  },
  {
   "cell_type": "code",
   "execution_count": 48,
   "metadata": {},
   "outputs": [],
   "source": [
    "#O(n2) - replace duplicate with last element and decrement length\n",
    "\n",
    "def removeDuplicates(nums):\n",
    "    i,l = 0,len(nums)\n",
    "    while(i<l):\n",
    "        j = i+1\n",
    "        while(j<l):\n",
    "            if nums[j] == nums[i]:\n",
    "                nums[j] = nums[l-1]\n",
    "                l -= 1\n",
    "            else:\n",
    "                j += 1\n",
    "        i += 1\n",
    "    return nums[:l]"
   ]
  },
  {
   "cell_type": "code",
   "execution_count": 51,
   "metadata": {},
   "outputs": [
    {
     "data": {
      "text/plain": [
       "[3, 2, 4, 1, 5]"
      ]
     },
     "execution_count": 51,
     "metadata": {},
     "output_type": "execute_result"
    }
   ],
   "source": [
    "removeDuplicates([3,2,3,4,3,2,2,2,1,1,1,1,2,2,2,3,3,3,5,5,4,4,3,3,3])"
   ]
  },
  {
   "cell_type": "code",
   "execution_count": 54,
   "metadata": {},
   "outputs": [],
   "source": [
    "#O(nlogn) - using sort\n",
    "\n",
    "def removeDuplicates2(nums):\n",
    "    nums.sort()\n",
    "    i,j,l = 0,0,len(nums)\n",
    "    while(j<l):\n",
    "        if nums[i]!=nums[j]:\n",
    "            i += 1\n",
    "            nums[i] = nums[j]\n",
    "        j += 1\n",
    "    return nums[:i+1]"
   ]
  },
  {
   "cell_type": "code",
   "execution_count": 55,
   "metadata": {},
   "outputs": [
    {
     "data": {
      "text/plain": [
       "[1, 2, 3, 4, 5]"
      ]
     },
     "execution_count": 55,
     "metadata": {},
     "output_type": "execute_result"
    }
   ],
   "source": [
    "removeDuplicates2([3,2,3,4,3,2,2,2,1,1,1,1,2,2,2,3,3,3,5,5,4,4,3,3,3])"
   ]
  },
  {
   "cell_type": "code",
   "execution_count": 62,
   "metadata": {},
   "outputs": [],
   "source": [
    "def removeDuplicates3(nums):\n",
    "    temp = set()\n",
    "    i = 0\n",
    "    for n in nums:\n",
    "        if n not in temp:\n",
    "            nums[i] = n\n",
    "            i += 1\n",
    "            temp.add(n)\n",
    "    return nums[:i]"
   ]
  },
  {
   "cell_type": "code",
   "execution_count": 63,
   "metadata": {},
   "outputs": [
    {
     "data": {
      "text/plain": [
       "[3, 2, 4, 1, 5]"
      ]
     },
     "execution_count": 63,
     "metadata": {},
     "output_type": "execute_result"
    }
   ],
   "source": [
    "removeDuplicates3([3,2,3,4,3,2,2,2,1,1,1,1,2,2,2,3,3,3,5,5,4,4,3,3,3])"
   ]
  },
  {
   "cell_type": "code",
   "execution_count": null,
   "metadata": {},
   "outputs": [],
   "source": []
  }
 ],
 "metadata": {
  "kernelspec": {
   "display_name": "Python 3",
   "language": "python",
   "name": "python3"
  },
  "language_info": {
   "codemirror_mode": {
    "name": "ipython",
    "version": 3
   },
   "file_extension": ".py",
   "mimetype": "text/x-python",
   "name": "python",
   "nbconvert_exporter": "python",
   "pygments_lexer": "ipython3",
   "version": "3.6.9"
  }
 },
 "nbformat": 4,
 "nbformat_minor": 4
}
