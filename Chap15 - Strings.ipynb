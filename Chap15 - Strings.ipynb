{
 "cells": [
  {
   "cell_type": "markdown",
   "metadata": {},
   "source": [
    "### [1. String Matching Algorithms](https://leetcode.com/problems/implement-strstr/) - find pattern string (P) in text string (T)"
   ]
  },
  {
   "cell_type": "code",
   "execution_count": 12,
   "metadata": {},
   "outputs": [],
   "source": [
    "#O(nm) - brute force\n",
    "\n",
    "def findString(T,P):\n",
    "    \n",
    "    n = len(T)\n",
    "    m = len(P)\n",
    "    i = 0\n",
    "    while(i<(n-m+1)):\n",
    "        j = 0\n",
    "        k = i\n",
    "        while(j<m and k<n and T[k]==P[j]):\n",
    "            j += 1\n",
    "            k += 1\n",
    "        if j == m:\n",
    "            return i\n",
    "        i += 1\n",
    "    return -1"
   ]
  },
  {
   "cell_type": "code",
   "execution_count": 13,
   "metadata": {},
   "outputs": [
    {
     "data": {
      "text/plain": [
       "3"
      ]
     },
     "execution_count": 13,
     "metadata": {},
     "output_type": "execute_result"
    }
   ],
   "source": [
    "findString('hello','lo')"
   ]
  },
  {
   "cell_type": "code",
   "execution_count": 19,
   "metadata": {},
   "outputs": [],
   "source": [
    "# Rabin-Karp string matching algo\n",
    "\n",
    "# depending on hash function: worst = O(nm) , best = O(n+m)\n",
    "# using python's built-in hash() function\n",
    "\n",
    "def findString2(T,P):\n",
    "    temp = {}\n",
    "    \n",
    "    n = len(T)\n",
    "    m = len(P)\n",
    "    \n",
    "    i = 0\n",
    "    while(i<(n-m+1)):\n",
    "        h = hash(T[i:i+m])\n",
    "        temp[h] = temp.get(h,[]) + [i]\n",
    "        i += 1\n",
    "        \n",
    "    return temp.get(hash(P),[-1])[0]"
   ]
  },
  {
   "cell_type": "code",
   "execution_count": 20,
   "metadata": {},
   "outputs": [
    {
     "data": {
      "text/plain": [
       "2"
      ]
     },
     "execution_count": 20,
     "metadata": {},
     "output_type": "execute_result"
    }
   ],
   "source": [
    "findString2('hello','ll')"
   ]
  },
  {
   "cell_type": "code",
   "execution_count": null,
   "metadata": {},
   "outputs": [],
   "source": []
  }
 ],
 "metadata": {
  "kernelspec": {
   "display_name": "Python 3",
   "language": "python",
   "name": "python3"
  },
  "language_info": {
   "codemirror_mode": {
    "name": "ipython",
    "version": 3
   },
   "file_extension": ".py",
   "mimetype": "text/x-python",
   "name": "python",
   "nbconvert_exporter": "python",
   "pygments_lexer": "ipython3",
   "version": "3.6.9"
  }
 },
 "nbformat": 4,
 "nbformat_minor": 4
}
