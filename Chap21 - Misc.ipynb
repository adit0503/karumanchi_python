{
 "cells": [
  {
   "cell_type": "markdown",
   "metadata": {},
   "source": [
    "# Bitwise Programming"
   ]
  },
  {
   "cell_type": "markdown",
   "metadata": {},
   "source": [
    "### Check Kth bit is set or not"
   ]
  },
  {
   "cell_type": "code",
   "execution_count": null,
   "metadata": {},
   "outputs": [],
   "source": [
    "def checkKthBit(n,k):\n",
    "    print(bin(n)[2:])\n",
    "    return bool(n & (1<<(k-1)))"
   ]
  },
  {
   "cell_type": "code",
   "execution_count": null,
   "metadata": {},
   "outputs": [],
   "source": [
    "print(checkKthBit(65,4))"
   ]
  },
  {
   "cell_type": "markdown",
   "metadata": {},
   "source": [
    "### Set Kth Bit"
   ]
  },
  {
   "cell_type": "code",
   "execution_count": null,
   "metadata": {},
   "outputs": [],
   "source": [
    "def setKthBit(n,k):\n",
    "    print(bin(n)[2:])\n",
    "    return bin(n | (1<<(k-1)))[2:]"
   ]
  },
  {
   "cell_type": "code",
   "execution_count": null,
   "metadata": {},
   "outputs": [],
   "source": [
    "print(setKthBit(56,1))"
   ]
  },
  {
   "cell_type": "markdown",
   "metadata": {},
   "source": [
    "### [1. Spiral Matrix](https://leetcode.com/problems/spiral-matrix/)"
   ]
  },
  {
   "cell_type": "code",
   "execution_count": null,
   "metadata": {},
   "outputs": [],
   "source": [
    "def spiralMatrix(matrix):\n",
    "    n = len(matrix)\n",
    "    m = len(matrix[0])\n",
    "        ans = []\n",
    "    \n",
    "    dx,dy = 0,1\n",
    "    x,y = 0,0\n",
    "    for i in range(n*m):\n",
    "        ans.append(matrix[x][y])\n",
    "        matrix[x][y] = None\n",
    "        nx,ny = x+dx,y+dy\n",
    "        if 0<=nx<n and 0<=ny<m and matrix[nx][ny] != None:\n",
    "            x,y = nx,ny\n",
    "        else:\n",
    "            dx,dy = dy,-dx\n",
    "            x,y = x+dx,y+dy\n",
    "    return ans"
   ]
  },
  {
   "cell_type": "code",
   "execution_count": null,
   "metadata": {},
   "outputs": [],
   "source": [
    "spiralMatrix([[1, 2, 3, 4],[5, 6, 7, 8],[9,10,11,12]])"
   ]
  },
  {
   "cell_type": "markdown",
   "metadata": {},
   "source": [
    "### [1. Generate Spiral Matrix](https://leetcode.com/problems/spiral-matrix-ii/)"
   ]
  },
  {
   "cell_type": "code",
   "execution_count": null,
   "metadata": {},
   "outputs": [],
   "source": [
    "def spiralMatrix2(n):\n",
    "    matrix = [[None]*n for _ in range(n)]\n",
    "    \n",
    "    dx,dy = 0,1\n",
    "    x,y = 0,0\n",
    "    \n",
    "    for i in range(1,n**2+1):\n",
    "        matrix[x][y] = i\n",
    "        nx,ny = x+dx, y+dy\n",
    "        if 0<=nx<n and 0<=ny<n and matrix[nx][ny] == None:\n",
    "            x,y = nx,ny\n",
    "        else:\n",
    "            dx,dy = dy,-dx\n",
    "            x,y = x+dx,y+dy\n",
    "    return matrix"
   ]
  },
  {
   "cell_type": "code",
   "execution_count": null,
   "metadata": {},
   "outputs": [],
   "source": [
    "spiralMatrix2(5)"
   ]
  },
  {
   "cell_type": "markdown",
   "metadata": {},
   "source": [
    "### [2. Shuffle an Array](https://leetcode.com/problems/shuffle-an-array/)"
   ]
  },
  {
   "cell_type": "code",
   "execution_count": null,
   "metadata": {},
   "outputs": [],
   "source": [
    "#O(n) - Fisher-Yates Shuffle Algorithm\n",
    "\n",
    "import random as rd\n",
    "class ShuffleArray:\n",
    "    def __init__(self, nums):\n",
    "        self.array = nums\n",
    "        self.original = list(nums)\n",
    "        \n",
    "    def reset(self):        \n",
    "        self.array = list(self.original)\n",
    "        return self.array\n",
    "        \n",
    "    def shuffle(self):\n",
    "        aux = list(self.array)\n",
    "        \n",
    "        for i in range(len(self.array)):      \n",
    "            rand_i = rd.randrange(len(aux))\n",
    "            self.array[i] = aux.pop(rand_i)\n",
    "            \n",
    "        return self.array"
   ]
  },
  {
   "cell_type": "code",
   "execution_count": null,
   "metadata": {},
   "outputs": [],
   "source": [
    "SA = ShuffleArray([1,2,3,4])\n",
    "Q = [\"shuffle\",\"reset\",\"shuffle\"]\n",
    "for q in Q:\n",
    "    if q == 'shuffle':\n",
    "        ans = SA.shuffle()\n",
    "    if q == 'reset':\n",
    "        ans = SA.reset()\n",
    "    print(ans)"
   ]
  },
  {
   "cell_type": "markdown",
   "metadata": {},
   "source": [
    "### [3. Array Rotation with Reversal](https://leetcode.com/problems/rotate-array/)"
   ]
  },
  {
   "cell_type": "code",
   "execution_count": null,
   "metadata": {},
   "outputs": [],
   "source": [
    "def arrayRotation(nums,k):\n",
    "    l = len(nums)\n",
    "    k = k % l\n",
    "    return nums[l-k:]+nums[:l-k]"
   ]
  },
  {
   "cell_type": "code",
   "execution_count": null,
   "metadata": {},
   "outputs": [],
   "source": [
    "arrayRotation([1,2,3,4,5,6,7],3)"
   ]
  },
  {
   "cell_type": "code",
   "execution_count": null,
   "metadata": {},
   "outputs": [],
   "source": [
    "def arrayRotation2(nums,k):\n",
    "    \n",
    "    def reverse(arr,i,j):\n",
    "        return arr[:i]+arr[i:j+1][::-1]+arr[j+1:]\n",
    "    \n",
    "    n = len(nums)\n",
    "    nums[:] = reverse(nums,0,k-1)\n",
    "    nums[:] = reverse(nums,k,n-1)\n",
    "    nums[:] = reverse(nums,0,n-1)\n",
    "    return nums"
   ]
  },
  {
   "cell_type": "code",
   "execution_count": null,
   "metadata": {},
   "outputs": [],
   "source": [
    "arrayRotation2([1,2,3,4,5,6,7],2)"
   ]
  },
  {
   "cell_type": "markdown",
   "metadata": {},
   "source": [
    "### [6. Unique Pathways from A to B](https://leetcode.com/problems/unique-paths/)"
   ]
  },
  {
   "cell_type": "code",
   "execution_count": null,
   "metadata": {},
   "outputs": [],
   "source": [
    "def uniquePathways(n,m):\n",
    "    dp = [[1]*m for _ in range(n)]\n",
    "    \n",
    "    for i in range(1,n):\n",
    "        for j in range(1,m):\n",
    "            dp[i][j] = dp[i][j-1]+dp[i-1][j]\n",
    "    return dp[n-1][m-1]"
   ]
  },
  {
   "cell_type": "code",
   "execution_count": null,
   "metadata": {},
   "outputs": [],
   "source": [
    "uniquePathways(5,5)"
   ]
  },
  {
   "cell_type": "code",
   "execution_count": null,
   "metadata": {},
   "outputs": [],
   "source": [
    "class UniquePathways:\n",
    "    def __init__(self,n,m):\n",
    "        self.matrix = [[0]*m for _ in range(n)]\n",
    "        self.pathways(n,m)\n",
    "        \n",
    "    def left(self,i,j):        \n",
    "        if i-1==0:\n",
    "            return 1\n",
    "        return self.matrix[i-1][j]\n",
    "    \n",
    "    def top(self,i,j):        \n",
    "        if j-1==0:\n",
    "            return 1\n",
    "        return self.matrix[i][j-1]\n",
    "    \n",
    "    def pathways(self,n,m):\n",
    "        for i in range(n):\n",
    "            for j in range(m):\n",
    "                self.matrix[i][j] = self.left(i,j) + self.top(i,j)"
   ]
  },
  {
   "cell_type": "code",
   "execution_count": null,
   "metadata": {},
   "outputs": [],
   "source": [
    "UP = UniquePathways(7,1)\n",
    "UP.matrix[-1][-1]"
   ]
  },
  {
   "cell_type": "markdown",
   "metadata": {},
   "source": [
    "### [6. Pascals Triangles](https://leetcode.com/problems/pascals-triangle/)"
   ]
  },
  {
   "cell_type": "code",
   "execution_count": null,
   "metadata": {},
   "outputs": [],
   "source": [
    "def pascalsTriangle(n):\n",
    "    ans = []\n",
    "    Row = [1]\n",
    "    ans.append(Row)\n",
    "    \n",
    "    if n==1:\n",
    "        return ans\n",
    "    \n",
    "    def generateNextRow(Row):\n",
    "        nextRow = []\n",
    "        nextRow.append(Row[0])\n",
    "        for i in range(len(Row)-1):\n",
    "            nextRow.append(Row[i]+Row[i+1])\n",
    "        nextRow.append(Row[-1])\n",
    "        return nextRow\n",
    "    \n",
    "    \n",
    "    for _ in range(1,n):\n",
    "        Row = generateNextRow(Row)\n",
    "        ans.append(Row)\n",
    "    return ans"
   ]
  },
  {
   "cell_type": "code",
   "execution_count": null,
   "metadata": {},
   "outputs": [],
   "source": [
    "pascalsTriangle(5)"
   ]
  },
  {
   "cell_type": "markdown",
   "metadata": {},
   "source": [
    "### 7. Move spaces in a string to the front"
   ]
  },
  {
   "cell_type": "code",
   "execution_count": null,
   "metadata": {},
   "outputs": [],
   "source": [
    "#O(n) - two pointers and swap spaces\n",
    "\n",
    "def moveSpaces2(S):\n",
    "    S = list(S)\n",
    "    i = j = len(S)-1\n",
    "    while(j>-1):\n",
    "        if S[j]!=' ':\n",
    "            S[i],S[j] = S[j],S[i]\n",
    "            i -= 1\n",
    "        j -= 1\n",
    "    return ''.join(S)"
   ]
  },
  {
   "cell_type": "code",
   "execution_count": null,
   "metadata": {},
   "outputs": [],
   "source": [
    "moveSpaces2('hello world how are you doing')"
   ]
  },
  {
   "cell_type": "code",
   "execution_count": null,
   "metadata": {},
   "outputs": [],
   "source": [
    "#O(n) - using two pointers and count spaces\n",
    "\n",
    "def moveSpaces(S):\n",
    "    S = list(S)\n",
    "    i = j = len(S)-1\n",
    "    count = 0\n",
    "    while(i>-1):\n",
    "        if S[i] != ' ':\n",
    "            S[j] = S[i]\n",
    "            j -= 1\n",
    "        else:\n",
    "            count += 1\n",
    "        i -= 1\n",
    "        \n",
    "    while(count>0):\n",
    "        count -= 1\n",
    "        S[count] = ' '\n",
    "        \n",
    "    return ''.join(S)"
   ]
  },
  {
   "cell_type": "code",
   "execution_count": null,
   "metadata": {},
   "outputs": [],
   "source": [
    "moveSpaces('hello world how are you doing')"
   ]
  },
  {
   "cell_type": "markdown",
   "metadata": {},
   "source": [
    "### 9. Move spaces in a string to the end"
   ]
  },
  {
   "cell_type": "code",
   "execution_count": null,
   "metadata": {},
   "outputs": [],
   "source": [
    "def moveSpaces3(S):\n",
    "    S = list(S)\n",
    "    i = j = 0\n",
    "    l = len(S)\n",
    "    while(j<l):\n",
    "        if S[j] != ' ':\n",
    "            S[i],S[j] = S[j],S[i]\n",
    "            i+=1\n",
    "        j += 1\n",
    "    return ''.join(S)"
   ]
  },
  {
   "cell_type": "code",
   "execution_count": null,
   "metadata": {},
   "outputs": [],
   "source": [
    "moveSpaces3('  hello   world  how  are       you doing ')"
   ]
  },
  {
   "cell_type": "code",
   "execution_count": null,
   "metadata": {},
   "outputs": [],
   "source": [
    "def moveSpaces4(S):\n",
    "    S = list(S)\n",
    "    i = j = 0\n",
    "    l = len(S)\n",
    "    while(i<l):\n",
    "        if S[i] != ' ':\n",
    "            S[j] = S[i]\n",
    "            j += 1\n",
    "        i += 1\n",
    "    while(j<l):\n",
    "        S[j]= ' '\n",
    "        j += 1\n",
    "    return ''.join(S)"
   ]
  },
  {
   "cell_type": "code",
   "execution_count": null,
   "metadata": {},
   "outputs": [],
   "source": [
    "moveSpaces4('  hello   world how   are   you doing')"
   ]
  },
  {
   "cell_type": "markdown",
   "metadata": {},
   "source": [
    "### [10. Moving Zeros to the End](https://leetcode.com/problems/move-zeroes/)"
   ]
  },
  {
   "cell_type": "code",
   "execution_count": null,
   "metadata": {},
   "outputs": [],
   "source": [
    "#O(n) - using two pointers and swap\n",
    "\n",
    "def moveZeros(nums):\n",
    "    i,j = 0,0\n",
    "    l = len(nums)\n",
    "    while(j<l):\n",
    "        if nums[j] != 0:\n",
    "            nums[j],nums[i] = nums[i],nums[j]\n",
    "            i += 1\n",
    "        j += 1\n",
    "    return nums"
   ]
  },
  {
   "cell_type": "code",
   "execution_count": null,
   "metadata": {},
   "outputs": [],
   "source": [
    "moveZeros([1,9,8,4,0,0,2,7,0,6,0])"
   ]
  },
  {
   "cell_type": "code",
   "execution_count": null,
   "metadata": {},
   "outputs": [],
   "source": [
    "#O(n) - using only two pointers\n",
    "\n",
    "def moveZeros2(nums):\n",
    "    i,j = 0,0\n",
    "    l = len(nums)\n",
    "    while(i<l):\n",
    "        if nums[i] != 0:\n",
    "            nums[j] = nums[i]\n",
    "            j += 1\n",
    "        i += 1\n",
    "    while(j<l):\n",
    "        nums[j] = 0\n",
    "        j += 1\n",
    "    return nums"
   ]
  },
  {
   "cell_type": "code",
   "execution_count": null,
   "metadata": {},
   "outputs": [],
   "source": [
    "moveZeros([1,9,8,4,0,0,2,7,0,6,0])"
   ]
  },
  {
   "cell_type": "markdown",
   "metadata": {},
   "source": [
    "### 12. Seperate out positive and negative numbers"
   ]
  },
  {
   "cell_type": "code",
   "execution_count": null,
   "metadata": {},
   "outputs": [],
   "source": [
    "def seperatePosNeg(nums):\n",
    "    i,j = 0,0\n",
    "    l = len(nums)\n",
    "    while(j<l):\n",
    "        if nums[j] < 0:\n",
    "            nums[j],nums[i] = nums[i],nums[j]\n",
    "            i += 1\n",
    "        j += 1\n",
    "    return nums"
   ]
  },
  {
   "cell_type": "code",
   "execution_count": null,
   "metadata": {},
   "outputs": [],
   "source": [
    "seperatePosNeg([-5,3,2,-1,4,-8])"
   ]
  },
  {
   "cell_type": "markdown",
   "metadata": {},
   "source": [
    "### [13. Add 1 to Digit-Array of a Number](https://leetcode.com/problems/plus-one/)"
   ]
  },
  {
   "cell_type": "code",
   "execution_count": null,
   "metadata": {},
   "outputs": [],
   "source": [
    "def addOne(nums):\n",
    "    i = len(nums)-1\n",
    "    carry = 1\n",
    "    while(i>-1):\n",
    "        A = (nums[i]+carry)\n",
    "        nums[i] = A%10\n",
    "        carry = A//10\n",
    "        i -= 1\n",
    "    if carry > 0:\n",
    "        nums.insert(0,carry)\n",
    "    return nums"
   ]
  },
  {
   "cell_type": "code",
   "execution_count": null,
   "metadata": {},
   "outputs": [],
   "source": [
    "addOne([9,9,8])"
   ]
  },
  {
   "cell_type": "markdown",
   "metadata": {},
   "source": [
    "### [14. Shuffle an Array](https://leetcode.com/problems/shuffle-an-array/)"
   ]
  },
  {
   "cell_type": "code",
   "execution_count": null,
   "metadata": {},
   "outputs": [],
   "source": [
    "#O(n2) - Fisher-Yates\n",
    "\n",
    "import random as rd\n",
    "def shuffleArray(nums):\n",
    "    temp = []\n",
    "    for _ in range(len(nums)):\n",
    "        rand = rd.randint(0,len(nums)-1)\n",
    "        temp.append(nums.pop(rand)) #O(n)\n",
    "    return temp"
   ]
  },
  {
   "cell_type": "code",
   "execution_count": null,
   "metadata": {},
   "outputs": [],
   "source": [
    "shuffleArray(list(range(20)))"
   ]
  },
  {
   "cell_type": "code",
   "execution_count": null,
   "metadata": {},
   "outputs": [],
   "source": [
    "#O(n) - Durstenfeld\n",
    "\n",
    "def shuffleArray2(nums):\n",
    "    i = len(nums)-1\n",
    "    while(i>1):\n",
    "        rand = rd.randint(0,i-1)\n",
    "        nums[i],nums[rand] = nums[rand],nums[i]\n",
    "        i -= 1\n",
    "    return nums"
   ]
  },
  {
   "cell_type": "code",
   "execution_count": null,
   "metadata": {},
   "outputs": [],
   "source": [
    "shuffleArray2(list(range(10)))"
   ]
  }
 ],
 "metadata": {
  "kernelspec": {
   "display_name": "Python 3",
   "language": "python",
   "name": "python3"
  },
  "language_info": {
   "codemirror_mode": {
    "name": "ipython",
    "version": 3
   },
   "file_extension": ".py",
   "mimetype": "text/x-python",
   "name": "python",
   "nbconvert_exporter": "python",
   "pygments_lexer": "ipython3",
   "version": "3.6.9"
  }
 },
 "nbformat": 4,
 "nbformat_minor": 4
}
