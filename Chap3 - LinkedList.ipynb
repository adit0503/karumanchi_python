{
 "cells": [
  {
   "cell_type": "code",
   "execution_count": 1,
   "metadata": {},
   "outputs": [],
   "source": [
    "class ListNode:\n",
    "    def __init__(self,val=0,next=None):\n",
    "        self.val = val\n",
    "        self.next = next\n",
    "        \n",
    "class RandListNode:\n",
    "    def __init__(self,val=0,next=None, rand=None):\n",
    "        self.val = val\n",
    "        self.next = next\n",
    "        self.rand = rand\n",
    "        \n",
    "def arrayToList(nums):\n",
    "    dummyRoot = ListNode()\n",
    "    ptr = dummyRoot\n",
    "    for n in nums:\n",
    "        ptr.next = ListNode(n)\n",
    "        ptr = ptr.next\n",
    "\n",
    "    ptr = dummyRoot.next\n",
    "    return ptr\n",
    "\n",
    "def arrayToCirList(nums):\n",
    "    dummyRoot = ListNode()\n",
    "    ptr = dummyRoot\n",
    "    for n in nums:\n",
    "        ptr.next = ListNode(n)\n",
    "        ptr = ptr.next\n",
    "    ptr.next = dummyRoot.next\n",
    "    ptr = dummyRoot.next\n",
    "    return ptr\n",
    "\n",
    "def listToArray(node):\n",
    "    ans = []\n",
    "    while(node):\n",
    "        ans.append(node.val)\n",
    "        node = node.next\n",
    "    return ans\n",
    "\n",
    "def printNode(node):\n",
    "    return node.val"
   ]
  },
  {
   "cell_type": "markdown",
   "metadata": {},
   "source": [
    "### 1. Implement the Stack using LinkedList"
   ]
  },
  {
   "cell_type": "code",
   "execution_count": null,
   "metadata": {},
   "outputs": [],
   "source": [
    "class StackLL:\n",
    "    def __init__(self):\n",
    "        self.top = None\n",
    "        self.head = None\n",
    "        \n",
    "    def push(self,val):\n",
    "        node = ListNode(val)\n",
    "        \n",
    "        if not self.top:\n",
    "            self.top = node\n",
    "            self.head = self.top\n",
    "        else:\n",
    "            self.top.next = node\n",
    "            self.top = self.top.next\n",
    "    \n",
    "    def pop(self):\n",
    "        node = self.head\n",
    "        \n",
    "        if node.next:\n",
    "            \n",
    "        \n",
    "        while(node.next.next):\n",
    "            node = node.next\n",
    "        ans = node.next.val\n",
    "        node.next = None\n",
    "        "
   ]
  },
  {
   "cell_type": "markdown",
   "metadata": {},
   "source": [
    "### 2. Find the nth node from the end of a Linked List"
   ]
  },
  {
   "cell_type": "code",
   "execution_count": null,
   "metadata": {},
   "outputs": [],
   "source": [
    "# O(n) - with dict\n",
    "\n",
    "def nthLastNodeDict(head,n):\n",
    "    node = head\n",
    "    l = 0\n",
    "    temp = {}\n",
    "    while(node):\n",
    "        temp[l+1] = node\n",
    "        node = node.next\n",
    "        l += 1 \n",
    "    return temp[l-n+1].val"
   ]
  },
  {
   "cell_type": "code",
   "execution_count": null,
   "metadata": {},
   "outputs": [],
   "source": [
    "head = arrayToList([1,2,3,4,5])\n",
    "nthLastNodeDict(head,4)"
   ]
  },
  {
   "cell_type": "code",
   "execution_count": null,
   "metadata": {},
   "outputs": [],
   "source": [
    "#O(n) - without dict, 2 scans\n",
    "\n",
    "def nthLastNode(head,n):\n",
    "    node = head\n",
    "    l = 0\n",
    "    while(node):\n",
    "        l += 1\n",
    "        node = node.next\n",
    "    \n",
    "    k = l-n\n",
    "    node = head\n",
    "    while(k > 0):\n",
    "        node = node.next\n",
    "        k -= 1\n",
    "    \n",
    "    return node.val"
   ]
  },
  {
   "cell_type": "code",
   "execution_count": null,
   "metadata": {},
   "outputs": [],
   "source": [
    "head = arrayToList([1,2,3,4,5,6,7,8])\n",
    "nthLastNode(head,2)"
   ]
  },
  {
   "cell_type": "code",
   "execution_count": null,
   "metadata": {},
   "outputs": [],
   "source": [
    "#O(n) - 1 scan, 2pointers\n",
    "\n",
    "def nthLastNodeScan(head,n):\n",
    "    node1 = node2 = head\n",
    "    while(n>0):\n",
    "        node1 = node1.next\n",
    "        n -= 1\n",
    "    while(node1):\n",
    "        node1 = node1.next\n",
    "        node2 = node2.next\n",
    "    return node2.val"
   ]
  },
  {
   "cell_type": "code",
   "execution_count": null,
   "metadata": {},
   "outputs": [],
   "source": [
    "head = arrayToList([1,2,3,4,5,6])\n",
    "nthLastNodeScan(head,4)"
   ]
  },
  {
   "cell_type": "markdown",
   "metadata": {},
   "source": [
    "### 6. Check whether the given linked list is either NULL-terminated or ends in a cycle"
   ]
  },
  {
   "cell_type": "code",
   "execution_count": null,
   "metadata": {},
   "outputs": [],
   "source": [
    "#O(n) - using set\n",
    "\n",
    "def checkCycle(head):\n",
    "    temp = set()\n",
    "    while(head):\n",
    "        temp.add(head)\n",
    "        head = head.next\n",
    "        if head in temp:\n",
    "            return True\n",
    "\n",
    "    return False"
   ]
  },
  {
   "cell_type": "code",
   "execution_count": null,
   "metadata": {},
   "outputs": [],
   "source": [
    "head = arrayToList([1,2,3,4,5,6])\n",
    "checkCycle(head)"
   ]
  },
  {
   "cell_type": "code",
   "execution_count": null,
   "metadata": {},
   "outputs": [],
   "source": [
    "#O(n) - without using sets (fast/slow pointers)\n",
    "\n",
    "def checkCycleFloyd(head):\n",
    "    fast = slow = head\n",
    "    \n",
    "    while(fast and fast.next):\n",
    "        fast = fast.next.next\n",
    "        slow = slow.next\n",
    "        if fast == slow:\n",
    "            return True\n",
    "        \n",
    "    return False"
   ]
  },
  {
   "cell_type": "code",
   "execution_count": null,
   "metadata": {},
   "outputs": [],
   "source": [
    "head = arrayToList([1,2,3,4,5,6])\n",
    "checkCycle(head)"
   ]
  },
  {
   "cell_type": "markdown",
   "metadata": {},
   "source": [
    "### 11. If there is a cycle, find the start node of the linked list"
   ]
  },
  {
   "cell_type": "code",
   "execution_count": null,
   "metadata": {},
   "outputs": [],
   "source": [
    "#O(n) - using set\n",
    "\n",
    "def startNodeCycle(head):\n",
    "    temp = set()\n",
    "    while(head):\n",
    "        temp.add(head)\n",
    "        head = head.next\n",
    "        if head in temp:\n",
    "            return head\n",
    "    return None"
   ]
  },
  {
   "cell_type": "code",
   "execution_count": null,
   "metadata": {},
   "outputs": [],
   "source": [
    "#O(n) - fast/slow pointer floyd\n",
    "\n",
    "def startNodeCycleFloyd(head):\n",
    "    fast = slow = head\n",
    "    while(fast and fast.next):\n",
    "        fast = fast.next.next\n",
    "        slow = slow.next\n",
    "        if fast == slow:\n",
    "            break\n",
    "    else:\n",
    "        return Node\n",
    "    slow = head\n",
    "    while(slow != fast):\n",
    "        slow = slow.next\n",
    "        fast = fast.next\n",
    "    return slow"
   ]
  },
  {
   "cell_type": "markdown",
   "metadata": {},
   "source": [
    "### 14. If there is cycle, find the length of the loop"
   ]
  },
  {
   "cell_type": "code",
   "execution_count": null,
   "metadata": {},
   "outputs": [],
   "source": [
    "#O(n) - fast/slow pointer floyd\n",
    "\n",
    "def lengthCycle(head):\n",
    "    fast = slow = head\n",
    "    \n",
    "    while(fast and fast.next):\n",
    "        fast = fast.next.next\n",
    "        slow = slow.next\n",
    "        if fast == slow:\n",
    "            break\n",
    "    else:\n",
    "        return None\n",
    "    \n",
    "    l = 1\n",
    "    fast = fast.next\n",
    "    while(fast!=slow):\n",
    "        l += 1\n",
    "        fast = fast.next\n",
    "    return l"
   ]
  },
  {
   "cell_type": "markdown",
   "metadata": {},
   "source": [
    "### 15. Insert a node in a sorted linked list"
   ]
  },
  {
   "cell_type": "code",
   "execution_count": null,
   "metadata": {},
   "outputs": [],
   "source": [
    "def insertSortedLL(head,val):\n",
    "    if val < head.val:\n",
    "        head = ListNode(val,head)\n",
    "        return head\n",
    "        \n",
    "    node = head\n",
    "    while(node.next and node.next.val < val):\n",
    "        node = node.next\n",
    "        \n",
    "    temp = ListNode(val)\n",
    "    temp.next = node.next\n",
    "    node.next = temp\n",
    "    return head"
   ]
  },
  {
   "cell_type": "code",
   "execution_count": null,
   "metadata": {},
   "outputs": [],
   "source": [
    "head = arrayToList([1,2,3,4,5])\n",
    "listToArray(insertSortedLL(head,0))"
   ]
  },
  {
   "cell_type": "markdown",
   "metadata": {},
   "source": [
    "### [16. Reverse a singly linked list](https://leetcode.com/problems/reverse-linked-list/)"
   ]
  },
  {
   "cell_type": "code",
   "execution_count": null,
   "metadata": {},
   "outputs": [],
   "source": [
    "#O(n) - using array\n",
    "\n",
    "def reverseLL(head):\n",
    "    temp = []\n",
    "    while(head):\n",
    "        temp.append(head)\n",
    "        head = head.next\n",
    "    temp = temp[::-1]\n",
    "    head = temp[0]\n",
    "    for i in range(len(temp)-1):\n",
    "        temp[i].next = temp[i+1]\n",
    "    temp[i+1].next = None\n",
    "    return head"
   ]
  },
  {
   "cell_type": "code",
   "execution_count": null,
   "metadata": {},
   "outputs": [],
   "source": [
    "head = arrayToList([3,4,5,6,7,8,9])\n",
    "listToArray(reverseLL(head))"
   ]
  },
  {
   "cell_type": "code",
   "execution_count": null,
   "metadata": {},
   "outputs": [],
   "source": [
    "#O(n) - without extra array space\n",
    "\n",
    "def reverseLL2(head):\n",
    "    prev = None\n",
    "    node = head\n",
    "    while(node):\n",
    "        nextNode = node.next\n",
    "        node.next = prev\n",
    "        prev = node\n",
    "        node = nextNode\n",
    "    return prev"
   ]
  },
  {
   "cell_type": "code",
   "execution_count": null,
   "metadata": {},
   "outputs": [],
   "source": [
    "head = arrayToList([3,4,5,6,7,8,9])\n",
    "listToArray(reverseLL2(head))"
   ]
  },
  {
   "cell_type": "markdown",
   "metadata": {},
   "source": [
    "### [17. Find merging point of 2 linked lists](https://leetcode.com/problems/intersection-of-two-linked-lists/)"
   ]
  },
  {
   "cell_type": "code",
   "execution_count": null,
   "metadata": {},
   "outputs": [],
   "source": [
    "#O(mn) - brute force\n",
    "\n",
    "def mergePointLL(head1, head2):\n",
    "    while(head1):\n",
    "        while(head2):\n",
    "            if head1 == head2:\n",
    "                return head1\n",
    "            head2 = head2.next\n",
    "        head1.head1.next\n",
    "    return None"
   ]
  },
  {
   "cell_type": "code",
   "execution_count": null,
   "metadata": {},
   "outputs": [],
   "source": [
    "#O(n) - using dict\n",
    "\n",
    "def mergePointLL2(head1,head2):\n",
    "    temp = {}\n",
    "    while(head1):\n",
    "        temp[head1] = True\n",
    "        head1 = head1.next\n",
    "    while(head2):\n",
    "        if temp.get(head2,False):\n",
    "            return head2\n",
    "        head2 = head2.next\n",
    "    return None"
   ]
  },
  {
   "cell_type": "code",
   "execution_count": null,
   "metadata": {},
   "outputs": [],
   "source": [
    "#O(n) - using sets\n",
    "\n",
    "def mergePointLL3(head1,head2):\n",
    "    temp = set()\n",
    "    while(head1):\n",
    "        temp.add(head1)\n",
    "        head1 = head1.next\n",
    "        \n",
    "    while(head2):\n",
    "        if head2 in temp:\n",
    "            return head2\n",
    "        head2 = head2.next\n",
    "    \n",
    "    return None"
   ]
  },
  {
   "cell_type": "code",
   "execution_count": null,
   "metadata": {},
   "outputs": [],
   "source": [
    "#O(n+m) - using stacks\n",
    "\n",
    "def mergePointLL4(head1,head2):\n",
    "    stack1 = []\n",
    "    stack2 = []\n",
    "    while(head1):\n",
    "        stack1.append(head1)\n",
    "        head1 = head1.next\n",
    "    while(head2):\n",
    "        stack2.append(head2)\n",
    "        head2 = head2.next\n",
    "    \n",
    "    same = None\n",
    "    while(stack1 and stack2):\n",
    "        if stack1[-1] != stack2[-1]:\n",
    "            return same\n",
    "        same = stack1[-1]\n",
    "        stack1.pop()\n",
    "        stack2.pop()\n",
    "    \n",
    "    return None"
   ]
  },
  {
   "cell_type": "code",
   "execution_count": null,
   "metadata": {},
   "outputs": [],
   "source": [
    "#O(n+m) - first repeating element\n",
    "\n",
    "def mergePointLL5(head1,head2):\n",
    "    temp = []\n",
    "    while(head1):\n",
    "        temp.append(head1)\n",
    "        head1.next\n",
    "    while(head2):\n",
    "        temp.append(head2)\n",
    "        head2 = head2.next\n",
    "    "
   ]
  },
  {
   "cell_type": "code",
   "execution_count": null,
   "metadata": {},
   "outputs": [],
   "source": [
    "#O(max(n,m)) - using search+sort\n",
    "\n",
    "def search(arr,n):\n",
    "    l = 0\n",
    "    r = len(arr)-1\n",
    "    while(l<=r):\n",
    "        m = (l+r)//2\n",
    "        if arr[m] == n:\n",
    "            return True\n",
    "        elif arr[m] < n:\n",
    "            l = m+1\n",
    "        else:\n",
    "            r = m-1\n",
    "    return False\n",
    "            \n",
    "def mergePointLL6(head1,head2):\n",
    "    temp = []\n",
    "    while(head1):\n",
    "        temp.append(head1)\n",
    "        head1 = head1.next\n",
    "        \n",
    "    temp.sort()\n",
    "    \n",
    "    while(head2):\n",
    "        if search(temp,head1):\n",
    "            return head2\n",
    "        head2 = head2.next\n",
    "    \n",
    "    return None"
   ]
  },
  {
   "cell_type": "markdown",
   "metadata": {},
   "source": [
    "### 24. How will you find the middle of the linked list"
   ]
  },
  {
   "cell_type": "code",
   "execution_count": null,
   "metadata": {},
   "outputs": [],
   "source": [
    "#O(n2) - brute force\n",
    "\n",
    "def findMiddle(head):\n",
    "    l = 0\n",
    "    node = head\n",
    "    while(node):\n",
    "        l += 1\n",
    "        node = node.next\n",
    "    m = l//2\n",
    "    node = head\n",
    "    while(m > 0):\n",
    "        m -= 1\n",
    "        node = node.next\n",
    "    return node.val"
   ]
  },
  {
   "cell_type": "code",
   "execution_count": null,
   "metadata": {},
   "outputs": [],
   "source": [
    "head = arrayToList([1,2,3,4,5,6,7,8,9])\n",
    "findMiddle(head)"
   ]
  },
  {
   "cell_type": "code",
   "execution_count": null,
   "metadata": {},
   "outputs": [],
   "source": [
    "def findMiddle2(head):\n",
    "    temp = {}\n",
    "    l = 0\n",
    "    node = head\n",
    "    while(node):\n",
    "        temp[l] = node\n",
    "        l += 1\n",
    "        node = node.next\n",
    "    return temp[l//2].val"
   ]
  },
  {
   "cell_type": "code",
   "execution_count": null,
   "metadata": {},
   "outputs": [],
   "source": [
    "head = arrayToList([1,2,3,4,5,6,7,8])\n",
    "findMiddle2(head)"
   ]
  },
  {
   "cell_type": "code",
   "execution_count": null,
   "metadata": {},
   "outputs": [],
   "source": [
    "#O(n) - fast/slow pointer floyd\n",
    "\n",
    "def findMiddle3(head):\n",
    "    fast = slow = head\n",
    "    while(fast and fast.next):\n",
    "        fast = fast.next.next\n",
    "        slow = slow.next\n",
    "    return slow.val"
   ]
  },
  {
   "cell_type": "code",
   "execution_count": null,
   "metadata": {},
   "outputs": [],
   "source": [
    "head = arrayToList([1,2,3,4,5,6,7,8])\n",
    "findMiddle3(head)"
   ]
  },
  {
   "cell_type": "markdown",
   "metadata": {},
   "source": [
    "### 28. How will you display the liked list from the end"
   ]
  },
  {
   "cell_type": "code",
   "execution_count": null,
   "metadata": {},
   "outputs": [],
   "source": [
    "def display(node):\n",
    "    if node.next == None:\n",
    "        return [node.val]\n",
    "    return display(node.next) + [node.val]\n",
    "\n",
    "def reverseDisplay(head):\n",
    "    return display(head)"
   ]
  },
  {
   "cell_type": "code",
   "execution_count": null,
   "metadata": {},
   "outputs": [],
   "source": [
    "head = arrayToList([1,2,3,4])\n",
    "reverseDisplay(head)"
   ]
  },
  {
   "cell_type": "markdown",
   "metadata": {},
   "source": [
    "### 29. Check whether the given linked list length is even or odd"
   ]
  },
  {
   "cell_type": "code",
   "execution_count": null,
   "metadata": {},
   "outputs": [],
   "source": [
    "#O(n/2) - 2x pointer\n",
    "\n",
    "def lengthEvenOdd(head):\n",
    "    node = head\n",
    "    while(node and node.next):\n",
    "        node = node.next.next\n",
    "    return 'Odd' if node else 'Even'"
   ]
  },
  {
   "cell_type": "code",
   "execution_count": null,
   "metadata": {},
   "outputs": [],
   "source": [
    "head = arrayToList([1,2])\n",
    "lengthEvenOdd(head)"
   ]
  },
  {
   "cell_type": "markdown",
   "metadata": {},
   "source": [
    "### 30. Given two sorted linked list, how to merge them into a thrid single list in sorted order"
   ]
  },
  {
   "cell_type": "code",
   "execution_count": null,
   "metadata": {},
   "outputs": [],
   "source": [
    "#O(n+m)\n",
    "\n",
    "def merge2LL(head1,head2):\n",
    "    head3 = ListNode(-1)\n",
    "    dummy = head3\n",
    "    \n",
    "    while(head1 and head2):\n",
    "        if head1.val < head2.val:\n",
    "            head3.next = head1\n",
    "            head3 = head3.next\n",
    "            head1 = head1.next\n",
    "        else:\n",
    "            head3.next = head2\n",
    "            head3 = head3.next\n",
    "            head2 = head2.next\n",
    "    \n",
    "    if head1:\n",
    "        head3.next = head1\n",
    "    else:\n",
    "        head3.next = head2\n",
    "    \n",
    "    return dummy.next"
   ]
  },
  {
   "cell_type": "code",
   "execution_count": null,
   "metadata": {},
   "outputs": [],
   "source": [
    "head1 = arrayToList([1,5,6,8])\n",
    "head2 = arrayToList([2,3,4,7])\n",
    "listToArray(merge2LL(head1,head2))"
   ]
  },
  {
   "cell_type": "markdown",
   "metadata": {},
   "source": [
    "### 32. Revere the linked list in pairs. if you have a linked list that holds 1 -> 2 -> 3 -> 4 -> x, conevrt to 2 -> 1 -> 4 -> 3 -> x "
   ]
  },
  {
   "cell_type": "code",
   "execution_count": null,
   "metadata": {},
   "outputs": [],
   "source": [
    "#O(n) - swap values of nodes\n",
    "\n",
    "def reverseInPairs(head):\n",
    "    node = head\n",
    "    while(node and node.next):\n",
    "        node.val, node.next.val = node.next.val, node.val\n",
    "        node = node.next.next\n",
    "    return head"
   ]
  },
  {
   "cell_type": "code",
   "execution_count": null,
   "metadata": {},
   "outputs": [],
   "source": [
    "head = arrayToList([1,2,3,4,5,6,7,8])\n",
    "listToArray(reverseInPairs(head))"
   ]
  },
  {
   "cell_type": "markdown",
   "metadata": {},
   "source": [
    "### 35. Split a linked list into two equal parts."
   ]
  },
  {
   "cell_type": "code",
   "execution_count": null,
   "metadata": {},
   "outputs": [],
   "source": [
    "#O(n) - fast/slow pointers\n",
    "\n",
    "def splitList(head):\n",
    "    fast = slow = head\n",
    "    while(fast.next and fast.next.next):\n",
    "        fast = fast.next.next\n",
    "        slow = slow.next\n",
    "\n",
    "    middle = slow.next\n",
    "    slow.next = None\n",
    "    \n",
    "    return head, middle"
   ]
  },
  {
   "cell_type": "code",
   "execution_count": null,
   "metadata": {},
   "outputs": [],
   "source": [
    "head = arrayToList([1,2,3,4,5,6,7,8,9])\n",
    "h1,h2 = splitList(head)\n",
    "print(listToArray(h1),listToArray(h2))"
   ]
  },
  {
   "cell_type": "markdown",
   "metadata": {},
   "source": [
    "### 37. How will you check if the linked list is a palindrome or not"
   ]
  },
  {
   "cell_type": "code",
   "execution_count": null,
   "metadata": {},
   "outputs": [],
   "source": [
    "#O(n) - split, reverse, compare, combine using only LL\n",
    "\n",
    "def palindromeLL(head):\n",
    "    \n",
    "    def splitList(head):\n",
    "        fast = slow = head\n",
    "        while(fast.next and fast.next.next):\n",
    "            fast = fast.next.next\n",
    "            slow = slow.next\n",
    "\n",
    "        middle = slow.next\n",
    "        slow.next = None\n",
    "\n",
    "        return head, middle\n",
    "    \n",
    "    def reverse(head):\n",
    "        prev = None\n",
    "        node = head\n",
    "        while(node):\n",
    "            nextNode = node.next\n",
    "            node.next = prev\n",
    "            prev = node\n",
    "            node = nextNode\n",
    "        return prev\n",
    "    \n",
    "    def combine(h1,h2):\n",
    "        node = h1\n",
    "        while(node.next):\n",
    "            node = node.next\n",
    "        h2 = reverse(h2)\n",
    "        node.next = h2\n",
    "        return h1\n",
    "    \n",
    "    def compare(h1,h2):\n",
    "        node1 = h1\n",
    "        node2 = h2\n",
    "        while(node2):\n",
    "            if node1.val != node2.val:\n",
    "                return False\n",
    "            node1 = node1.next\n",
    "            node2 = node2.next\n",
    "        return True\n",
    "    \n",
    "    h1,h2 = splitList(head)\n",
    "    h2 = reverse(h2)\n",
    "    res = compare(h1,h2)\n",
    "    head = combine(h1,h2)\n",
    "    \n",
    "    return res"
   ]
  },
  {
   "cell_type": "code",
   "execution_count": null,
   "metadata": {},
   "outputs": [],
   "source": [
    "head = arrayToList([1,2,1,3,1])\n",
    "palindromeLL(head)"
   ]
  },
  {
   "cell_type": "code",
   "execution_count": null,
   "metadata": {},
   "outputs": [],
   "source": [
    "#O(n) - using stacks\n",
    "\n",
    "def palindromeLL2(head):\n",
    "    stack = []\n",
    "    fast = slow = head\n",
    "    while(fast and fast.next):\n",
    "        stack.append(slow.val)\n",
    "        fast = fast.next.next\n",
    "        slow = slow.next\n",
    "    \n",
    "    if fast:\n",
    "        slow = slow.next\n",
    "\n",
    "    while(slow):\n",
    "        if slow.val != stack.pop():\n",
    "            return False\n",
    "        slow = slow.next\n",
    "    return True"
   ]
  },
  {
   "cell_type": "code",
   "execution_count": null,
   "metadata": {},
   "outputs": [],
   "source": [
    "head = arrayToList([1,3,4,4,3,1])\n",
    "palindromeLL2(head)"
   ]
  },
  {
   "cell_type": "markdown",
   "metadata": {},
   "source": [
    "### 38. For a given K value (K>0), reverse blocks of K nodes in a linked list"
   ]
  },
  {
   "cell_type": "code",
   "execution_count": null,
   "metadata": {},
   "outputs": [],
   "source": [
    "#O(n)\n",
    "\n",
    "def reverseKBlocks(head,k):\n",
    "    \n",
    "    def reverseList(start,end):\n",
    "        alreadyReversed = start\n",
    "        actual = start\n",
    "        nextNode = start.next\n",
    "        while(actual != end):\n",
    "            actual = nextNode\n",
    "            nextNode = nextNode.next\n",
    "            actual.next = alreadyReversed\n",
    "            alreadyReversed = actual\n",
    "    \n",
    "    temp = ListNode(-1,head)\n",
    "    prev = temp\n",
    "    \n",
    "    while True:\n",
    "        first = prev.next\n",
    "        last = prev\n",
    "        for i in range(k):\n",
    "            last = last.next\n",
    "            if not last:\n",
    "                return temp.next\n",
    "        nextBlock = last.next\n",
    "        \n",
    "        reverseList(first,last)\n",
    "        \n",
    "        prev.next = last\n",
    "        first.next = nextBlock\n",
    "        prev = first"
   ]
  },
  {
   "cell_type": "code",
   "execution_count": null,
   "metadata": {},
   "outputs": [],
   "source": [
    "head = arrayToList([1,2,3,4,5,6,7,8,9,10])\n",
    "listToArray(reverseKBlocks(head,4))"
   ]
  },
  {
   "cell_type": "markdown",
   "metadata": {},
   "source": [
    "### 40. Delete every mth position in a circular linked list, until the list has no nodes."
   ]
  },
  {
   "cell_type": "code",
   "execution_count": null,
   "metadata": {},
   "outputs": [],
   "source": [
    "def getJosephusPos(head,n,m):\n",
    "    ans = []\n",
    "    \n",
    "    node = head\n",
    "    count = 0\n",
    "    \n",
    "    prev = head\n",
    "    while(n > 1):\n",
    "        prev = prev.next\n",
    "        n -= 1\n",
    "        \n",
    "    while(node.next != node):\n",
    "        count += 1\n",
    "        \n",
    "        if count == m:\n",
    "            count = 0\n",
    "            prev.next = node.next\n",
    "            ans.append(node.val)\n",
    "        else:\n",
    "            prev = node\n",
    "        \n",
    "        node = node.next\n",
    "\n",
    "\n",
    "    ans.append(node.val)\n",
    "    return ans"
   ]
  },
  {
   "cell_type": "code",
   "execution_count": null,
   "metadata": {},
   "outputs": [],
   "source": [
    "head = arrayToCirList([0,1,2,3,4,5,6,7,8,9])\n",
    "getJosephusPos(head,10,3)"
   ]
  },
  {
   "cell_type": "markdown",
   "metadata": {},
   "source": []
  },
  {
   "cell_type": "code",
   "execution_count": null,
   "metadata": {},
   "outputs": [],
   "source": [
    "def cloneLL(head):\n",
    "    temp = {}\n",
    "    \n",
    "    node = head\n",
    "    root = RandListNode(-1)\n",
    "    prev = root\n",
    "    while(node):\n",
    "        new = RandListNode(node.val)\n",
    "        temp[node] = new\n",
    "        \n",
    "        prev.next = new\n",
    "        prev = new\n",
    "        node = node.next\n",
    "    \n",
    "    node = head\n",
    "    while(node):\n",
    "        t = temp[]"
   ]
  },
  {
   "cell_type": "markdown",
   "metadata": {},
   "source": [
    "### 45. Find modular node"
   ]
  },
  {
   "cell_type": "code",
   "execution_count": null,
   "metadata": {},
   "outputs": [],
   "source": [
    "def modularNode(head,k):\n",
    "    node = head\n",
    "    i = 1\n",
    "    \n",
    "    mod = None\n",
    "    while(node):\n",
    "        if i%k == 0:\n",
    "            mod = node\n",
    "        i += 1\n",
    "        node = node.next\n",
    "    return mod"
   ]
  },
  {
   "cell_type": "code",
   "execution_count": null,
   "metadata": {},
   "outputs": [],
   "source": [
    "head = arrayToList([1,2,3,4,5,6,7,8,9,10,11])\n",
    "printNode(modularNode(head,3))"
   ]
  },
  {
   "cell_type": "markdown",
   "metadata": {},
   "source": [
    "### 46. Find modular node from the end"
   ]
  },
  {
   "cell_type": "code",
   "execution_count": null,
   "metadata": {},
   "outputs": [],
   "source": [
    "def modularEndNode(head,k):\n",
    "    node = head\n",
    "    i = 1\n",
    "\n",
    "    while(node):\n",
    "        if i%k == 0:\n",
    "            return node\n",
    "        i += 1\n",
    "        node = node.next\n",
    "    return None"
   ]
  },
  {
   "cell_type": "code",
   "execution_count": null,
   "metadata": {},
   "outputs": [],
   "source": [
    "head = arrayToList([1,2,3,4,5,6,7,8,9,10,11])\n",
    "printNode(modularEndNode(head,3))"
   ]
  },
  {
   "cell_type": "markdown",
   "metadata": {},
   "source": [
    "### 47. Find fractional node"
   ]
  },
  {
   "cell_type": "code",
   "execution_count": null,
   "metadata": {},
   "outputs": [],
   "source": [
    "def fractionalNode(head,k):\n",
    "    frac = None\n",
    "    i = 0\n",
    "    node = head\n",
    "    while(node):\n",
    "        if i%k == 0:\n",
    "            if frac == None:\n",
    "                frac = head\n",
    "            else:\n",
    "                frac = frac.next\n",
    "        i += 1\n",
    "        node = node.next\n",
    "    return frac"
   ]
  },
  {
   "cell_type": "code",
   "execution_count": null,
   "metadata": {},
   "outputs": [],
   "source": [
    "head = arrayToList([1,2,3,4,5])\n",
    "printNode(fractionalNode(head,20))"
   ]
  },
  {
   "cell_type": "markdown",
   "metadata": {},
   "source": [
    "### 48. Find sq root th node"
   ]
  },
  {
   "cell_type": "code",
   "execution_count": null,
   "metadata": {},
   "outputs": [],
   "source": [
    "#O(n)\n",
    "\n",
    "def sqrtNode(head):\n",
    "    \n",
    "    node = head\n",
    "    sqrt = None\n",
    "    i = j = 1\n",
    "    while(node):\n",
    "        if i == j*j:\n",
    "            if sqrt == None:\n",
    "                sqrt = head\n",
    "            else:\n",
    "                sqrt = sqrt.next\n",
    "            j += 1\n",
    "        i += 1\n",
    "        node = node.next\n",
    "    return sqrt"
   ]
  },
  {
   "cell_type": "code",
   "execution_count": null,
   "metadata": {},
   "outputs": [],
   "source": [
    "head = arrayToList([1,2,3,4,5,6,7,8])\n",
    "printNode(sqrtNode(head))"
   ]
  },
  {
   "cell_type": "markdown",
   "metadata": {},
   "source": [
    "### 49. Merge two sorted linked lists"
   ]
  },
  {
   "cell_type": "code",
   "execution_count": null,
   "metadata": {},
   "outputs": [],
   "source": [
    "#O(min(m,n))\n",
    "\n",
    "def merge2SortedLL(head1,head2):\n",
    "    node3 = ListNode(-1)\n",
    "    res = node3\n",
    "    \n",
    "    while(head1 and head2):\n",
    "        if head1.val < head2.val:\n",
    "            node3.next = head1\n",
    "            head1 = head1.next\n",
    "        else:\n",
    "            node3.next = head2\n",
    "            head2 = head2.next\n",
    "        \n",
    "        node3 = node3.next\n",
    "    \n",
    "    if head1:\n",
    "        node3.next = head1\n",
    "    if head2:\n",
    "        node3.next = head2\n",
    "        \n",
    "    return res.next"
   ]
  },
  {
   "cell_type": "code",
   "execution_count": null,
   "metadata": {},
   "outputs": [],
   "source": [
    "head1,head2 = arrayToList([1,3,5,7,9]), arrayToList([2,4,6,8,10])\n",
    "listToArray(merge2SortedLL(head1,head2))"
   ]
  },
  {
   "cell_type": "markdown",
   "metadata": {},
   "source": [
    "### 51. Sort linked list such that all even appear before all odd "
   ]
  },
  {
   "cell_type": "code",
   "execution_count": null,
   "metadata": {},
   "outputs": [],
   "source": [
    "#O(n)\n",
    "\n",
    "def exchangeEvenOdd(head):\n",
    "    even = ListNode(-1)\n",
    "    even_start = even\n",
    "    \n",
    "    while(head.val%2==0):\n",
    "        even.next = head\n",
    "        even = even.next\n",
    "        head = head.next\n",
    "    odd_start = head\n",
    "    \n",
    "    node = head\n",
    "    while(node.next):\n",
    "        if(node.next.val % 2 == 0):\n",
    "            even.next = node.next\n",
    "            node.next = node.next.next\n",
    "            even = even.next\n",
    "        else:\n",
    "            node = node.next\n",
    "    \n",
    "    even.next = odd_start\n",
    "    return even_start.next"
   ]
  },
  {
   "cell_type": "code",
   "execution_count": null,
   "metadata": {},
   "outputs": [],
   "source": [
    "head = arrayToList([1,2,3,4,5,6,7,8,9])\n",
    "listToArray(exchangeEvenOdd(head))"
   ]
  },
  {
   "cell_type": "markdown",
   "metadata": {},
   "source": [
    "### 52. Add the values of 2 linked list (1 -> 1 + 1 -> 2 = 2 -> 3)"
   ]
  },
  {
   "cell_type": "code",
   "execution_count": null,
   "metadata": {},
   "outputs": [],
   "source": [
    "#O(max(len(LL1),len(LL2)))\n",
    "\n",
    "def add2LL(head1,head2):\n",
    "    \n",
    "    def reverseLL(head):\n",
    "        prev = None\n",
    "        node = head\n",
    "        while(node):\n",
    "            nodeNext = node.next\n",
    "            node.next = prev\n",
    "            prev = node\n",
    "            node = nodeNext\n",
    "        return prev\n",
    "    \n",
    "    def lengthLL(head):\n",
    "        l = 0\n",
    "        while(head):\n",
    "            l += 1\n",
    "            head = head.next\n",
    "        return l\n",
    "    \n",
    "    def appendKZeroes(k,head):\n",
    "        node = head\n",
    "        while(node.next):\n",
    "            node = node.next\n",
    "        \n",
    "        while(k>0):\n",
    "            k -= 1\n",
    "            node.next = ListNode()\n",
    "            node = node.next\n",
    "    \n",
    "    def returnAddCarry(a,b,c):\n",
    "        add = a + b + c\n",
    "        return add%10, add//10\n",
    "    \n",
    "    head1, head2 = reverseLL(head1), reverseLL(head2)\n",
    "    \n",
    "    node1,node2 = head1,head2\n",
    "    l1,l2 = lengthLL(node1),lengthLL(node2)\n",
    "    if l1 > l2:\n",
    "        appendKZeroes(l1-l2,node2)\n",
    "    else:\n",
    "        appendKZeroes(l2-l1,node1)\n",
    "            \n",
    "    node3 = ListNode(-1)\n",
    "    res = node3\n",
    "    c = 0\n",
    "    while(node1 and node2):\n",
    "        a,c = returnAddCarry(node1.val,node2.val,c)\n",
    "        node3.next = ListNode(a)\n",
    "        node3 = node3.next\n",
    "        \n",
    "        node1 = node1.next\n",
    "        node2 = node2.next\n",
    "    \n",
    "    if c == 1:\n",
    "        node3.next = ListNode(1)\n",
    "    \n",
    "    return reverseLL(res.next)"
   ]
  },
  {
   "cell_type": "code",
   "execution_count": null,
   "metadata": {},
   "outputs": [],
   "source": [
    "head1,head2 = arrayToList([9,9]), arrayToList([9,9,9])\n",
    "listToArray(add2LL(head1,head2))"
   ]
  },
  {
   "cell_type": "markdown",
   "metadata": {},
   "source": [
    "### 53. Add all node values of single linked list using recursion"
   ]
  },
  {
   "cell_type": "code",
   "execution_count": null,
   "metadata": {},
   "outputs": [],
   "source": [
    "#O(n)\n",
    "\n",
    "def addNodeValues(node):\n",
    "    if node == None:\n",
    "        return 0\n",
    "    return node.val + addNodeValues(node.next)"
   ]
  },
  {
   "cell_type": "code",
   "execution_count": null,
   "metadata": {},
   "outputs": [],
   "source": [
    "head = arrayToList([1,2,3,4,5])\n",
    "addNodeValues(head)"
   ]
  },
  {
   "cell_type": "markdown",
   "metadata": {},
   "source": [
    "### 54. Give a sorted linked list, write a program to remove duplicates from it "
   ]
  },
  {
   "cell_type": "code",
   "execution_count": null,
   "metadata": {},
   "outputs": [],
   "source": [
    "#O(n)\n",
    "\n",
    "def removeDuplicatesLL(head):\n",
    "    node = head\n",
    "    while(node.next):\n",
    "        if node.val == node.next.val:\n",
    "            node.next = node.next.next\n",
    "        else:\n",
    "            node = node.next\n",
    "    return head"
   ]
  },
  {
   "cell_type": "code",
   "execution_count": null,
   "metadata": {},
   "outputs": [],
   "source": [
    "head = arrayToList([0,1,2,2,3,4,5,5,5,6,7,8,9,9])\n",
    "listToArray(removeDuplicatesLL(head))"
   ]
  },
  {
   "cell_type": "markdown",
   "metadata": {},
   "source": [
    "### [55. Given a list {a1, a2, a3..... an-1,an} , reorder it to {a1,an,a2,an-1...} without using extra space](https://leetcode.com/problems/reorder-list/)"
   ]
  },
  {
   "cell_type": "code",
   "execution_count": null,
   "metadata": {},
   "outputs": [],
   "source": [
    "#O(n) - split, reverse, merge\n",
    "\n",
    "def reorderLL(head):\n",
    "    \n",
    "    def splitLL(head):\n",
    "        fast = slow = head\n",
    "        while(fast.next and fast.next.next):\n",
    "            fast = fast.next.next\n",
    "            slow = slow.next\n",
    "        middle = slow.next\n",
    "        slow.next = None\n",
    "        return head, middle\n",
    "    \n",
    "    def reverseLL(head):\n",
    "        prev = None\n",
    "        node = head\n",
    "        while(node):\n",
    "            nodeNext = node.next\n",
    "            node.next = prev\n",
    "            prev = node\n",
    "            node = nodeNext\n",
    "        return prev\n",
    "        \n",
    "    def mergeLL(h1,h2):\n",
    "        node1,node2 = h1,h2\n",
    "        while(node2):\n",
    "            node1Next = node1.next\n",
    "            node2Next = node2.next\n",
    "            \n",
    "            node1.next = node2\n",
    "            node2.next = node1Next\n",
    "            \n",
    "            node1 = node1Next\n",
    "            node2 = node2Next\n",
    "        return h1\n",
    "            \n",
    "    h1,h2 = splitLL(head)    \n",
    "    h2 = reverseLL(h2)\n",
    "    \n",
    "    return mergeLL(h1,h2)"
   ]
  },
  {
   "cell_type": "code",
   "execution_count": null,
   "metadata": {},
   "outputs": [],
   "source": [
    "head = arrayToList([1,2,3,4,5,6,7,8,9])\n",
    "listToArray(reorderLL(head))"
   ]
  },
  {
   "cell_type": "code",
   "execution_count": 27,
   "metadata": {},
   "outputs": [],
   "source": [
    "#O(n) - using stacks\n",
    "\n",
    "def reorderLL2(head):\n",
    "    stack = []\n",
    "    node = head\n",
    "    while(node):\n",
    "        stack.append(node)\n",
    "        node = node.next\n",
    "    node = head\n",
    "    newtail = None\n",
    "    while(stack[-1] != node and newtail != node ):\n",
    "        nodeNext = node.next\n",
    "        newtail = stack.pop()\n",
    "        node.next = newtail\n",
    "        node.next.next = nodeNext\n",
    "        node = nodeNext\n",
    "    node.next = None\n",
    "    return head"
   ]
  },
  {
   "cell_type": "code",
   "execution_count": 31,
   "metadata": {},
   "outputs": [
    {
     "data": {
      "text/plain": [
       "[1, 3, 2]"
      ]
     },
     "execution_count": 31,
     "metadata": {},
     "output_type": "execute_result"
    }
   ],
   "source": [
    "head = arrayToList([1,2,3])\n",
    "listToArray(reorderLL2(head))"
   ]
  },
  {
   "cell_type": "markdown",
   "metadata": {},
   "source": [
    "### 56. Sort a Linked List by inserting values one by one"
   ]
  },
  {
   "cell_type": "code",
   "execution_count": 2,
   "metadata": {},
   "outputs": [],
   "source": [
    "def sort(head):\n",
    "    \n",
    "    def insertVal(head,val):\n",
    "        if val < head.val:\n",
    "            head = ListNode(val,head)\n",
    "            return\n",
    "\n",
    "        node = head\n",
    "        while(node.next and node.next.val < val):\n",
    "            node = node.next\n",
    "\n",
    "        node.next = ListNode(val,node.next)\n",
    "\n",
    "    dummy = ListNode(-1)\n",
    "    \n",
    "    node = head\n",
    "    while(node):\n",
    "        insertVal(dummy,node.val)\n",
    "        node = node.next\n",
    "    \n",
    "    return dummy.next"
   ]
  },
  {
   "cell_type": "code",
   "execution_count": 3,
   "metadata": {},
   "outputs": [
    {
     "data": {
      "text/plain": [
       "[0, 1, 1, 2, 3, 3, 4, 5, 6, 7, 8, 8, 9, 9]"
      ]
     },
     "execution_count": 3,
     "metadata": {},
     "output_type": "execute_result"
    }
   ],
   "source": [
    "head = arrayToList([4,3,5,9,1,0,8,7,6,1,2,3,9,8])\n",
    "listToArray(sort(head))"
   ]
  },
  {
   "cell_type": "markdown",
   "metadata": {},
   "source": [
    "### [57. Remove Duplicates from sorted Linked List](https://leetcode.com/problems/remove-duplicates-from-sorted-list/)"
   ]
  },
  {
   "cell_type": "code",
   "execution_count": 11,
   "metadata": {},
   "outputs": [],
   "source": [
    "def removeDuplicatesLL(head):\n",
    "    node = head\n",
    "    while(node.next):\n",
    "        if node.val == node.next.val:\n",
    "            node.next = node.next.next\n",
    "        else:\n",
    "            node = node.next\n",
    "    return head"
   ]
  },
  {
   "cell_type": "code",
   "execution_count": 12,
   "metadata": {},
   "outputs": [
    {
     "data": {
      "text/plain": [
       "[1, 2, 3, 4, 5]"
      ]
     },
     "execution_count": 12,
     "metadata": {},
     "output_type": "execute_result"
    }
   ],
   "source": [
    "head = arrayToList([1,2,2,2,3,4,5])\n",
    "listToArray(removeDuplicatesLL(head))"
   ]
  },
  {
   "cell_type": "markdown",
   "metadata": {},
   "source": [
    "### 58. Remove "
   ]
  },
  {
   "cell_type": "code",
   "execution_count": null,
   "metadata": {},
   "outputs": [],
   "source": []
  },
  {
   "cell_type": "code",
   "execution_count": null,
   "metadata": {},
   "outputs": [],
   "source": []
  }
 ],
 "metadata": {
  "kernelspec": {
   "display_name": "Python 3",
   "language": "python",
   "name": "python3"
  },
  "language_info": {
   "codemirror_mode": {
    "name": "ipython",
    "version": 3
   },
   "file_extension": ".py",
   "mimetype": "text/x-python",
   "name": "python",
   "nbconvert_exporter": "python",
   "pygments_lexer": "ipython3",
   "version": "3.6.9"
  }
 },
 "nbformat": 4,
 "nbformat_minor": 4
}
